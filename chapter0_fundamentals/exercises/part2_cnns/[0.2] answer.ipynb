{
 "cells": [
  {
   "cell_type": "markdown",
   "metadata": {},
   "source": [
    "Colab: [exercises](https://colab.research.google.com/drive/1sZpsnjN7gI4EucRcD0mCafN5Vg1DPOnm) | [solutions](https://colab.research.google.com/drive/1LDv8fB47OPKPp4C83CO_gTzaUE2bR-Ve)\n",
    "\n",
    "ARENA 3.0 [Streamlit page](https://arena3-chapter0-fundamentals.streamlit.app/[0.2]_CNNs_&_ResNets)\n",
    "\n",
    "Please send any problems / bugs on the `#errata` channel in the [Slack group](https://join.slack.com/t/arena-la82367/shared_invite/zt-1uvoagohe-JUv9xB7Vr143pdx1UBPrzQ), and ask any questions on the dedicated channels for this chapter of material.\n",
    "\n",
    "To view solutions for the exercises, see the Colab solutions page or the Streamlit page.\n"
   ]
  },
  {
   "cell_type": "markdown",
   "metadata": {},
   "source": [
    "# Introduction\n",
    "\n"
   ]
  },
  {
   "cell_type": "markdown",
   "metadata": {},
   "source": [
    "This section is designed to get you familiar with basic neural networks: how they are structured, the basic operations like linear layers and convolutions which go into making them, and why they work as well as they do. You'll start by making very simple neural networks, and by the end of today you'll build up to assembling ResNet34, a comparatively much more complicated architecture."
   ]
  },
  {
   "cell_type": "markdown",
   "metadata": {},
   "source": [
    "## Content & Learning Objectives\n"
   ]
  },
  {
   "cell_type": "markdown",
   "metadata": {},
   "source": [
    "### 1️⃣ Making your own modules\n",
    "\n",
    "In the first set of exercises, we'll cover the general structure of modules in PyTorch. You'll also implement your own basic modules, including for ReLU and Linear layers. You'll finish by assembling a very simple neural network.\n",
    "\n",
    "> ##### Learning objectives\n",
    ">\n",
    "> - Learn how to create your own modules in PyTorch, by inheriting from `nn.Module`\n",
    "> - Assemble the pieces together to create a simple fully-connected network, to classify MNIST digits\n",
    "\n",
    "### 2️⃣ Training Neural Networks\n",
    "\n",
    "Here, you'll learn how to write a training loop in PyTorch. We'll keep it simple for today (and later on we'll experiment with more modular and extensible designs).\n",
    "\n",
    "> ##### Learning objectives\n",
    ">\n",
    "> - Understand how to work with transforms, datasets and dataloaders\n",
    "> - Understand the basic structure of a training loop\n",
    "> - Learn how to write your own validation loop\n",
    "\n",
    "### 3️⃣ Convolutions\n",
    "\n",
    "In this section, you'll read about convolutions, and implement them as an `nn.Module` (not from scratch; we leave that to the bonus exercises). You'll also learn about maxpooling, and implement that as well.\n",
    "\n",
    "> ##### Learning Objectives\n",
    ">\n",
    "> * Learn how convolutions work, and why they are useful for vision models\n",
    "> * Implement your own convolutions, and maxpooling layers\n",
    "\n",
    "### 4️⃣ ResNets\n",
    "\n",
    "Here, you'll combine all the pieces you've learned so far to assemble ResNet34, a much more complex architecture used for image classification.\n",
    "\n",
    "> ##### Learning Objectives\n",
    ">\n",
    "> * Learn about skip connections, and how they help overcome the degradation problem\n",
    "> * Learn about batch normalization, and why it is used in training\n",
    "> * Assemble your own ResNet, and load in weights from PyTorch's ResNet implementation\n",
    "\n",
    "### 5️⃣ Bonus - Convolutions From Scratch\n",
    "\n",
    "This section takes you through the low-level details of how to actually implement convolutions. It's not necessary to understand this section to complete the exercises, but it's a good way to get a deeper understanding of how convolutions work.\n",
    "\n",
    "> ##### Learning objectives\n",
    ">\n",
    "> * Understand how array strides work, and why they're important for efficient linear operations\n",
    "> * Learn how to use `as_strided` to perform simple linear operations like trace and matrix multiplication\n",
    "> * Implement your own convolutions and maxpooling functions using stride-based methods\n",
    "\n",
    "### 6️⃣ Bonus - Feature Extraction\n",
    "\n",
    "In this section, you'll learn how to repurpose your ResNet to perform a different task than it was designed for, using feature extraction.\n",
    "\n",
    "> ##### Learning Objectives\n",
    ">\n",
    "> * Understand the difference between feature extraction and finetuning\n",
    "> * Perform feature extraction on a pre-trained ResNet"
   ]
  },
  {
   "cell_type": "markdown",
   "metadata": {},
   "source": [
    "## Setup (don't read, just run!)\n"
   ]
  },
  {
   "cell_type": "code",
   "execution_count": 1,
   "metadata": {},
   "outputs": [],
   "source": [
    "try:\n",
    "    import google.colab\n",
    "    IN_COLAB = True\n",
    "except:\n",
    "    IN_COLAB = False\n",
    "\n",
    "if IN_COLAB:\n",
    "    # Install packages\n",
    "    %pip install einops\n",
    "    %pip install jaxtyping\n",
    "\n",
    "    # Code to make sure output widgets display\n",
    "    from google.colab import output\n",
    "    output.enable_custom_widget_manager()\n",
    "\n",
    "    # Code to download the necessary files (e.g. solutions, test funcs)\n",
    "    import os, sys\n",
    "    if not os.path.exists(\"chapter0_fundamentals\"):\n",
    "        !wget https://github.com/callummcdougall/ARENA_3.0/archive/refs/heads/main.zip\n",
    "        !unzip /content/main.zip 'ARENA_3.0-main/chapter0_fundamentals/exercises/*'\n",
    "        os.remove(\"/content/main.zip\")\n",
    "        os.rename(\"ARENA_3.0-main/chapter0_fundamentals\", \"chapter0_fundamentals\")\n",
    "        os.rmdir(\"ARENA_3.0-main\")\n",
    "        sys.path.insert(0, \"chapter0_fundamentals/exercises\")\n",
    "\n",
    "    # Clear output\n",
    "    from IPython.display import clear_output\n",
    "    clear_output()\n",
    "    print(\"Imports & installations complete!\")\n",
    "\n",
    "else:\n",
    "    from IPython import get_ipython\n",
    "    ipython = get_ipython()\n",
    "    ipython.run_line_magic(\"load_ext\", \"autoreload\")\n",
    "    ipython.run_line_magic(\"autoreload\", \"2\")"
   ]
  },
  {
   "cell_type": "code",
   "execution_count": 2,
   "metadata": {},
   "outputs": [],
   "source": [
    "import os\n",
    "import sys\n",
    "import numpy as np\n",
    "import einops\n",
    "from typing import Union, Optional, Tuple, Dict, List\n",
    "import torch as t\n",
    "from torch import Tensor\n",
    "import torch.nn as nn\n",
    "import torch.nn.functional as F\n",
    "from jaxtyping import Float, Int\n",
    "import functools\n",
    "from pathlib import Path\n",
    "from torchvision import datasets, transforms, models\n",
    "from torch.utils.data import DataLoader, Subset\n",
    "from tqdm.notebook import tqdm\n",
    "from dataclasses import dataclass\n",
    "from PIL import Image\n",
    "import json\n",
    "\n",
    "# Get file paths to this set of exercises\n",
    "chapter = r\"chapter0_fundamentals\"\n",
    "exercises_dir = Path(f\"{os.getcwd().split(chapter)[0]}/{chapter}/exercises\").resolve()\n",
    "section_dir = exercises_dir / \"part2_cnns\"\n",
    "if str(exercises_dir) not in sys.path: sys.path.append(str(exercises_dir))\n",
    "\n",
    "from plotly_utils import imshow, line, bar\n",
    "import part2_cnns.tests as tests\n",
    "from part2_cnns.utils import print_param_count"
   ]
  },
  {
   "cell_type": "markdown",
   "metadata": {},
   "source": [
    "# 1️⃣ Making your own modules"
   ]
  },
  {
   "cell_type": "markdown",
   "metadata": {},
   "source": [
    "> ### Learning objectives\n",
    ">\n",
    "> - Learn how to create your own modules in PyTorch, by inheriting from `nn.Module`\n",
    "> - Assemble the pieces together to create a simple fully-connected network, to classify MNIST digits\n"
   ]
  },
  {
   "cell_type": "markdown",
   "metadata": {},
   "source": [
    "## Subclassing `nn.Module`\n",
    "\n",
    "One of the most basic parts of PyTorch that you will see over and over is the `nn.Module` class. All types of neural net components inherit from it, from the simplest `nn.Relu` to the most complex `nn.Transformer`. Often, a complex `nn.Module` will have sub-`Module`s which implement smaller pieces of its functionality.\n",
    "\n",
    "Other common `Module`s  you'll see include\n",
    "\n",
    "- `nn.Linear`, for fully-connected layers with or without a bias\n",
    "- `nn.Conv2d`, for a two-dimensional convolution (we'll see more of these in a future section)\n",
    "- `nn.Softmax`, which implements the [softmax](https://pytorch.org/docs/stable/generated/torch.nn.Softmax.html) function\n",
    "\n",
    "The list goes on, including activation functions, normalizations, pooling, attention, and more. You can see all the `Module`s that PyTorch provides [here](https://pytorch.org/docs/stable/nn.html). You can also create your own `Module`s, as we will do often!\n",
    "\n",
    "The `Module` class provides a lot of functionality, but we'll only cover a little bit of it here.\n",
    "\n",
    "In this section, we'll add another layer of abstraction to all the linear operations we've done in previous sections, by packaging them inside `nn.Module` objects."
   ]
  },
  {
   "cell_type": "markdown",
   "metadata": {},
   "source": [
    "### `__init__` and `forward`\n",
    "\n",
    "A subclass of `nn.Module` usually looks something like this:\n",
    "\n",
    "```python\n",
    "import torch.nn as nn\n",
    "\n",
    "class MyModule(nn.Module):\n",
    "    def __init__(self, arg1, arg2, ...):\n",
    "        super().__init__()\n",
    "        # Initialization code\n",
    "\n",
    "    def forward(self, x: t.Tensor) -> t.Tensor:\n",
    "        # Forward pass code\n",
    "```\n",
    "\n",
    "The initialization sets up attributes that will be used for the life of the `Module`, like its parameters, hyperparameters, or other sub-`Module`s it might need to use. These are usually added to the instance with something like `self.attribute = attr`, where `attr` might be provided as an argument. Some modules are simple enough that they don't need any persistent attributes, and in this case you can skip the `__init__`.\n",
    "\n",
    "The `forward` method is called on each forward pass of the `Module`, possibly using the attributes that were set up in the `__init__`. It should take in the input, do whatever it's supposed to do, and return the result. Subclassing `nn.Module` automatically makes instances of your class callable, so you can do `model(x)` on an input `x` to invoke the `forward` method."
   ]
  },
  {
   "cell_type": "markdown",
   "metadata": {},
   "source": [
    "### The `nn.Parameter` class\n",
    "\n",
    "A `nn.Parameter` is a special type of `Tensor`. Basically, this is the class that torch has provided for storing the weights and biases of a `Module`. It has some special properties for doing this:\n",
    "\n",
    "- If a `Parameter` is set as an attribute of a `Module`, it will be auto-detected by torch and returned when you call `module.parameters()` (along with all the other `Parameters` associated with the `Module`, or any of the `Module`'s sub-modules!).\n",
    "- This makes it easy to pass all the parameters of a model into an optimizer and update them all at once.\n",
    "\n",
    "When you create a `Module` that has weights or biases, be sure to wrap them in `nn.Parameter` so that torch can detect and update them appropriately:\n",
    "\n",
    "```python\n",
    "class MyModule(nn.Module):\n",
    "    def __init__(self, weights: t.Tensor, biases: t.Tensor):\n",
    "        super().__init__()\n",
    "        self.weights = nn.Parameter(weights) # wrapping a tensor in nn.Parameter\n",
    "        self.biases = nn.Parameter(biases)\n",
    "```"
   ]
  },
  {
   "cell_type": "markdown",
   "metadata": {},
   "source": [
    "### Printing information with `extra_repr`\n",
    "\n",
    "Another useful method is called `extra_repr`. This allows you to format the string representation of your `Module` in a way that's more informative than the default. For example, the following:\n",
    "\n",
    "```python\n",
    "class MyModule(nn.Module):\n",
    "    def __init__(self, arg1, arg2, ...):\n",
    "        super().__init__()\n",
    "        # Initialization code\n",
    "\n",
    "    def extra_repr(self) -> str:\n",
    "        return f\"arg1={self.arg1}, arg2={self.arg2}, ...\"\n",
    "```\n",
    "\n",
    "will result in the output `\"MyModule(arg1=arg1, arg2=arg2, ...)\"` when you print an instance of this module. You might want to take this opportunity to print out useful invariant information about the module. The Python built-in function `getattr` might be helpful here (it can be used e.g. as `getattr(self, \"arg1\")`, which returns the same as `self.arg1` would). For simple modules, it's fine not to implement `extra_repr`."
   ]
  },
  {
   "cell_type": "markdown",
   "metadata": {},
   "source": [
    "## ReLU\n",
    "\n",
    "The first module you should implement is `ReLU`. This will relatively simple, since it doesn't involve any argument (so we only need to implement `forward`). Make sure you look at the PyTorch documentation page for [ReLU](https://pytorch.org/docs/stable/generated/torch.nn.ReLU.html) so that you're comfortable with what they do and why they're useful in neural networks."
   ]
  },
  {
   "cell_type": "markdown",
   "metadata": {},
   "source": [
    "### Exercise - implement `ReLU`\n",
    "\n",
    "```yaml\n",
    "Difficulty: 🔴🔴⚪⚪⚪\n",
    "Importance: 🔵🔵🔵⚪⚪\n",
    "\n",
    "You should spend up to ~10 minutes on this exercise.\n",
    "```\n",
    "\n",
    "You should fill in the `forward` method of the `ReLU` class below."
   ]
  },
  {
   "cell_type": "code",
   "execution_count": 3,
   "metadata": {},
   "outputs": [
    {
     "name": "stdout",
     "output_type": "stream",
     "text": [
      "All tests in `test_relu` passed!\n"
     ]
    }
   ],
   "source": [
    "class ReLU(nn.Module):\n",
    "    def forward(self, x: t.Tensor) -> t.Tensor:\n",
    "        return t.maximum(x, t.tensor(0.0))\n",
    "\n",
    "tests.test_relu(ReLU)"
   ]
  },
  {
   "cell_type": "markdown",
   "metadata": {},
   "source": [
    "## Linear\n",
    "\n",
    "Now implement your own `Linear` module. This applies a simple linear transformation, with a weight matrix and optional bias vector. The PyTorch documentation page is [here](https://pytorch.org/docs/stable/generated/torch.nn.Linear.html). Note that this is the first `Module` you'll implement that has learnable weights and biases.\n",
    "\n",
    "<details>\n",
    "<summary>Question - what type should these variables be?</summary>\n",
    "\n",
    "They have to be `torch.Tensor` objects wrapped in `nn.Parameter` in order for `nn.Module` to recognize them. If you forget to do this, `module.parameters()` won't include your `Parameter`, which prevents an optimizer from being able to modify it during training.\n",
    "        \n",
    "Also, in tomorrow's exercises we'll be building a ResNet and loading in weights from a pretrained model, and this is hard to do if you haven't registered all your parameters!\n",
    "</details>\n",
    "\n",
    "For any layer, initialization is very important for the stability of training: with a bad initialization, your model will take much longer to converge or may completely fail to learn anything. The default PyTorch behavior isn't necessarily optimal and you can often improve performance by using something more custom, but we'll follow it for today because it's simple and works decently well.\n",
    "\n",
    "Each float in the weight and bias tensors are drawn independently from the uniform distribution on the interval:\n",
    "\n",
    "$$\n",
    "\\bigg[-\\frac{1}{\\sqrt{N_{in}}}, \\frac{1}{\\sqrt{N_{in}}}\\bigg]\n",
    "$$\n",
    "\n",
    "where $N_{in}$ is the number of inputs contributing to each output value. The rough intuition for this is that it keeps the variance of the activations at each layer constant, since each one is calculated by taking the sum over $N_{in}$ inputs multiplied by the weights (and standard deviation of the sum of independent random variables scales as the square root of number of variables).\n",
    "\n",
    "The name for this is **Kaiming (uniform) initialisation**.\n",
    "\n",
    "<details>\n",
    "<summary>Technical details (derivation of distribution)</summary>\n",
    "\n",
    "The key intuition behind Kaiming initialisation (and others like it) is that we want the variance of our activations to be the same through all layers of the model when we initialize. Suppose $x$ and $y$ are activations from two adjacent layers, and $w$ are the weights connecting them (so we have $y_i = \\sum_j w_{ij} x_j + b_i$, where $b$ is the bias). With $N_{x}$ as the number of neurons in layer $x$, we have:\n",
    "\n",
    "$$\n",
    "\\begin{aligned}\n",
    "\\operatorname{Var}\\left(y_i\\right)=\\sigma_x^2 & =\\operatorname{Var}\\left(\\sum_j w_{i j} x_j\\right) \\\\\n",
    "& =\\sum_j \\operatorname{Var}\\left(w_{i j} x_j\\right) \\quad \\text { Inputs and weights are independent of each other } \\\\\n",
    "& =\\sum_j \\operatorname{Var}\\left(w_{i j}\\right) \\cdot \\operatorname{Var}\\left(x_j\\right) \\quad \\text { Variance of product of independent RVs with zero mean is product of variances } \\\\\n",
    "& = N_x \\cdot \\sigma_x^2 \\cdot \\operatorname{Var}\\left(w_{i j}\\right) \\quad \\text { Variance equal for all } N_x \\text { neurons, call this value } \\sigma_x^2\n",
    "\\end{aligned}\n",
    "$$\n",
    "\n",
    "For this to be the same as $\\sigma_x^2$, we need $\\operatorname{Var}(w_{ij}) = \\frac{1}{N_x}$, so the standard deviation is $\\frac{1}{\\sqrt{N_x}}$.\n",
    "\n",
    "This is not exactly the case for the Kaiming uniform distribution (which has variance $\\frac{12}{(2 \\sqrt{N_x})^2} = \\frac{3}{N_x}$), and as far as I'm aware there's no principled reason why PyTorch does this. But the most important thing is that the variance scales as $O(1 / N_x)$, rather than what the exact scaling constant is.\n",
    "\n",
    "There are other initializations with some theoretical justification. For instance, **Xavier initialization** has a uniform distribution in the interval:\n",
    "\n",
    "$$\n",
    "\\bigg[-\\frac{\\sqrt{6}}{\\sqrt{N_{in} + N_{out} + 1}}, \\frac{\\sqrt{6}}{\\sqrt{N_{in} + N_{out} + 1}}\\bigg]\n",
    "$$\n",
    "\n",
    "which is motivated by the idea of both keeping the variance of activations constant and keeping the ***gradients*** constant when we backpropagate.\n",
    "\n",
    "However, you don't need to worry about any of this here, just implement Kaiming He uniform with a bound of $\\frac{1}{\\sqrt{N_{in}}}$!\n",
    "</details>"
   ]
  },
  {
   "cell_type": "markdown",
   "metadata": {},
   "source": [
    "### Exercise - implement `Linear`\n",
    "\n",
    "```yaml\n",
    "Difficulty: 🔴🔴⚪⚪⚪\n",
    "Importance: 🔵🔵🔵🔵⚪\n",
    "\n",
    "You should spend up to ~10 minutes on this exercise.\n",
    "```\n",
    "\n",
    "Remember, you should define the weights (and bias, if appropriate) in the `__init__` block. Also, make sure not to mix up `bias` (which is the boolean parameter to `__init__`) and `self.bias` (which should either be the actual bias tensor, or `None` if `bias` is false)."
   ]
  },
  {
   "cell_type": "code",
   "execution_count": 4,
   "metadata": {},
   "outputs": [
    {
     "name": "stdout",
     "output_type": "stream",
     "text": [
      "All tests in `test_linear_forward` passed!\n",
      "All tests in `test_linear_parameters` passed!\n",
      "All tests in `test_linear_no_bias` passed!\n"
     ]
    }
   ],
   "source": [
    "class Linear(nn.Module):\n",
    "    def __init__(self, in_features: int, out_features: int, bias=True):\n",
    "        '''\n",
    "        A simple linear (technically, affine) transformation.\n",
    "\n",
    "        The fields should be named `weight` and `bias` for compatibility with PyTorch.\n",
    "        If `bias` is False, set `self.bias` to None.\n",
    "        '''\n",
    "        super().__init__()\n",
    "\n",
    "        # == solution ==\n",
    "        self.in_features = in_features\n",
    "        self.out_features = out_features\n",
    "        self.bias = bias\n",
    "\n",
    "        sf = 1 / np.sqrt(in_features)\n",
    "\n",
    "        # rand範圍為 [0,1) ，乘以 2 後，範圍變為 [0, 2) ， 減去 1 後，範圍變為 [-1, 1)\n",
    "        weight = sf*(t.rand(out_features,in_features) *2 - 1)\n",
    "        self.weight = nn.Parameter(weight)\n",
    "\n",
    "        if bias is True:\n",
    "            bias = sf*(t.rand(out_features)*2 -1)\n",
    "            self.bias = nn.Parameter(bias)\n",
    "        else:\n",
    "            self.bias = None\n",
    "\n",
    "    def forward(self, x: t.Tensor) -> t.Tensor:\n",
    "        '''\n",
    "        x: shape (*, in_features)\n",
    "        Return: shape (*, out_features)\n",
    "        '''\n",
    "        # Y = self.weight @ x.T  # -> Y = [out_features, batch]\n",
    "        # Y = Y.T                # -> Y = [batch, out_features]\n",
    "\n",
    "        Y = einops.einsum(x,self.weight,\"... in_feats, out_feats in_feats ->... out_feats\")\n",
    "\n",
    "        if self.bias is not None:\n",
    "            Y += self.bias\n",
    "        return Y\n",
    "    def extra_repr(self) -> str:\n",
    "        # SOLUTION\n",
    "        # note, we need to use `self.bias is not None`, because `self.bias` is either a tensor or None, not bool\n",
    "        return f\"in_features={self.in_features}, out_features={self.out_features}, bias={self.bias is not None}\"\n",
    "\n",
    "\n",
    "tests.test_linear_forward(Linear)\n",
    "tests.test_linear_parameters(Linear)\n",
    "tests.test_linear_no_bias(Linear)"
   ]
  },
  {
   "cell_type": "markdown",
   "metadata": {},
   "source": [
    "<details>\n",
    "<summary>Help - when I print my Linear module, it also prints a large tensor.</summary>\n",
    "\n",
    "This is because you've (correctly) defined `self.bias` as either `torch.Tensor` or `None`, rather than set it to the boolean value of `bias` used in initialisation.\n",
    "        \n",
    "To fix this, you will need to change `extra_repr` so that it prints the boolean value of `bias` rather than the value of `self.bias`.\n",
    "</details>"
   ]
  },
  {
   "cell_type": "markdown",
   "metadata": {},
   "source": [
    "## Flatten\n",
    "\n",
    "Lastly, we'll implement `Flatten`. This is a standardised way to rearrange our tensors so that they can be fed into a linear layer. It's a bit like `einops.flatten`, but more specialised (we recommend you use the torch `reshape` method rather than `einops` for this exercise, although it is possible to use einops)."
   ]
  },
  {
   "cell_type": "markdown",
   "metadata": {},
   "source": [
    "### Exercise - implement `Flatten`\n",
    "\n",
    "```c\n",
    "Difficulty: 🔴🔴🔴🔴⚪\n",
    "Importance: 🔵🔵🔵⚪⚪\n",
    "\n",
    "You should spend up to 10-15 minutes on this exercise.\n",
    "```"
   ]
  },
  {
   "cell_type": "code",
   "execution_count": 5,
   "metadata": {},
   "outputs": [
    {
     "name": "stdout",
     "output_type": "stream",
     "text": [
      "All tests in `test_flatten` passed!\n"
     ]
    }
   ],
   "source": [
    "class Flatten(nn.Module):\n",
    "    def __init__(self, start_dim: int = 1, end_dim: int = -1) -> None:\n",
    "        super().__init__()\n",
    "        self.start_dim = start_dim\n",
    "        self.end_dim = end_dim\n",
    "\n",
    "    def forward(self, input: t.Tensor) -> t.Tensor:\n",
    "        '''\n",
    "        Flatten out dimensions from start_dim to end_dim, inclusive of both.\n",
    "        '''\n",
    "        shape = input.shape\n",
    "\n",
    "        start_dim = self.start_dim\n",
    "        end_dim = self.end_dim if self.end_dim >= 0 else len(shape) + self.end_dim\n",
    "\n",
    "        shape_left = shape[:start_dim]\n",
    "\n",
    "        # shape_middle = t.prod(t.tensor(shape[start_dim : end_dim+1])).item()\n",
    "        shape_middle = functools.reduce(lambda x, y: x*y, shape[start_dim : end_dim+1])\n",
    "        shape_right = shape[end_dim+1:]\n",
    "\n",
    "        new_shape = shape_left + (shape_middle,) + shape_right\n",
    "        \n",
    "        return t.reshape(input, new_shape)\n",
    "    def extra_repr(self) -> str:\n",
    "        return \", \".join([f\"{key}={getattr(self, key)}\" for key in [\"start_dim\", \"end_dim\"]])\n",
    "\n",
    "\n",
    "tests.test_flatten(Flatten)"
   ]
  },
  {
   "cell_type": "markdown",
   "metadata": {},
   "source": [
    "<details>\n",
    "<summary>Help - I can't figure out what shape the output should be in Flatten.</summary>\n",
    "\n",
    "If `input.shape = (n0, n1, ..., nk)`, and the `Flatten` module has `start_dim=i, end_dim=j`, then the new shape should be `(n0, n1, ..., ni*...*nj, ..., nk)`. This is because we're **flattening** over the dimensions `(ni, ..., nj)`.\n",
    "\n",
    "</details>\n",
    "\n",
    "<details>\n",
    "<summary>Help - I can't see why my Flatten module is failing the tests.</summary>\n",
    "\n",
    "The most common reason is failing to correctly handle indices. Make sure that:\n",
    "* You're indexing up to **and including** `end_dim`.\n",
    "* You're correctly managing the times when `end_dim` is negative (e.g. if `input` is an nD tensor, and `end_dim=-1`, this should be interpreted as `end_dim=n-1`).\n",
    "</details>"
   ]
  },
  {
   "cell_type": "markdown",
   "metadata": {},
   "source": [
    "## Simple Multi-Layer Perceptron\n",
    "\n",
    "Now, we can put together these two modules to create a neural network. We'll create one of the simplest networks which can be used to separate data that is non-linearly separable: a single linear layer, followed by a nonlinear function (ReLU), followed by another linear layer. This type of architecture (alternating linear layers and nonlinear functions) is often called a **multi-layer perceptron** (MLP).\n",
    "\n",
    "The output of this network will have 10 dimensions, corresponding to the 10 classes of MNIST digits. We can then use the **softmax function** $x_i \\to \\frac{e^{x_i}}{\\sum_i e^{x_i}}$ to turn these values into probabilities. However, it's common practice for the output of a neural network to be the values before we take softmax, rather than after. We call these pre-softmax values the **logits**.\n",
    "\n",
    "<details>\n",
    "<summary>Question - can you see what makes logits non-unique (i.e. why any given set of probabilities might correspond to several different possible sets of logits)?</summary>\n",
    "\n",
    "Logits are **translation invariant**. If you add some constant $c$ to all logits $x_i$, then the new probabilities are:\n",
    "\n",
    "$$\n",
    "p_i' = \\frac{e^{x_i + c}}{\\sum_j e^{x_j + c}} = \\frac{e^{x_i}}{\\sum_j e^{x_j}} = p_i\n",
    "$$\n",
    "\n",
    "in other words, the probabilities don't change.\n",
    "\n",
    "We can define **logprobs** as the log of the probabilities, i.e. $y_i = \\log p_i$. Unlike logits, these are uniquely defined.\n",
    "\n",
    "</details>"
   ]
  },
  {
   "cell_type": "markdown",
   "metadata": {},
   "source": [
    "### Exercise - implement the simple MLP\n",
    "\n",
    "```yaml\n",
    "Difficulty: 🔴🔴🔴⚪⚪\n",
    "Importance: 🔵🔵🔵🔵⚪\n",
    "\n",
    "You should spend up to ~20 minutes on this exercise.\n",
    "```\n",
    "\n",
    "The diagram below shows what your MLP should look like:\n",
    "\n",
    "<img src=\"https://raw.githubusercontent.com/callummcdougall/computational-thread-art/master/example_images/misc/mlp-mermaid.svg\" width=\"170\">\n",
    "\n",
    "Please ask a TA (or message the Slack group) if any part of this diagram is unclear."
   ]
  },
  {
   "cell_type": "code",
   "execution_count": 6,
   "metadata": {},
   "outputs": [
    {
     "name": "stdout",
     "output_type": "stream",
     "text": [
      "All tests in `test_mlp` passed!\n"
     ]
    }
   ],
   "source": [
    "class SimpleMLP(nn.Module):\n",
    "    def __init__(self):\n",
    "        super().__init__()\n",
    "        self.flatten = Flatten()\n",
    "        self.linear1 = Linear(in_features=28*28,out_features=100)\n",
    "        self.linear2 = Linear(in_features=100, out_features=10)\n",
    "        self.ReLU = ReLU()\n",
    "\n",
    "    def forward(self, x: t.Tensor) -> t.Tensor:\n",
    "        return self.linear2(self.ReLU(self.linear1(self.flatten(x))))\n",
    "\n",
    "\n",
    "tests.test_mlp(SimpleMLP)"
   ]
  },
  {
   "cell_type": "markdown",
   "metadata": {},
   "source": [
    "In the next section, we'll learn how to train and evaluate our model on real data.\n"
   ]
  },
  {
   "cell_type": "markdown",
   "metadata": {},
   "source": [
    "# 2️⃣ Training Neural Networks"
   ]
  },
  {
   "cell_type": "markdown",
   "metadata": {},
   "source": [
    "## Transforms, Datasets & DataLoaders\n",
    "\n",
    "### Learning objectives  \n",
    "- Understand how to work with transforms, datasets and dataloaders\n",
    "- Understand the basic structure of a training loop\n",
    "- Learn how to write your own validation loop\n",
    "\n",
    "Before we use this model to make any predictions, we first need to think about our input data. Below is a block of code to fetch and process MNIST data. We will go through it line by line.\n"
   ]
  },
  {
   "cell_type": "code",
   "execution_count": 7,
   "metadata": {},
   "outputs": [],
   "source": [
    "MNIST_TRANSFORM = transforms.Compose([\n",
    "    transforms.ToTensor(),\n",
    "    transforms.Normalize((0.1307,), (0.3081,))\n",
    "])\n",
    "\n",
    "def get_mnist(subset: int = 1):\n",
    "    '''Returns MNIST training data, sampled by the frequency given in `subset`.'''\n",
    "    mnist_trainset = datasets.MNIST(root=\"./data\", train=True, download=True, transform=MNIST_TRANSFORM)\n",
    "    mnist_testset = datasets.MNIST(root=\"./data\", train=False, download=True, transform=MNIST_TRANSFORM)\n",
    "\n",
    "    if subset > 1:\n",
    "        mnist_trainset = Subset(mnist_trainset, indices=range(0, len(mnist_trainset), subset))\n",
    "        mnist_testset = Subset(mnist_testset, indices=range(0, len(mnist_testset), subset))\n",
    "\n",
    "    return mnist_trainset, mnist_testset\n",
    "\n",
    "\n",
    "mnist_trainset, mnist_testset = get_mnist()\n",
    "mnist_trainloader = DataLoader(mnist_trainset, batch_size=64, shuffle=True)\n",
    "mnist_testloader = DataLoader(mnist_testset, batch_size=64, shuffle=False)"
   ]
  },
  {
   "cell_type": "markdown",
   "metadata": {},
   "source": [
    "The `torchvision` package consists of popular datasets, model architectures, and common image transformations for computer vision. `transforms` is a library from `torchvision` which provides access to a suite of functions for preprocessing data.\n",
    "\n",
    "We define a transform for the MNIST data (which is applied to each image in the dataset) by composing `ToTensor` (which converts a `PIL.Image` object into a PyTorch tensor) and `Normalize` (which takes arguments for the mean and standard deviation, and performs the linear transformation `x -> (x - mean) / std`)."
   ]
  },
  {
   "cell_type": "markdown",
   "metadata": {},
   "source": [
    "Next, we define our datasets, using the `torchvision.datasets` library. The argument `root=\"./data\"` indicates that we're storing our data in the `./data` directory, and `transform=MNIST_TRANSFORM` tells us that we should apply our previously defined `transform` to each element in our dataset.\n",
    "\n",
    "The `Subset` function allows us to take a subset of a dataset. The argument `indices` is a list of indices to sample from the dataset. For example, `Subset(mnist_trainset, indices=[0, 1, 2])` will return a dataset containing only the first three elements of `mnist_trainset`."
   ]
  },
  {
   "cell_type": "markdown",
   "metadata": {},
   "source": [
    "Finally, `DataLoader` provides a useful abstraction to work with a dataset. It takes in a dataset, and a few arguments including `batch_size` (how many inputs to feed through the model on which to compute the loss before each step of gradient descent) and `shuffle` (whether to randomise the order each time you iterate). The object that it returns can be iterated through as follows:\n",
    "\n",
    "```python\n",
    "for X, y in mnist_trainloader:\n",
    "    ...\n",
    "```\n",
    "\n",
    "where `X` is a 3D array of shape `(batch_size, 28, 28)` where each slice is an image, and `y` is a 1D tensor of labels of length `batch_size`. Without using this helpful object, we'd have to iterate through our dataset as follows:\n",
    "\n",
    "```python\n",
    "for i in range(len(mnist_trainset) // batch_size):\n",
    "    \n",
    "    X = mnist_trainset.data[i*batch_size: (i+1)*batch_size]\n",
    "    y = mnist_trainset.targets[i*batch_size: (i+1)*batch_size]\n",
    "\n",
    "    ...\n",
    "```\n",
    "\n",
    "A note about batch size - it's common to see batch sizes which are powers of two. The motivation is for efficient GPU utilisation, since processor architectures are normally organised around powers of 2, and computational efficiency is often increased by having the items in each batch split across processors. Or at least, that's the idea. The truth is a bit more complicated, and some studies dispute whether it actually saves time. We'll dive much deeper into these kinds of topics during the week on training at scale."
   ]
  },
  {
   "cell_type": "markdown",
   "metadata": {},
   "source": [
    "---\n",
    "Before proceeding, try and answer the following questions:\n",
    "\n",
    "\n",
    "<details>\n",
    "<summary>Question - can you explain why we include a data normalization function in <code>torchvision.transforms</code> ?</summary>\n",
    "\n",
    "One consequence of unnormalized data is that you might find yourself stuck in a very flat region of the domain, and gradient descent may take much longer to converge.\n",
    "\n",
    "Normalization isn't strictly necessary for this reason, because any rescaling of an input vector can be effectively undone by the network learning different weights and biases. But in practice, it does usually help speed up convergence.\n",
    "\n",
    "Normalization also helps avoid numerical issues.\n",
    "</details>\n",
    "\n",
    "<details>\n",
    "<summary>Question - what is the benefit of using <code>shuffle=True</code> when defining our dataloaders? What might the problem be if we didn't do this?</summary>\n",
    "\n",
    "Shuffling is done during the training to make sure we aren't exposing our model to the same cycle (order) of data in every epoch. It is basically done to ensure the model isn't adapting its learning to any kind of spurious pattern.\n",
    "</details>\n",
    "\n",
    "---\n"
   ]
  },
  {
   "cell_type": "markdown",
   "metadata": {},
   "source": [
    "### Aside - `tqdm`\n",
    "\n",
    "You might have seen some blue progress bars running when you first downloaded your MNIST data. These were generated using a library called `tqdm`, which is also a really useful tool when training models or running any process that takes a long period of time.\n",
    "\n",
    "You can run the cell below to see how these progress bars are used (note that you might need to install the `tqdm` library first).\n"
   ]
  },
  {
   "cell_type": "code",
   "execution_count": 8,
   "metadata": {},
   "outputs": [
    {
     "data": {
      "application/vnd.jupyter.widget-view+json": {
       "model_id": "069f7f908e8449648aed7f30c941f0a4",
       "version_major": 2,
       "version_minor": 0
      },
      "text/plain": [
       "  0%|          | 0/100 [00:00<?, ?it/s]"
      ]
     },
     "metadata": {},
     "output_type": "display_data"
    }
   ],
   "source": [
    "from tqdm.notebook import tqdm\n",
    "import time\n",
    "\n",
    "for i in tqdm(range(100)):\n",
    "    time.sleep(0.01)"
   ]
  },
  {
   "cell_type": "markdown",
   "metadata": {},
   "source": [
    "`tqdm` wraps around a list, range or other iterable, but other than that it doesn't affect the structure of your loop.\n",
    "\n",
    "One gotcha when it comes to `tqdm` - you need to make sure you pass it something with a well-defined length. For instance, if you pass it an `enumerate` or `zip` object, it won't work as expected because it can't infer length from the object. You can fix this problem by wrapping your iterator in a list (e.g. `tqdm(list(zip(...)))`)."
   ]
  },
  {
   "cell_type": "markdown",
   "metadata": {},
   "source": [
    "### Aside - `device`\n",
    "\n",
    "One last thing to discuss before we move onto training our model: **GPUs**. We'll discuss this in more detail in later exercises. For now, [this page](https://wandb.ai/wandb/common-ml-errors/reports/How-To-Use-GPU-with-PyTorch---VmlldzozMzAxMDk) should provide a basic overview of how to use your GPU. A few things to be aware of here:\n",
    "\n",
    "* The `to` method is really useful here - it can move objects between different devices (i.e. CPU and GPU) *as well as* changing a tensor's datatype.\n",
    "    * Note that `to` is never inplace for tensors (i.e. you have to call `x = x.to(device)`), but when working with models, calling `model = model.to(device)` or `model.to(device)` are both perfectly valid.\n",
    "* Errors from having one tensor on cpu and another on cuda are very common. Some useful practices to avoid this:\n",
    "    * Throw in assert statements, to make sure tensors are on the same device\n",
    "    * Remember that when you initialise an array (e.g. with `t.zeros` or `t.arange`), it will be on CPU by default.\n",
    "    * Tensor methods like [`new_zeros`](https://pytorch.org/docs/stable/generated/torch.Tensor.new_zeros.html) or [`new_full`](https://pytorch.org/docs/stable/generated/torch.Tensor.new_full.html) are useful, because they'll create tensors which match the device and dtype of the base tensor.\n",
    "\n",
    "It's common practice to put a line like this at the top of your file, defining a global variable which you can use in subsequent modules and functions (excluding the print statement):"
   ]
  },
  {
   "cell_type": "code",
   "execution_count": 9,
   "metadata": {},
   "outputs": [
    {
     "name": "stdout",
     "output_type": "stream",
     "text": [
      "cpu\n"
     ]
    }
   ],
   "source": [
    "device = t.device('cuda' if t.cuda.is_available() else 'cpu')\n",
    "\n",
    "# Assuming that we are on a CUDA machine, this should print a CUDA device:\n",
    "print(device)"
   ]
  },
  {
   "cell_type": "markdown",
   "metadata": {},
   "source": [
    "## Training loop\n",
    "\n",
    "Below is a very simple training loop, which you can run to train your model.\n",
    "\n",
    "In later exercises, we'll try to **modularize** our training loops. This will involve things like creating a `Trainer` class which wraps around our model, and giving it methods like `training_step` and `validation_step` which correspond to different parts of the training loop. This will make it easier to add features like logging and validation, and will also make our code more readable and easier to refactor. However, for now we've kept things simple."
   ]
  },
  {
   "cell_type": "code",
   "execution_count": 10,
   "metadata": {},
   "outputs": [
    {
     "data": {
      "application/vnd.jupyter.widget-view+json": {
       "model_id": "a7bf71cf688a4a778cf4fa077286389c",
       "version_major": 2,
       "version_minor": 0
      },
      "text/plain": [
       "  0%|          | 0/3 [00:00<?, ?it/s]"
      ]
     },
     "metadata": {},
     "output_type": "display_data"
    },
    {
     "data": {
      "application/vnd.plotly.v1+json": {
       "config": {
        "plotlyServerURL": "https://plot.ly"
       },
       "data": [
        {
         "hovertemplate": "Num batches seen=%{x}<br>Cross entropy loss=%{y}<extra></extra>",
         "legendgroup": "",
         "line": {
          "color": "#636efa",
          "dash": "solid"
         },
         "marker": {
          "symbol": "circle"
         },
         "mode": "lines",
         "name": "",
         "orientation": "v",
         "showlegend": false,
         "type": "scatter",
         "x": [
          0,
          1,
          2,
          3,
          4,
          5,
          6,
          7,
          8,
          9,
          10,
          11,
          12,
          13,
          14,
          15,
          16,
          17,
          18,
          19,
          20,
          21,
          22,
          23,
          24,
          25,
          26,
          27,
          28,
          29,
          30,
          31,
          32,
          33,
          34,
          35,
          36,
          37,
          38,
          39,
          40,
          41,
          42,
          43,
          44,
          45,
          46,
          47,
          48,
          49,
          50,
          51,
          52,
          53,
          54,
          55,
          56,
          57,
          58,
          59,
          60,
          61,
          62,
          63,
          64,
          65,
          66,
          67,
          68,
          69,
          70,
          71,
          72,
          73,
          74,
          75,
          76,
          77,
          78,
          79,
          80,
          81,
          82,
          83,
          84,
          85,
          86,
          87,
          88,
          89,
          90,
          91,
          92,
          93,
          94,
          95,
          96,
          97,
          98,
          99,
          100,
          101,
          102,
          103,
          104,
          105,
          106,
          107,
          108,
          109,
          110,
          111,
          112,
          113,
          114,
          115,
          116,
          117,
          118,
          119,
          120,
          121,
          122,
          123,
          124,
          125,
          126,
          127,
          128,
          129,
          130,
          131,
          132,
          133,
          134,
          135,
          136,
          137,
          138,
          139,
          140,
          141,
          142,
          143,
          144,
          145,
          146,
          147,
          148,
          149,
          150,
          151,
          152,
          153,
          154,
          155,
          156,
          157,
          158,
          159,
          160,
          161,
          162,
          163,
          164,
          165,
          166,
          167,
          168,
          169,
          170,
          171,
          172,
          173,
          174,
          175,
          176,
          177,
          178,
          179,
          180,
          181,
          182,
          183,
          184,
          185,
          186,
          187,
          188,
          189,
          190,
          191,
          192,
          193,
          194,
          195,
          196,
          197,
          198,
          199,
          200,
          201,
          202,
          203,
          204,
          205,
          206,
          207,
          208,
          209,
          210,
          211,
          212,
          213,
          214,
          215,
          216,
          217,
          218,
          219,
          220,
          221,
          222,
          223,
          224,
          225,
          226,
          227,
          228,
          229,
          230,
          231,
          232,
          233,
          234,
          235,
          236,
          237,
          238,
          239,
          240,
          241,
          242,
          243,
          244,
          245,
          246,
          247,
          248,
          249,
          250,
          251,
          252,
          253,
          254,
          255,
          256,
          257,
          258,
          259,
          260,
          261,
          262,
          263,
          264,
          265,
          266,
          267,
          268,
          269,
          270,
          271,
          272,
          273,
          274,
          275,
          276,
          277,
          278,
          279,
          280,
          281
         ],
         "xaxis": "x",
         "y": [
          2.353632688522339,
          2.235196113586426,
          2.1396002769470215,
          1.9894819259643555,
          1.8457609415054321,
          1.8211967945098877,
          1.817555546760559,
          1.6184890270233154,
          1.4776248931884766,
          1.532448649406433,
          1.3032869100570679,
          1.2494980096817017,
          1.2785415649414062,
          1.2241616249084473,
          1.0850610733032227,
          1.054287314414978,
          1.0824812650680542,
          1.1405054330825806,
          0.9757524132728577,
          0.9206637740135193,
          0.801173210144043,
          0.923923671245575,
          0.7952567338943481,
          0.758342981338501,
          0.6027785539627075,
          0.6990302801132202,
          0.6063640713691711,
          0.798265278339386,
          0.6884240508079529,
          0.514513373374939,
          0.6897693872451782,
          0.6089966893196106,
          0.7318900227546692,
          0.6051076650619507,
          0.601048469543457,
          0.47933220863342285,
          0.7028322219848633,
          0.5410038232803345,
          0.6185048222541809,
          0.49935582280158997,
          0.6466315388679504,
          0.7049921751022339,
          0.4526917338371277,
          0.38061976432800293,
          0.4280951917171478,
          0.5228731036186218,
          0.564261794090271,
          0.7270116806030273,
          0.7024334669113159,
          0.4684467017650604,
          0.4388258755207062,
          0.519381046295166,
          0.45501744747161865,
          0.4530397951602936,
          0.5762147903442383,
          0.5012936592102051,
          0.6181749701499939,
          0.5713174343109131,
          0.42400214076042175,
          0.2505009174346924,
          0.4720451235771179,
          0.5126537680625916,
          0.44043728709220886,
          0.4073418378829956,
          0.6176170706748962,
          0.43372416496276855,
          0.6204137802124023,
          0.43709278106689453,
          0.5027994513511658,
          0.4479551911354065,
          0.5228874087333679,
          0.33731356263160706,
          0.5390802025794983,
          0.42635953426361084,
          0.4491734504699707,
          0.37082597613334656,
          0.44200605154037476,
          0.4267429709434509,
          0.44000622630119324,
          0.2327663153409958,
          0.4272146224975586,
          0.4518388509750366,
          0.3819246292114258,
          0.47703418135643005,
          0.45135241746902466,
          0.45531994104385376,
          0.3944378197193146,
          0.32179078459739685,
          0.5047760009765625,
          0.3845994174480438,
          0.21180365979671478,
          0.39370831847190857,
          0.46689942479133606,
          0.2722661793231964,
          0.4187631905078888,
          0.2788836658000946,
          0.5003488063812256,
          0.6254593133926392,
          0.23565663397312164,
          0.29287096858024597,
          0.3388499617576599,
          0.5598627328872681,
          0.44082358479499817,
          0.3144405782222748,
          0.3772631585597992,
          0.37005895376205444,
          0.4370737373828888,
          0.43478357791900635,
          0.3487986922264099,
          0.47969940304756165,
          0.4573889672756195,
          0.37635621428489685,
          0.3390309810638428,
          0.27766793966293335,
          0.4087977707386017,
          0.2979045808315277,
          0.37132975459098816,
          0.39051157236099243,
          0.2965659201145172,
          0.2330249547958374,
          0.23601777851581573,
          0.4562526345252991,
          0.32282310724258423,
          0.2996361255645752,
          0.18877553939819336,
          0.207381933927536,
          0.3595847189426422,
          0.3847660422325134,
          0.2793508470058441,
          0.24969905614852905,
          0.22045199573040009,
          0.403869092464447,
          0.43710318207740784,
          0.28255096077919006,
          0.3179793953895569,
          0.31613513827323914,
          0.2630597949028015,
          0.4326535761356354,
          0.34927961230278015,
          0.38547787070274353,
          0.39749544858932495,
          0.35886290669441223,
          0.33687761425971985,
          0.28362956643104553,
          0.36726540327072144,
          0.3622106611728668,
          0.2088310271501541,
          0.4016924202442169,
          0.4349251687526703,
          0.2514112591743469,
          0.32868674397468567,
          0.3176215887069702,
          0.4462790787220001,
          0.30902034044265747,
          0.4351574182510376,
          0.19978635013103485,
          0.2882519066333771,
          0.3287699520587921,
          0.2956714630126953,
          0.2735987901687622,
          0.32834210991859436,
          0.5383374691009521,
          0.25811243057250977,
          0.24555426836013794,
          0.4690167009830475,
          0.4834478199481964,
          0.42202135920524597,
          0.4697251319885254,
          0.40026697516441345,
          0.27617767453193665,
          0.25350257754325867,
          0.26075854897499084,
          0.4328649938106537,
          0.21852409839630127,
          0.45070764422416687,
          0.3069741725921631,
          0.4947182536125183,
          0.176583930850029,
          0.277529776096344,
          0.150660902261734,
          0.33185234665870667,
          0.26044878363609314,
          0.36581748723983765,
          0.3407583236694336,
          0.20261570811271667,
          0.26206520199775696,
          0.3224599361419678,
          0.39292797446250916,
          0.28154224157333374,
          0.3328569233417511,
          0.2358235865831375,
          0.2850652039051056,
          0.2696852684020996,
          0.22978731989860535,
          0.35326820611953735,
          0.31647583842277527,
          0.3451267182826996,
          0.28496819734573364,
          0.18932050466537476,
          0.2548256516456604,
          0.46046340465545654,
          0.1617283821105957,
          0.2570832371711731,
          0.11090060323476791,
          0.36733487248420715,
          0.2819327414035797,
          0.3563459813594818,
          0.16569571197032928,
          0.2751524746417999,
          0.4048752784729004,
          0.21247917413711548,
          0.2664431035518646,
          0.22949568927288055,
          0.20934288203716278,
          0.2813740074634552,
          0.327935129404068,
          0.3441949784755707,
          0.2166775017976761,
          0.336752712726593,
          0.21498064696788788,
          0.3104292154312134,
          0.43032172322273254,
          0.3192233145236969,
          0.2580963373184204,
          0.3306733965873718,
          0.3125896453857422,
          0.19463641941547394,
          0.20230193436145782,
          0.3397921025753021,
          0.16063690185546875,
          0.24546514451503754,
          0.3722652494907379,
          0.1282603144645691,
          0.22695866227149963,
          0.3362400233745575,
          0.21196089684963226,
          0.18318568170070648,
          0.23077359795570374,
          0.29630014300346375,
          0.34175071120262146,
          0.29923802614212036,
          0.33090510964393616,
          0.4070846140384674,
          0.29654255509376526,
          0.2827744781970978,
          0.2602107524871826,
          0.22512975335121155,
          0.31726107001304626,
          0.21126413345336914,
          0.26306021213531494,
          0.26273030042648315,
          0.22844016551971436,
          0.3181353807449341,
          0.16686533391475677,
          0.28696003556251526,
          0.1850907951593399,
          0.20381194353103638,
          0.36994609236717224,
          0.4030093550682068,
          0.23779623210430145,
          0.28170010447502136,
          0.3634108901023865,
          0.2343376874923706,
          0.22273701429367065,
          0.5086274743080139,
          0.33812618255615234,
          0.2989221215248108,
          0.233427032828331,
          0.3411218225955963,
          0.14353586733341217,
          0.28653860092163086,
          0.23258797824382782,
          0.1831028163433075,
          0.16345582902431488,
          0.1479337215423584,
          0.2742291986942291,
          0.1905299872159958,
          0.27134355902671814,
          0.2972513735294342,
          0.22944235801696777,
          0.15858463943004608,
          0.37752261757850647
         ],
         "yaxis": "y"
        }
       ],
       "layout": {
        "hovermode": "x unified",
        "legend": {
         "tracegroupgap": 0
        },
        "template": {
         "data": {
          "bar": [
           {
            "error_x": {
             "color": "#2a3f5f"
            },
            "error_y": {
             "color": "#2a3f5f"
            },
            "marker": {
             "line": {
              "color": "#E5ECF6",
              "width": 0.5
             },
             "pattern": {
              "fillmode": "overlay",
              "size": 10,
              "solidity": 0.2
             }
            },
            "type": "bar"
           }
          ],
          "barpolar": [
           {
            "marker": {
             "line": {
              "color": "#E5ECF6",
              "width": 0.5
             },
             "pattern": {
              "fillmode": "overlay",
              "size": 10,
              "solidity": 0.2
             }
            },
            "type": "barpolar"
           }
          ],
          "carpet": [
           {
            "aaxis": {
             "endlinecolor": "#2a3f5f",
             "gridcolor": "white",
             "linecolor": "white",
             "minorgridcolor": "white",
             "startlinecolor": "#2a3f5f"
            },
            "baxis": {
             "endlinecolor": "#2a3f5f",
             "gridcolor": "white",
             "linecolor": "white",
             "minorgridcolor": "white",
             "startlinecolor": "#2a3f5f"
            },
            "type": "carpet"
           }
          ],
          "choropleth": [
           {
            "colorbar": {
             "outlinewidth": 0,
             "ticks": ""
            },
            "type": "choropleth"
           }
          ],
          "contour": [
           {
            "colorbar": {
             "outlinewidth": 0,
             "ticks": ""
            },
            "colorscale": [
             [
              0,
              "#0d0887"
             ],
             [
              0.1111111111111111,
              "#46039f"
             ],
             [
              0.2222222222222222,
              "#7201a8"
             ],
             [
              0.3333333333333333,
              "#9c179e"
             ],
             [
              0.4444444444444444,
              "#bd3786"
             ],
             [
              0.5555555555555556,
              "#d8576b"
             ],
             [
              0.6666666666666666,
              "#ed7953"
             ],
             [
              0.7777777777777778,
              "#fb9f3a"
             ],
             [
              0.8888888888888888,
              "#fdca26"
             ],
             [
              1,
              "#f0f921"
             ]
            ],
            "type": "contour"
           }
          ],
          "contourcarpet": [
           {
            "colorbar": {
             "outlinewidth": 0,
             "ticks": ""
            },
            "type": "contourcarpet"
           }
          ],
          "heatmap": [
           {
            "colorbar": {
             "outlinewidth": 0,
             "ticks": ""
            },
            "colorscale": [
             [
              0,
              "#0d0887"
             ],
             [
              0.1111111111111111,
              "#46039f"
             ],
             [
              0.2222222222222222,
              "#7201a8"
             ],
             [
              0.3333333333333333,
              "#9c179e"
             ],
             [
              0.4444444444444444,
              "#bd3786"
             ],
             [
              0.5555555555555556,
              "#d8576b"
             ],
             [
              0.6666666666666666,
              "#ed7953"
             ],
             [
              0.7777777777777778,
              "#fb9f3a"
             ],
             [
              0.8888888888888888,
              "#fdca26"
             ],
             [
              1,
              "#f0f921"
             ]
            ],
            "type": "heatmap"
           }
          ],
          "heatmapgl": [
           {
            "colorbar": {
             "outlinewidth": 0,
             "ticks": ""
            },
            "colorscale": [
             [
              0,
              "#0d0887"
             ],
             [
              0.1111111111111111,
              "#46039f"
             ],
             [
              0.2222222222222222,
              "#7201a8"
             ],
             [
              0.3333333333333333,
              "#9c179e"
             ],
             [
              0.4444444444444444,
              "#bd3786"
             ],
             [
              0.5555555555555556,
              "#d8576b"
             ],
             [
              0.6666666666666666,
              "#ed7953"
             ],
             [
              0.7777777777777778,
              "#fb9f3a"
             ],
             [
              0.8888888888888888,
              "#fdca26"
             ],
             [
              1,
              "#f0f921"
             ]
            ],
            "type": "heatmapgl"
           }
          ],
          "histogram": [
           {
            "marker": {
             "pattern": {
              "fillmode": "overlay",
              "size": 10,
              "solidity": 0.2
             }
            },
            "type": "histogram"
           }
          ],
          "histogram2d": [
           {
            "colorbar": {
             "outlinewidth": 0,
             "ticks": ""
            },
            "colorscale": [
             [
              0,
              "#0d0887"
             ],
             [
              0.1111111111111111,
              "#46039f"
             ],
             [
              0.2222222222222222,
              "#7201a8"
             ],
             [
              0.3333333333333333,
              "#9c179e"
             ],
             [
              0.4444444444444444,
              "#bd3786"
             ],
             [
              0.5555555555555556,
              "#d8576b"
             ],
             [
              0.6666666666666666,
              "#ed7953"
             ],
             [
              0.7777777777777778,
              "#fb9f3a"
             ],
             [
              0.8888888888888888,
              "#fdca26"
             ],
             [
              1,
              "#f0f921"
             ]
            ],
            "type": "histogram2d"
           }
          ],
          "histogram2dcontour": [
           {
            "colorbar": {
             "outlinewidth": 0,
             "ticks": ""
            },
            "colorscale": [
             [
              0,
              "#0d0887"
             ],
             [
              0.1111111111111111,
              "#46039f"
             ],
             [
              0.2222222222222222,
              "#7201a8"
             ],
             [
              0.3333333333333333,
              "#9c179e"
             ],
             [
              0.4444444444444444,
              "#bd3786"
             ],
             [
              0.5555555555555556,
              "#d8576b"
             ],
             [
              0.6666666666666666,
              "#ed7953"
             ],
             [
              0.7777777777777778,
              "#fb9f3a"
             ],
             [
              0.8888888888888888,
              "#fdca26"
             ],
             [
              1,
              "#f0f921"
             ]
            ],
            "type": "histogram2dcontour"
           }
          ],
          "mesh3d": [
           {
            "colorbar": {
             "outlinewidth": 0,
             "ticks": ""
            },
            "type": "mesh3d"
           }
          ],
          "parcoords": [
           {
            "line": {
             "colorbar": {
              "outlinewidth": 0,
              "ticks": ""
             }
            },
            "type": "parcoords"
           }
          ],
          "pie": [
           {
            "automargin": true,
            "type": "pie"
           }
          ],
          "scatter": [
           {
            "fillpattern": {
             "fillmode": "overlay",
             "size": 10,
             "solidity": 0.2
            },
            "type": "scatter"
           }
          ],
          "scatter3d": [
           {
            "line": {
             "colorbar": {
              "outlinewidth": 0,
              "ticks": ""
             }
            },
            "marker": {
             "colorbar": {
              "outlinewidth": 0,
              "ticks": ""
             }
            },
            "type": "scatter3d"
           }
          ],
          "scattercarpet": [
           {
            "marker": {
             "colorbar": {
              "outlinewidth": 0,
              "ticks": ""
             }
            },
            "type": "scattercarpet"
           }
          ],
          "scattergeo": [
           {
            "marker": {
             "colorbar": {
              "outlinewidth": 0,
              "ticks": ""
             }
            },
            "type": "scattergeo"
           }
          ],
          "scattergl": [
           {
            "marker": {
             "colorbar": {
              "outlinewidth": 0,
              "ticks": ""
             }
            },
            "type": "scattergl"
           }
          ],
          "scattermapbox": [
           {
            "marker": {
             "colorbar": {
              "outlinewidth": 0,
              "ticks": ""
             }
            },
            "type": "scattermapbox"
           }
          ],
          "scatterpolar": [
           {
            "marker": {
             "colorbar": {
              "outlinewidth": 0,
              "ticks": ""
             }
            },
            "type": "scatterpolar"
           }
          ],
          "scatterpolargl": [
           {
            "marker": {
             "colorbar": {
              "outlinewidth": 0,
              "ticks": ""
             }
            },
            "type": "scatterpolargl"
           }
          ],
          "scatterternary": [
           {
            "marker": {
             "colorbar": {
              "outlinewidth": 0,
              "ticks": ""
             }
            },
            "type": "scatterternary"
           }
          ],
          "surface": [
           {
            "colorbar": {
             "outlinewidth": 0,
             "ticks": ""
            },
            "colorscale": [
             [
              0,
              "#0d0887"
             ],
             [
              0.1111111111111111,
              "#46039f"
             ],
             [
              0.2222222222222222,
              "#7201a8"
             ],
             [
              0.3333333333333333,
              "#9c179e"
             ],
             [
              0.4444444444444444,
              "#bd3786"
             ],
             [
              0.5555555555555556,
              "#d8576b"
             ],
             [
              0.6666666666666666,
              "#ed7953"
             ],
             [
              0.7777777777777778,
              "#fb9f3a"
             ],
             [
              0.8888888888888888,
              "#fdca26"
             ],
             [
              1,
              "#f0f921"
             ]
            ],
            "type": "surface"
           }
          ],
          "table": [
           {
            "cells": {
             "fill": {
              "color": "#EBF0F8"
             },
             "line": {
              "color": "white"
             }
            },
            "header": {
             "fill": {
              "color": "#C8D4E3"
             },
             "line": {
              "color": "white"
             }
            },
            "type": "table"
           }
          ]
         },
         "layout": {
          "annotationdefaults": {
           "arrowcolor": "#2a3f5f",
           "arrowhead": 0,
           "arrowwidth": 1
          },
          "autotypenumbers": "strict",
          "coloraxis": {
           "colorbar": {
            "outlinewidth": 0,
            "ticks": ""
           }
          },
          "colorscale": {
           "diverging": [
            [
             0,
             "#8e0152"
            ],
            [
             0.1,
             "#c51b7d"
            ],
            [
             0.2,
             "#de77ae"
            ],
            [
             0.3,
             "#f1b6da"
            ],
            [
             0.4,
             "#fde0ef"
            ],
            [
             0.5,
             "#f7f7f7"
            ],
            [
             0.6,
             "#e6f5d0"
            ],
            [
             0.7,
             "#b8e186"
            ],
            [
             0.8,
             "#7fbc41"
            ],
            [
             0.9,
             "#4d9221"
            ],
            [
             1,
             "#276419"
            ]
           ],
           "sequential": [
            [
             0,
             "#0d0887"
            ],
            [
             0.1111111111111111,
             "#46039f"
            ],
            [
             0.2222222222222222,
             "#7201a8"
            ],
            [
             0.3333333333333333,
             "#9c179e"
            ],
            [
             0.4444444444444444,
             "#bd3786"
            ],
            [
             0.5555555555555556,
             "#d8576b"
            ],
            [
             0.6666666666666666,
             "#ed7953"
            ],
            [
             0.7777777777777778,
             "#fb9f3a"
            ],
            [
             0.8888888888888888,
             "#fdca26"
            ],
            [
             1,
             "#f0f921"
            ]
           ],
           "sequentialminus": [
            [
             0,
             "#0d0887"
            ],
            [
             0.1111111111111111,
             "#46039f"
            ],
            [
             0.2222222222222222,
             "#7201a8"
            ],
            [
             0.3333333333333333,
             "#9c179e"
            ],
            [
             0.4444444444444444,
             "#bd3786"
            ],
            [
             0.5555555555555556,
             "#d8576b"
            ],
            [
             0.6666666666666666,
             "#ed7953"
            ],
            [
             0.7777777777777778,
             "#fb9f3a"
            ],
            [
             0.8888888888888888,
             "#fdca26"
            ],
            [
             1,
             "#f0f921"
            ]
           ]
          },
          "colorway": [
           "#636efa",
           "#EF553B",
           "#00cc96",
           "#ab63fa",
           "#FFA15A",
           "#19d3f3",
           "#FF6692",
           "#B6E880",
           "#FF97FF",
           "#FECB52"
          ],
          "font": {
           "color": "#2a3f5f"
          },
          "geo": {
           "bgcolor": "white",
           "lakecolor": "white",
           "landcolor": "#E5ECF6",
           "showlakes": true,
           "showland": true,
           "subunitcolor": "white"
          },
          "hoverlabel": {
           "align": "left"
          },
          "hovermode": "closest",
          "mapbox": {
           "style": "light"
          },
          "paper_bgcolor": "white",
          "plot_bgcolor": "#E5ECF6",
          "polar": {
           "angularaxis": {
            "gridcolor": "white",
            "linecolor": "white",
            "ticks": ""
           },
           "bgcolor": "#E5ECF6",
           "radialaxis": {
            "gridcolor": "white",
            "linecolor": "white",
            "ticks": ""
           }
          },
          "scene": {
           "xaxis": {
            "backgroundcolor": "#E5ECF6",
            "gridcolor": "white",
            "gridwidth": 2,
            "linecolor": "white",
            "showbackground": true,
            "ticks": "",
            "zerolinecolor": "white"
           },
           "yaxis": {
            "backgroundcolor": "#E5ECF6",
            "gridcolor": "white",
            "gridwidth": 2,
            "linecolor": "white",
            "showbackground": true,
            "ticks": "",
            "zerolinecolor": "white"
           },
           "zaxis": {
            "backgroundcolor": "#E5ECF6",
            "gridcolor": "white",
            "gridwidth": 2,
            "linecolor": "white",
            "showbackground": true,
            "ticks": "",
            "zerolinecolor": "white"
           }
          },
          "shapedefaults": {
           "line": {
            "color": "#2a3f5f"
           }
          },
          "ternary": {
           "aaxis": {
            "gridcolor": "white",
            "linecolor": "white",
            "ticks": ""
           },
           "baxis": {
            "gridcolor": "white",
            "linecolor": "white",
            "ticks": ""
           },
           "bgcolor": "#E5ECF6",
           "caxis": {
            "gridcolor": "white",
            "linecolor": "white",
            "ticks": ""
           }
          },
          "title": {
           "x": 0.05
          },
          "xaxis": {
           "automargin": true,
           "gridcolor": "white",
           "linecolor": "white",
           "ticks": "",
           "title": {
            "standoff": 15
           },
           "zerolinecolor": "white",
           "zerolinewidth": 2
          },
          "yaxis": {
           "automargin": true,
           "gridcolor": "white",
           "linecolor": "white",
           "ticks": "",
           "title": {
            "standoff": 15
           },
           "zerolinecolor": "white",
           "zerolinewidth": 2
          }
         }
        },
        "title": {
         "text": "SimpleMLP training on MNIST"
        },
        "width": 700,
        "xaxis": {
         "anchor": "y",
         "domain": [
          0,
          1
         ],
         "title": {
          "text": "Num batches seen"
         }
        },
        "yaxis": {
         "anchor": "x",
         "domain": [
          0,
          1
         ],
         "range": [
          0,
          2.453632688522339
         ],
         "title": {
          "text": "Cross entropy loss"
         }
        }
       }
      }
     },
     "metadata": {},
     "output_type": "display_data"
    }
   ],
   "source": [
    "model = SimpleMLP().to(device)\n",
    "\n",
    "batch_size = 64\n",
    "epochs = 3\n",
    "\n",
    "mnist_trainset, _ = get_mnist(subset = 10)\n",
    "mnist_trainloader = DataLoader(mnist_trainset, batch_size=batch_size, shuffle=True)\n",
    "\n",
    "optimizer = t.optim.Adam(model.parameters(), lr=1e-3)\n",
    "loss_list = []\n",
    "\n",
    "for epoch in tqdm(range(epochs)):\n",
    "    for imgs, labels in mnist_trainloader:\n",
    "        imgs = imgs.to(device)\n",
    "        labels = labels.to(device)\n",
    "        logits = model(imgs)\n",
    "        loss = F.cross_entropy(logits, labels)\n",
    "        loss.backward()\n",
    "        optimizer.step()\n",
    "        optimizer.zero_grad()\n",
    "        loss_list.append(loss.item())\n",
    "\n",
    "line(\n",
    "    loss_list,\n",
    "    yaxis_range=[0, max(loss_list) + 0.1],\n",
    "    labels={\"x\": \"Num batches seen\", \"y\": \"Cross entropy loss\"},\n",
    "    title=\"SimpleMLP training on MNIST\",\n",
    "    width=700\n",
    ")"
   ]
  },
  {
   "cell_type": "markdown",
   "metadata": {},
   "source": [
    "Let's break down the important parts of this code.\n",
    "\n",
    "The batch size is the number of samples in each batch (i.e. the number of samples we feed into the model at once). While training our model, we differentiate with respect to the average loss over all samples in the batch (so a smaller batch usually means the loss is more noisy). However, if you're working with large models, then often having a batch size too large will result in a memory error. This will be relevant for models later on in the course, but for now we're working with very small models so this isn't an issue.\n",
    "\n",
    "Next, we get our training set, via the helper function `get_mnist`. This helper function used `torchvision.datasets.MNIST` to load in data, and then (optionally) the `torch.utils.data.Subset` function to return a subset of this data. Don't worry about the details of this function, it's not the kind of thing you'll need to know by heart.\n",
    "\n",
    "We then define our optimizer, using `torch.optim.Adam`. The `torch.optim` module gives a wide variety of modules, such as Adam, SGD, and RMSProp. Adam is generally the most popular and seen as the most effective in the majority of cases. We'll discuss optimizers in more detail tomorrow, but for now it's enough to understand that the optimizer calculates the amount to update parameters by (as a function of those parameters' gradients, and sometimes other inputs), and performs this update step. The first argument passed to our optimizer is the parameters of our model (because these are the values that will be updated via gradient descent), and you can also pass keyword arguments to the optimizer which change its behaviour (e.g. the learning rate).\n",
    "\n",
    "Lastly, we have the actual training loop. We iterate through our training data, and for each batch we:\n",
    "\n",
    "1. Evaluate our model on the batch of data, to get the logits for our class predictions,\n",
    "2. Calculate the loss between our logits and the true class labels,\n",
    "3. Backpropagate the loss through our model (this step accumulates gradients in our model parameters),\n",
    "4. Step our optimizer, which is what actually updates the model parameters,\n",
    "5. Zero the gradients of our optimizer, ready for the next step."
   ]
  },
  {
   "cell_type": "markdown",
   "metadata": {},
   "source": [
    "### Cross entropy loss\n",
    "\n",
    "The formula for cross entropy loss over a batch of size $N$ is:\n",
    "\n",
    "$$\n",
    "\\begin{aligned}\n",
    "l &= \\frac{1}{N} \\sum_{n=1}^{N} l_n \\\\\n",
    "l_n &=-\\log p_{n, y_{n}}\n",
    "\\end{aligned}\n",
    "$$\n",
    "\n",
    "where $p_{n, c}$ is the probability the model assigns to class $c$ for sample $n$, and $y_{n}$ is the true label for this sample.\n",
    "\n",
    "<details>\n",
    "<summary>See this dropdown, if you're still confused about this formula, and how this relates to the information-theoretic general formula for cross entropy.</summary>\n",
    "\n",
    "The cross entropy of a distribution $p$ relate to a distribution $q$ is:\n",
    "\n",
    "$$\n",
    "\\begin{aligned}\n",
    "H(q, p) &= -\\sum_{n} q(n) \\log p(n)\n",
    "\\end{aligned}\n",
    "$$\n",
    "\n",
    "In our case, $q$ is the true distribution (i.e. the one-hot encoded labels, which equals one for $n = y_n$, zero otherwise), and $p$ is our model's output. With these subsitutions, this formula becomes equivalent to the formula for $l$ given above.\n",
    "</details>\n",
    "\n",
    "<details>\n",
    "<summary>See this dropdown, if you're confused about how this is the same as the <a href=\"https://pytorch.org/docs/stable/generated/torch.nn.CrossEntropyLoss.html#torch.nn.CrossEntropyLoss\">PyTorch definition</a>.</summary>\n",
    "\n",
    "The PyTorch definition of cross entropy loss is:\n",
    "\n",
    "$$\n",
    "\\ell(x, y)=\\frac{1}{N}\\sum_{n=1}^{N} l_n, \\quad l_n=-\\sum_{c=1}^C w_c \\log \\frac{\\exp \\left(x_{n, c}\\right)}{\\sum_{i=1}^C \\exp \\left(x_{n, i}\\right)} y_{n, c}\n",
    "$$\n",
    "\n",
    "$w_c$ are the weights (which all equal one by default), $p_{n, c} = \\frac{\\exp \\left(x_{n, c}\\right)}{\\sum_{i=1}^C \\exp \\left(x_{n, i}\\right)}$ are the probabilities, and $y_{n, c}$ are the true labels (which are one-hot encoded, i.e. their value is one at the correct label $c$ and zero everywhere else). With this, the formula for $l_n$ reduces to the one we see above (i.e. the mean of the negative log probabilities).\n",
    "\n",
    "</details>\n",
    "\n",
    "The function `torch.functional.cross_entropy` expects the **unnormalized logits** as its first input, rather than probabilities. We get probabilities from logits by applying the softmax function:\n",
    "\n",
    "$$\n",
    "\\begin{aligned}\n",
    "p_{n, c} &= \\frac{\\exp(x_{n, c})}{\\sum_{c'=1}^{C} \\exp(x_{n, c'})}\n",
    "\\end{aligned}\n",
    "$$\n",
    "\n",
    "where $x_{n, c}$ is the model's output for class $c$ and sample $n$, and $C$ is the number of classes (in the case of MNIST, $C = 10$).\n",
    "\n",
    "Some terminology notes:\n",
    "\n",
    "* When we say **logits**, we mean the output of the model before applying softmax. We can uniquely define a distribution with a set of logits, just like we can define a distribution with a set of probabilities (and sometimes it's easier to think of a distribution in terms of logits, as we'll see later in the course).\n",
    "\n",
    "* When we say **unnormalized**, we mean the denominator term $\\sum_{c'} \\exp(x_{n, c'})$ isn't necessarily equal to 1. We can add a constant value onto all the logits which makes this term 1 without changing any of the actual probabilities, then we have the relation $p_{n, c} = \\exp(-l_{n, c})$. Here, we call $-l_{n, c}$ the **log probabilities** (or log probs), since $-l_{n, c} = \\log p_{n, c}$.\n",
    "\n",
    "If you're interested in the intuition behind cross entropy as a loss function, see [this post on KL divergence](https://www.lesswrong.com/posts/no5jDTut5Byjqb4j5/six-and-a-half-intuitions-for-kl-divergence) (note that KL divergence and cross entropy differ by an amount which is independent of our model's predictions, so minimizing cross entropy is equivalent to minimizing KL divergence). Also see these two videos:\n",
    "\n",
    "* [Intuitively Understanding the Cross Entropy Loss](https://www.youtube.com/watch?v=Pwgpl9mKars&amp;ab_channel=AdianLiusie)\n",
    "* [Intuitively Understanding the KL Divergence](https://www.youtube.com/watch?v=SxGYPqCgJWM&amp;ab_channel=AdianLiusie)"
   ]
  },
  {
   "cell_type": "markdown",
   "metadata": {},
   "source": [
    "### Aside - `dataclasses`\n",
    "\n",
    "Sometimes, when we have a lot of different input parameters to our model, it can be helpful to use dataclasses to keep track of them all. Dataclasses are a special kind of class which come with built-in methods for initialising and printing (i.e. no need to define an `__init__` or `__repr__`). Another advantage of using them is autocompletion: when you type in `args.` in VSCode, you'll get a dropdown of all your different dataclass attributes, which can be useful when you've forgotten what you called a variable!\n",
    "\n",
    "Here's an example of how we might rewrite our training code above using dataclasses. We've wrapped all the training code inside a single argument called `train`, which takes a `SimpleMLPTrainingArgs` object as its only argument."
   ]
  },
  {
   "cell_type": "code",
   "execution_count": 11,
   "metadata": {},
   "outputs": [
    {
     "data": {
      "application/vnd.jupyter.widget-view+json": {
       "model_id": "601a6420ec2a414fab28c0972b55cd35",
       "version_major": 2,
       "version_minor": 0
      },
      "text/plain": [
       "  0%|          | 0/3 [00:00<?, ?it/s]"
      ]
     },
     "metadata": {},
     "output_type": "display_data"
    },
    {
     "data": {
      "application/vnd.plotly.v1+json": {
       "config": {
        "plotlyServerURL": "https://plot.ly"
       },
       "data": [
        {
         "hovertemplate": "Num batches seen=%{x}<br>Cross entropy loss=%{y}<extra></extra>",
         "legendgroup": "",
         "line": {
          "color": "#636efa",
          "dash": "solid"
         },
         "marker": {
          "symbol": "circle"
         },
         "mode": "lines",
         "name": "",
         "orientation": "v",
         "showlegend": false,
         "type": "scatter",
         "x": [
          0,
          1,
          2,
          3,
          4,
          5,
          6,
          7,
          8,
          9,
          10,
          11,
          12,
          13,
          14,
          15,
          16,
          17,
          18,
          19,
          20,
          21,
          22,
          23,
          24,
          25,
          26,
          27,
          28,
          29,
          30,
          31,
          32,
          33,
          34,
          35,
          36,
          37,
          38,
          39,
          40,
          41,
          42,
          43,
          44,
          45,
          46,
          47,
          48,
          49,
          50,
          51,
          52,
          53,
          54,
          55,
          56,
          57,
          58,
          59,
          60,
          61,
          62,
          63,
          64,
          65,
          66,
          67,
          68,
          69,
          70,
          71,
          72,
          73,
          74,
          75,
          76,
          77,
          78,
          79,
          80,
          81,
          82,
          83,
          84,
          85,
          86,
          87,
          88,
          89,
          90,
          91,
          92,
          93,
          94,
          95,
          96,
          97,
          98,
          99,
          100,
          101,
          102,
          103,
          104,
          105,
          106,
          107,
          108,
          109,
          110,
          111,
          112,
          113,
          114,
          115,
          116,
          117,
          118,
          119,
          120,
          121,
          122,
          123,
          124,
          125,
          126,
          127,
          128,
          129,
          130,
          131,
          132,
          133,
          134,
          135,
          136,
          137,
          138,
          139,
          140,
          141,
          142,
          143,
          144,
          145,
          146,
          147,
          148,
          149,
          150,
          151,
          152,
          153,
          154,
          155,
          156,
          157,
          158,
          159,
          160,
          161,
          162,
          163,
          164,
          165,
          166,
          167,
          168,
          169,
          170,
          171,
          172,
          173,
          174,
          175,
          176,
          177,
          178,
          179,
          180,
          181,
          182,
          183,
          184,
          185,
          186,
          187,
          188,
          189,
          190,
          191,
          192,
          193,
          194,
          195,
          196,
          197,
          198,
          199,
          200,
          201,
          202,
          203,
          204,
          205,
          206,
          207,
          208,
          209,
          210,
          211,
          212,
          213,
          214,
          215,
          216,
          217,
          218,
          219,
          220,
          221,
          222,
          223,
          224,
          225,
          226,
          227,
          228,
          229,
          230,
          231,
          232,
          233,
          234,
          235,
          236,
          237,
          238,
          239,
          240,
          241,
          242,
          243,
          244,
          245,
          246,
          247,
          248,
          249,
          250,
          251,
          252,
          253,
          254,
          255,
          256,
          257,
          258,
          259,
          260,
          261,
          262,
          263,
          264,
          265,
          266,
          267,
          268,
          269,
          270,
          271,
          272,
          273,
          274,
          275,
          276,
          277,
          278,
          279,
          280,
          281
         ],
         "xaxis": "x",
         "y": [
          2.295302629470825,
          2.1926236152648926,
          2.131807565689087,
          1.9930975437164307,
          1.9542922973632812,
          1.7876746654510498,
          1.7549831867218018,
          1.5410596132278442,
          1.5575408935546875,
          1.3400275707244873,
          1.316709041595459,
          1.310610055923462,
          1.1473338603973389,
          1.2843122482299805,
          1.033384084701538,
          1.0472700595855713,
          1.0036035776138306,
          0.9399663805961609,
          0.862129271030426,
          0.9270825982093811,
          0.6877015829086304,
          0.7388712763786316,
          0.90522301197052,
          0.7751337289810181,
          0.5528334975242615,
          0.6379759311676025,
          0.7932841777801514,
          0.6331199407577515,
          0.7666391134262085,
          0.7393683791160583,
          0.6229300498962402,
          0.4645642936229706,
          0.6718707084655762,
          0.5909457206726074,
          0.5991716384887695,
          0.539280116558075,
          0.5000998377799988,
          0.6513344645500183,
          0.4426148235797882,
          0.5473528504371643,
          0.5986539721488953,
          0.44979992508888245,
          0.46950697898864746,
          0.387977659702301,
          0.5409224033355713,
          0.4273368716239929,
          0.6906877756118774,
          0.7134749889373779,
          0.47075924277305603,
          0.32192936539649963,
          0.3543243408203125,
          0.42504650354385376,
          0.6599631309509277,
          0.5448759198188782,
          0.5157191753387451,
          0.7401582598686218,
          0.5895115733146667,
          0.33932819962501526,
          0.42255282402038574,
          0.6493246555328369,
          0.44482123851776123,
          0.49200162291526794,
          0.5493950843811035,
          0.5817849040031433,
          0.5319464206695557,
          0.4253652095794678,
          0.6358396410942078,
          0.5295253992080688,
          0.47678473591804504,
          0.30670034885406494,
          0.3627624213695526,
          0.6988807320594788,
          0.47210195660591125,
          0.45403721928596497,
          0.3696407675743103,
          0.5461907982826233,
          0.383341521024704,
          0.27393075823783875,
          0.6865273118019104,
          0.4677616357803345,
          0.5416179299354553,
          0.4626139998435974,
          0.3668058514595032,
          0.481869637966156,
          0.30440273880958557,
          0.2979162037372589,
          0.35848623514175415,
          0.342863529920578,
          0.5809802412986755,
          0.534783124923706,
          0.33496803045272827,
          0.47454360127449036,
          0.4317156970500946,
          0.29918670654296875,
          0.3332832157611847,
          0.23728494346141815,
          0.5107653141021729,
          0.36931312084198,
          0.36601781845092773,
          0.21805374324321747,
          0.25385022163391113,
          0.22053277492523193,
          0.3183252215385437,
          0.4052608609199524,
          0.3483126163482666,
          0.27667874097824097,
          0.25185585021972656,
          0.13415628671646118,
          0.23581276834011078,
          0.3637353479862213,
          0.3919375538825989,
          0.43775105476379395,
          0.42431074380874634,
          0.3051052689552307,
          0.44471943378448486,
          0.3512287139892578,
          0.3763501048088074,
          0.3599902391433716,
          0.21306172013282776,
          0.26970231533050537,
          0.5055545568466187,
          0.3693302869796753,
          0.2311791479587555,
          0.26237332820892334,
          0.39760205149650574,
          0.33177420496940613,
          0.15605834126472473,
          0.3691006600856781,
          0.3193953037261963,
          0.491761177778244,
          0.34690579771995544,
          0.24787884950637817,
          0.3002811670303345,
          0.3805676996707916,
          0.2658642828464508,
          0.40008288621902466,
          0.4319770038127899,
          0.22354672849178314,
          0.3760339319705963,
          0.1769564300775528,
          0.20136024057865143,
          0.23446808755397797,
          0.47101908922195435,
          0.33314791321754456,
          0.39757248759269714,
          0.37822431325912476,
          0.29530033469200134,
          0.3201976716518402,
          0.26761603355407715,
          0.2792748808860779,
          0.2655865550041199,
          0.3037567734718323,
          0.6847776174545288,
          0.34381890296936035,
          0.19175951182842255,
          0.35703492164611816,
          0.2353963404893875,
          0.29734188318252563,
          0.2953052222728729,
          0.3421538472175598,
          0.3301166594028473,
          0.45778322219848633,
          0.4337901473045349,
          0.3969801664352417,
          0.3791568875312805,
          0.3437013030052185,
          0.3291781544685364,
          0.16384786367416382,
          0.5030705332756042,
          0.2731225788593292,
          0.3023415803909302,
          0.42834529280662537,
          0.4781913161277771,
          0.28465986251831055,
          0.2886219024658203,
          0.40095260739326477,
          0.3736337125301361,
          0.20583736896514893,
          0.45816609263420105,
          0.14258059859275818,
          0.32475337386131287,
          0.23932106792926788,
          0.2208746075630188,
          0.3147006332874298,
          0.4770073890686035,
          0.28740987181663513,
          0.1477603018283844,
          0.31208041310310364,
          0.2587713599205017,
          0.4376238286495209,
          0.39579159021377563,
          0.22386981546878815,
          0.17554588615894318,
          0.12732593715190887,
          0.21556217968463898,
          0.1844044178724289,
          0.2560479938983917,
          0.4347611963748932,
          0.19368553161621094,
          0.2802513837814331,
          0.2565160095691681,
          0.2184298187494278,
          0.3868124186992645,
          0.20457659661769867,
          0.21922367811203003,
          0.17062081396579742,
          0.2678437829017639,
          0.2691458761692047,
          0.2939632833003998,
          0.1273650974035263,
          0.23523454368114471,
          0.32450249791145325,
          0.20516042411327362,
          0.2890356779098511,
          0.17737194895744324,
          0.27748745679855347,
          0.3517346680164337,
          0.2823605239391327,
          0.11361817270517349,
          0.2474019080400467,
          0.2439548671245575,
          0.10338155925273895,
          0.4074074625968933,
          0.1375836580991745,
          0.4646816849708557,
          0.20144438743591309,
          0.27869829535484314,
          0.18122588098049164,
          0.29728448390960693,
          0.21184556186199188,
          0.198520690202713,
          0.25847455859184265,
          0.19360078871250153,
          0.2017168551683426,
          0.2968990206718445,
          0.3482392132282257,
          0.23130717873573303,
          0.23463739454746246,
          0.3803570568561554,
          0.3301410973072052,
          0.2279365360736847,
          0.32355058193206787,
          0.16506914794445038,
          0.2991997003555298,
          0.2556874752044678,
          0.1902248114347458,
          0.224985271692276,
          0.19589535892009735,
          0.21433620154857635,
          0.3075140714645386,
          0.3307766318321228,
          0.2166195809841156,
          0.191927969455719,
          0.40188491344451904,
          0.1853318214416504,
          0.29522913694381714,
          0.24567635357379913,
          0.1884976178407669,
          0.21172188222408295,
          0.28429222106933594,
          0.2832525074481964,
          0.32582661509513855,
          0.2900659441947937,
          0.1778179258108139,
          0.23871734738349915,
          0.28615421056747437,
          0.3749566078186035,
          0.40720459818840027,
          0.18113073706626892,
          0.27261245250701904,
          0.3648396134376526,
          0.2966473400592804,
          0.15875700116157532,
          0.3421449661254883,
          0.272946834564209,
          0.37881413102149963,
          0.28652071952819824,
          0.15405195951461792,
          0.19271203875541687,
          0.07950843870639801,
          0.2321256399154663,
          0.11407828330993652
         ],
         "yaxis": "y"
        }
       ],
       "layout": {
        "hovermode": "x unified",
        "legend": {
         "tracegroupgap": 0
        },
        "template": {
         "data": {
          "bar": [
           {
            "error_x": {
             "color": "#2a3f5f"
            },
            "error_y": {
             "color": "#2a3f5f"
            },
            "marker": {
             "line": {
              "color": "#E5ECF6",
              "width": 0.5
             },
             "pattern": {
              "fillmode": "overlay",
              "size": 10,
              "solidity": 0.2
             }
            },
            "type": "bar"
           }
          ],
          "barpolar": [
           {
            "marker": {
             "line": {
              "color": "#E5ECF6",
              "width": 0.5
             },
             "pattern": {
              "fillmode": "overlay",
              "size": 10,
              "solidity": 0.2
             }
            },
            "type": "barpolar"
           }
          ],
          "carpet": [
           {
            "aaxis": {
             "endlinecolor": "#2a3f5f",
             "gridcolor": "white",
             "linecolor": "white",
             "minorgridcolor": "white",
             "startlinecolor": "#2a3f5f"
            },
            "baxis": {
             "endlinecolor": "#2a3f5f",
             "gridcolor": "white",
             "linecolor": "white",
             "minorgridcolor": "white",
             "startlinecolor": "#2a3f5f"
            },
            "type": "carpet"
           }
          ],
          "choropleth": [
           {
            "colorbar": {
             "outlinewidth": 0,
             "ticks": ""
            },
            "type": "choropleth"
           }
          ],
          "contour": [
           {
            "colorbar": {
             "outlinewidth": 0,
             "ticks": ""
            },
            "colorscale": [
             [
              0,
              "#0d0887"
             ],
             [
              0.1111111111111111,
              "#46039f"
             ],
             [
              0.2222222222222222,
              "#7201a8"
             ],
             [
              0.3333333333333333,
              "#9c179e"
             ],
             [
              0.4444444444444444,
              "#bd3786"
             ],
             [
              0.5555555555555556,
              "#d8576b"
             ],
             [
              0.6666666666666666,
              "#ed7953"
             ],
             [
              0.7777777777777778,
              "#fb9f3a"
             ],
             [
              0.8888888888888888,
              "#fdca26"
             ],
             [
              1,
              "#f0f921"
             ]
            ],
            "type": "contour"
           }
          ],
          "contourcarpet": [
           {
            "colorbar": {
             "outlinewidth": 0,
             "ticks": ""
            },
            "type": "contourcarpet"
           }
          ],
          "heatmap": [
           {
            "colorbar": {
             "outlinewidth": 0,
             "ticks": ""
            },
            "colorscale": [
             [
              0,
              "#0d0887"
             ],
             [
              0.1111111111111111,
              "#46039f"
             ],
             [
              0.2222222222222222,
              "#7201a8"
             ],
             [
              0.3333333333333333,
              "#9c179e"
             ],
             [
              0.4444444444444444,
              "#bd3786"
             ],
             [
              0.5555555555555556,
              "#d8576b"
             ],
             [
              0.6666666666666666,
              "#ed7953"
             ],
             [
              0.7777777777777778,
              "#fb9f3a"
             ],
             [
              0.8888888888888888,
              "#fdca26"
             ],
             [
              1,
              "#f0f921"
             ]
            ],
            "type": "heatmap"
           }
          ],
          "heatmapgl": [
           {
            "colorbar": {
             "outlinewidth": 0,
             "ticks": ""
            },
            "colorscale": [
             [
              0,
              "#0d0887"
             ],
             [
              0.1111111111111111,
              "#46039f"
             ],
             [
              0.2222222222222222,
              "#7201a8"
             ],
             [
              0.3333333333333333,
              "#9c179e"
             ],
             [
              0.4444444444444444,
              "#bd3786"
             ],
             [
              0.5555555555555556,
              "#d8576b"
             ],
             [
              0.6666666666666666,
              "#ed7953"
             ],
             [
              0.7777777777777778,
              "#fb9f3a"
             ],
             [
              0.8888888888888888,
              "#fdca26"
             ],
             [
              1,
              "#f0f921"
             ]
            ],
            "type": "heatmapgl"
           }
          ],
          "histogram": [
           {
            "marker": {
             "pattern": {
              "fillmode": "overlay",
              "size": 10,
              "solidity": 0.2
             }
            },
            "type": "histogram"
           }
          ],
          "histogram2d": [
           {
            "colorbar": {
             "outlinewidth": 0,
             "ticks": ""
            },
            "colorscale": [
             [
              0,
              "#0d0887"
             ],
             [
              0.1111111111111111,
              "#46039f"
             ],
             [
              0.2222222222222222,
              "#7201a8"
             ],
             [
              0.3333333333333333,
              "#9c179e"
             ],
             [
              0.4444444444444444,
              "#bd3786"
             ],
             [
              0.5555555555555556,
              "#d8576b"
             ],
             [
              0.6666666666666666,
              "#ed7953"
             ],
             [
              0.7777777777777778,
              "#fb9f3a"
             ],
             [
              0.8888888888888888,
              "#fdca26"
             ],
             [
              1,
              "#f0f921"
             ]
            ],
            "type": "histogram2d"
           }
          ],
          "histogram2dcontour": [
           {
            "colorbar": {
             "outlinewidth": 0,
             "ticks": ""
            },
            "colorscale": [
             [
              0,
              "#0d0887"
             ],
             [
              0.1111111111111111,
              "#46039f"
             ],
             [
              0.2222222222222222,
              "#7201a8"
             ],
             [
              0.3333333333333333,
              "#9c179e"
             ],
             [
              0.4444444444444444,
              "#bd3786"
             ],
             [
              0.5555555555555556,
              "#d8576b"
             ],
             [
              0.6666666666666666,
              "#ed7953"
             ],
             [
              0.7777777777777778,
              "#fb9f3a"
             ],
             [
              0.8888888888888888,
              "#fdca26"
             ],
             [
              1,
              "#f0f921"
             ]
            ],
            "type": "histogram2dcontour"
           }
          ],
          "mesh3d": [
           {
            "colorbar": {
             "outlinewidth": 0,
             "ticks": ""
            },
            "type": "mesh3d"
           }
          ],
          "parcoords": [
           {
            "line": {
             "colorbar": {
              "outlinewidth": 0,
              "ticks": ""
             }
            },
            "type": "parcoords"
           }
          ],
          "pie": [
           {
            "automargin": true,
            "type": "pie"
           }
          ],
          "scatter": [
           {
            "fillpattern": {
             "fillmode": "overlay",
             "size": 10,
             "solidity": 0.2
            },
            "type": "scatter"
           }
          ],
          "scatter3d": [
           {
            "line": {
             "colorbar": {
              "outlinewidth": 0,
              "ticks": ""
             }
            },
            "marker": {
             "colorbar": {
              "outlinewidth": 0,
              "ticks": ""
             }
            },
            "type": "scatter3d"
           }
          ],
          "scattercarpet": [
           {
            "marker": {
             "colorbar": {
              "outlinewidth": 0,
              "ticks": ""
             }
            },
            "type": "scattercarpet"
           }
          ],
          "scattergeo": [
           {
            "marker": {
             "colorbar": {
              "outlinewidth": 0,
              "ticks": ""
             }
            },
            "type": "scattergeo"
           }
          ],
          "scattergl": [
           {
            "marker": {
             "colorbar": {
              "outlinewidth": 0,
              "ticks": ""
             }
            },
            "type": "scattergl"
           }
          ],
          "scattermapbox": [
           {
            "marker": {
             "colorbar": {
              "outlinewidth": 0,
              "ticks": ""
             }
            },
            "type": "scattermapbox"
           }
          ],
          "scatterpolar": [
           {
            "marker": {
             "colorbar": {
              "outlinewidth": 0,
              "ticks": ""
             }
            },
            "type": "scatterpolar"
           }
          ],
          "scatterpolargl": [
           {
            "marker": {
             "colorbar": {
              "outlinewidth": 0,
              "ticks": ""
             }
            },
            "type": "scatterpolargl"
           }
          ],
          "scatterternary": [
           {
            "marker": {
             "colorbar": {
              "outlinewidth": 0,
              "ticks": ""
             }
            },
            "type": "scatterternary"
           }
          ],
          "surface": [
           {
            "colorbar": {
             "outlinewidth": 0,
             "ticks": ""
            },
            "colorscale": [
             [
              0,
              "#0d0887"
             ],
             [
              0.1111111111111111,
              "#46039f"
             ],
             [
              0.2222222222222222,
              "#7201a8"
             ],
             [
              0.3333333333333333,
              "#9c179e"
             ],
             [
              0.4444444444444444,
              "#bd3786"
             ],
             [
              0.5555555555555556,
              "#d8576b"
             ],
             [
              0.6666666666666666,
              "#ed7953"
             ],
             [
              0.7777777777777778,
              "#fb9f3a"
             ],
             [
              0.8888888888888888,
              "#fdca26"
             ],
             [
              1,
              "#f0f921"
             ]
            ],
            "type": "surface"
           }
          ],
          "table": [
           {
            "cells": {
             "fill": {
              "color": "#EBF0F8"
             },
             "line": {
              "color": "white"
             }
            },
            "header": {
             "fill": {
              "color": "#C8D4E3"
             },
             "line": {
              "color": "white"
             }
            },
            "type": "table"
           }
          ]
         },
         "layout": {
          "annotationdefaults": {
           "arrowcolor": "#2a3f5f",
           "arrowhead": 0,
           "arrowwidth": 1
          },
          "autotypenumbers": "strict",
          "coloraxis": {
           "colorbar": {
            "outlinewidth": 0,
            "ticks": ""
           }
          },
          "colorscale": {
           "diverging": [
            [
             0,
             "#8e0152"
            ],
            [
             0.1,
             "#c51b7d"
            ],
            [
             0.2,
             "#de77ae"
            ],
            [
             0.3,
             "#f1b6da"
            ],
            [
             0.4,
             "#fde0ef"
            ],
            [
             0.5,
             "#f7f7f7"
            ],
            [
             0.6,
             "#e6f5d0"
            ],
            [
             0.7,
             "#b8e186"
            ],
            [
             0.8,
             "#7fbc41"
            ],
            [
             0.9,
             "#4d9221"
            ],
            [
             1,
             "#276419"
            ]
           ],
           "sequential": [
            [
             0,
             "#0d0887"
            ],
            [
             0.1111111111111111,
             "#46039f"
            ],
            [
             0.2222222222222222,
             "#7201a8"
            ],
            [
             0.3333333333333333,
             "#9c179e"
            ],
            [
             0.4444444444444444,
             "#bd3786"
            ],
            [
             0.5555555555555556,
             "#d8576b"
            ],
            [
             0.6666666666666666,
             "#ed7953"
            ],
            [
             0.7777777777777778,
             "#fb9f3a"
            ],
            [
             0.8888888888888888,
             "#fdca26"
            ],
            [
             1,
             "#f0f921"
            ]
           ],
           "sequentialminus": [
            [
             0,
             "#0d0887"
            ],
            [
             0.1111111111111111,
             "#46039f"
            ],
            [
             0.2222222222222222,
             "#7201a8"
            ],
            [
             0.3333333333333333,
             "#9c179e"
            ],
            [
             0.4444444444444444,
             "#bd3786"
            ],
            [
             0.5555555555555556,
             "#d8576b"
            ],
            [
             0.6666666666666666,
             "#ed7953"
            ],
            [
             0.7777777777777778,
             "#fb9f3a"
            ],
            [
             0.8888888888888888,
             "#fdca26"
            ],
            [
             1,
             "#f0f921"
            ]
           ]
          },
          "colorway": [
           "#636efa",
           "#EF553B",
           "#00cc96",
           "#ab63fa",
           "#FFA15A",
           "#19d3f3",
           "#FF6692",
           "#B6E880",
           "#FF97FF",
           "#FECB52"
          ],
          "font": {
           "color": "#2a3f5f"
          },
          "geo": {
           "bgcolor": "white",
           "lakecolor": "white",
           "landcolor": "#E5ECF6",
           "showlakes": true,
           "showland": true,
           "subunitcolor": "white"
          },
          "hoverlabel": {
           "align": "left"
          },
          "hovermode": "closest",
          "mapbox": {
           "style": "light"
          },
          "paper_bgcolor": "white",
          "plot_bgcolor": "#E5ECF6",
          "polar": {
           "angularaxis": {
            "gridcolor": "white",
            "linecolor": "white",
            "ticks": ""
           },
           "bgcolor": "#E5ECF6",
           "radialaxis": {
            "gridcolor": "white",
            "linecolor": "white",
            "ticks": ""
           }
          },
          "scene": {
           "xaxis": {
            "backgroundcolor": "#E5ECF6",
            "gridcolor": "white",
            "gridwidth": 2,
            "linecolor": "white",
            "showbackground": true,
            "ticks": "",
            "zerolinecolor": "white"
           },
           "yaxis": {
            "backgroundcolor": "#E5ECF6",
            "gridcolor": "white",
            "gridwidth": 2,
            "linecolor": "white",
            "showbackground": true,
            "ticks": "",
            "zerolinecolor": "white"
           },
           "zaxis": {
            "backgroundcolor": "#E5ECF6",
            "gridcolor": "white",
            "gridwidth": 2,
            "linecolor": "white",
            "showbackground": true,
            "ticks": "",
            "zerolinecolor": "white"
           }
          },
          "shapedefaults": {
           "line": {
            "color": "#2a3f5f"
           }
          },
          "ternary": {
           "aaxis": {
            "gridcolor": "white",
            "linecolor": "white",
            "ticks": ""
           },
           "baxis": {
            "gridcolor": "white",
            "linecolor": "white",
            "ticks": ""
           },
           "bgcolor": "#E5ECF6",
           "caxis": {
            "gridcolor": "white",
            "linecolor": "white",
            "ticks": ""
           }
          },
          "title": {
           "x": 0.05
          },
          "xaxis": {
           "automargin": true,
           "gridcolor": "white",
           "linecolor": "white",
           "ticks": "",
           "title": {
            "standoff": 15
           },
           "zerolinecolor": "white",
           "zerolinewidth": 2
          },
          "yaxis": {
           "automargin": true,
           "gridcolor": "white",
           "linecolor": "white",
           "ticks": "",
           "title": {
            "standoff": 15
           },
           "zerolinecolor": "white",
           "zerolinewidth": 2
          }
         }
        },
        "title": {
         "text": "SimpleMLP training on MNIST"
        },
        "width": 700,
        "xaxis": {
         "anchor": "y",
         "domain": [
          0,
          1
         ],
         "title": {
          "text": "Num batches seen"
         }
        },
        "yaxis": {
         "anchor": "x",
         "domain": [
          0,
          1
         ],
         "range": [
          0,
          2.3953026294708253
         ],
         "title": {
          "text": "Cross entropy loss"
         }
        }
       }
      }
     },
     "metadata": {},
     "output_type": "display_data"
    }
   ],
   "source": [
    "@dataclass\n",
    "class SimpleMLPTrainingArgs():\n",
    "    '''\n",
    "    Defining this class implicitly creates an __init__ method, which sets arguments as\n",
    "    given below, e.g. self.batch_size = 64. Any of these arguments can also be overridden\n",
    "    when you create an instance, e.g. args = SimpleMLPTrainingArgs(batch_size=128).\n",
    "    '''\n",
    "    batch_size: int = 64\n",
    "    epochs: int = 3\n",
    "    learning_rate: float = 1e-3\n",
    "    subset: int = 10\n",
    "\n",
    "\n",
    "def train(args: SimpleMLPTrainingArgs):\n",
    "    '''\n",
    "    Trains the model, using training parameters from the `args` object.\n",
    "    '''\n",
    "    model = SimpleMLP().to(device)\n",
    "\n",
    "    mnist_trainset, _ = get_mnist(subset=args.subset)\n",
    "    mnist_trainloader = DataLoader(mnist_trainset, batch_size=args.batch_size, shuffle=True)\n",
    "\n",
    "    optimizer = t.optim.Adam(model.parameters(), lr=args.learning_rate)\n",
    "    loss_list = []\n",
    "\n",
    "    for epoch in tqdm(range(args.epochs)):\n",
    "        for imgs, labels in mnist_trainloader:\n",
    "            imgs = imgs.to(device)\n",
    "            labels = labels.to(device)\n",
    "            logits = model(imgs)\n",
    "            loss = F.cross_entropy(logits, labels)\n",
    "            loss.backward()\n",
    "            optimizer.step()\n",
    "            optimizer.zero_grad()\n",
    "            loss_list.append(loss.item())\n",
    "\n",
    "    line(\n",
    "        loss_list,\n",
    "        yaxis_range=[0, max(loss_list) + 0.1],\n",
    "        labels={\"x\": \"Num batches seen\", \"y\": \"Cross entropy loss\"},\n",
    "        title=\"SimpleMLP training on MNIST\",\n",
    "        width=700\n",
    "    )\n",
    "\n",
    "\n",
    "args = SimpleMLPTrainingArgs()\n",
    "train(args)"
   ]
  },
  {
   "cell_type": "markdown",
   "metadata": {},
   "source": [
    "### Exercise - add a validation loop\n",
    "\n",
    "```yaml\n",
    "Difficulty: 🔴🔴🔴⚪⚪\n",
    "Importance: 🔵🔵🔵🔵🔵\n",
    "\n",
    "You should spend up to ~20 minutes on this exercise.\n",
    "\n",
    "It is very important that you understand training loops and how they work, because we'll be doing a lot of model training in this way.\n",
    "```\n",
    "\n",
    "Edit the `train` function above to include a validation loop. Train your model, making sure you measure the accuracy at the end of each epoch.\n",
    "\n",
    "Here are a few tips to help you:\n",
    "\n",
    "* During the validation step, you should be measuring **accuracy**, which is defined as **the fraction of correctly classified images**.\n",
    "    * Note that (unlike loss) accuracy should only be logged after you've gone through the whole validation set. This is because your model doesn't update between computing different accuracies, so it doesn't make sense to log all of them separately.\n",
    "* You don't need to convert to probabilities before calculating accuracy (or even to logprobs), because softmax is an order-preserving function.\n",
    "* You can wrap your code in `with t.inference_mode():` to make sure that your model is in inference mode during validation (i.e. gradients don't propagate).\n",
    "    * Note you could also use the decorator `@t.inference_mode()` to do this, if your training loop was a function.\n",
    "* The `get_mnist` function returns both a trainset and a testset. In the `train` function above we only used the first one, but you should use both.\n",
    "* You'll need a dataloader for the testset, just like we did for the trainset. It doesn't matter whether you shuffle the testset or not, because we're not updating our model parameters during validation."
   ]
  },
  {
   "cell_type": "code",
   "execution_count": 12,
   "metadata": {},
   "outputs": [
    {
     "data": {
      "application/vnd.jupyter.widget-view+json": {
       "model_id": "131ee9823f9a442aa1b819decb35c940",
       "version_major": 2,
       "version_minor": 0
      },
      "text/plain": [
       "  0%|          | 0/3 [00:00<?, ?it/s]"
      ]
     },
     "metadata": {},
     "output_type": "display_data"
    },
    {
     "name": "stdout",
     "output_type": "stream",
     "text": [
      "epoch:0 accuracy= 0.8880000114440918\n",
      "epoch:1 accuracy= 0.8939999938011169\n",
      "epoch:2 accuracy= 0.890999972820282\n"
     ]
    },
    {
     "data": {
      "application/vnd.plotly.v1+json": {
       "config": {
        "plotlyServerURL": "https://plot.ly"
       },
       "data": [
        {
         "hovertemplate": "Num batches seen=%{x}<br>Cross entropy loss=%{y}<extra></extra>",
         "legendgroup": "",
         "line": {
          "color": "#636efa",
          "dash": "solid"
         },
         "marker": {
          "symbol": "circle"
         },
         "mode": "lines",
         "name": "",
         "orientation": "v",
         "showlegend": false,
         "type": "scatter",
         "x": [
          0,
          1,
          2,
          3,
          4,
          5,
          6,
          7,
          8,
          9,
          10,
          11,
          12,
          13,
          14,
          15,
          16,
          17,
          18,
          19,
          20,
          21,
          22,
          23,
          24,
          25,
          26,
          27,
          28,
          29,
          30,
          31,
          32,
          33,
          34,
          35,
          36,
          37,
          38,
          39,
          40,
          41,
          42,
          43,
          44,
          45,
          46,
          47,
          48,
          49,
          50,
          51,
          52,
          53,
          54,
          55,
          56,
          57,
          58,
          59,
          60,
          61,
          62,
          63,
          64,
          65,
          66,
          67,
          68,
          69,
          70,
          71,
          72,
          73,
          74,
          75,
          76,
          77,
          78,
          79,
          80,
          81,
          82,
          83,
          84,
          85,
          86,
          87,
          88,
          89,
          90,
          91,
          92,
          93,
          94,
          95,
          96,
          97,
          98,
          99,
          100,
          101,
          102,
          103,
          104,
          105,
          106,
          107,
          108,
          109,
          110,
          111,
          112,
          113,
          114,
          115,
          116,
          117,
          118,
          119,
          120,
          121,
          122,
          123,
          124,
          125,
          126,
          127,
          128,
          129,
          130,
          131,
          132,
          133,
          134,
          135,
          136,
          137,
          138,
          139,
          140,
          141,
          142,
          143,
          144,
          145,
          146,
          147,
          148,
          149,
          150,
          151,
          152,
          153,
          154,
          155,
          156,
          157,
          158,
          159,
          160,
          161,
          162,
          163,
          164,
          165,
          166,
          167,
          168,
          169,
          170,
          171,
          172,
          173,
          174,
          175,
          176,
          177,
          178,
          179,
          180,
          181,
          182,
          183,
          184,
          185,
          186,
          187,
          188,
          189,
          190,
          191,
          192,
          193,
          194,
          195,
          196,
          197,
          198,
          199,
          200,
          201,
          202,
          203,
          204,
          205,
          206,
          207,
          208,
          209,
          210,
          211,
          212,
          213,
          214,
          215,
          216,
          217,
          218,
          219,
          220,
          221,
          222,
          223,
          224,
          225,
          226,
          227,
          228,
          229,
          230,
          231,
          232,
          233,
          234,
          235,
          236,
          237,
          238,
          239,
          240,
          241,
          242,
          243,
          244,
          245,
          246,
          247,
          248,
          249,
          250,
          251,
          252,
          253,
          254,
          255,
          256,
          257,
          258,
          259,
          260,
          261,
          262,
          263,
          264,
          265,
          266,
          267,
          268,
          269,
          270,
          271,
          272,
          273,
          274,
          275,
          276,
          277,
          278,
          279,
          280,
          281
         ],
         "xaxis": "x",
         "y": [
          2.294027328491211,
          2.1778786182403564,
          2.1413161754608154,
          2.0110557079315186,
          1.907135009765625,
          1.7263706922531128,
          1.77025306224823,
          1.5013567209243774,
          1.4917575120925903,
          1.3442752361297607,
          1.2099963426589966,
          1.280320167541504,
          1.1728616952896118,
          1.1225064992904663,
          0.9372422695159912,
          0.8494914174079895,
          0.971645712852478,
          0.952383279800415,
          0.9942334890365601,
          0.8150503635406494,
          0.8827845454216003,
          0.7711084485054016,
          0.7387562394142151,
          0.8097254037857056,
          0.6844721436500549,
          0.6526585221290588,
          0.7163307666778564,
          0.5292792916297913,
          0.65946364402771,
          0.6999156475067139,
          0.5332674980163574,
          0.7060750126838684,
          0.568945586681366,
          0.7295607328414917,
          0.7000160217285156,
          0.5793641209602356,
          0.46281081438064575,
          0.5606465339660645,
          0.5206838250160217,
          0.5748627781867981,
          0.6700934171676636,
          0.5010461807250977,
          0.8401552438735962,
          0.6468939781188965,
          0.5053328275680542,
          0.5035591721534729,
          0.5423736572265625,
          0.5969436168670654,
          0.3713350296020508,
          0.44270309805870056,
          0.4545496106147766,
          0.39402738213539124,
          0.431963711977005,
          0.5184382796287537,
          0.5800871849060059,
          0.31220096349716187,
          0.5906969904899597,
          0.4221374988555908,
          0.21676068007946014,
          0.3038399815559387,
          0.5570675134658813,
          0.597069501876831,
          0.3290303647518158,
          0.5394916534423828,
          0.3791843056678772,
          0.42814233899116516,
          0.3174555003643036,
          0.5079155564308167,
          0.31952255964279175,
          0.3084774613380432,
          0.4012426733970642,
          0.46870991587638855,
          0.2617424428462982,
          0.6892054080963135,
          0.7416782975196838,
          0.502078115940094,
          0.280685693025589,
          0.38973769545555115,
          0.47786945104599,
          0.32547861337661743,
          0.4749433100223541,
          0.47910887002944946,
          0.3751334846019745,
          0.31888461112976074,
          0.41223403811454773,
          0.35890433192253113,
          0.41258764266967773,
          0.28222230076789856,
          0.3582564890384674,
          0.40651094913482666,
          0.42640745639801025,
          0.31595662236213684,
          0.3982773423194885,
          0.33367720246315,
          0.3588466942310333,
          0.4432348906993866,
          0.23177669942378998,
          0.26358291506767273,
          0.2758161723613739,
          0.3885445296764374,
          0.4427005648612976,
          0.3659675419330597,
          0.23347108066082,
          0.33328479528427124,
          0.23600079119205475,
          0.29601988196372986,
          0.41285568475723267,
          0.16188454627990723,
          0.3636682629585266,
          0.30361345410346985,
          0.42950379848480225,
          0.26983803510665894,
          0.49926042556762695,
          0.2196117788553238,
          0.45154058933258057,
          0.24666716158390045,
          0.3772010803222656,
          0.3167721629142761,
          0.2116531878709793,
          0.23704412579536438,
          0.617257297039032,
          0.5173230171203613,
          0.3609105348587036,
          0.26869919896125793,
          0.47224247455596924,
          0.3501007854938507,
          0.5037732720375061,
          0.24537014961242676,
          0.15720674395561218,
          0.26754242181777954,
          0.33112844824790955,
          0.3006599247455597,
          0.2907502353191376,
          0.23290523886680603,
          0.34777355194091797,
          0.5983547568321228,
          0.4218003749847412,
          0.3172706365585327,
          0.3100336492061615,
          0.47604304552078247,
          0.31487491726875305,
          0.36135414242744446,
          0.4199371337890625,
          0.48101237416267395,
          0.3957079350948334,
          0.4445355236530304,
          0.42939525842666626,
          0.38478371500968933,
          0.2659448981285095,
          0.199595645070076,
          0.30844846367836,
          0.3960272967815399,
          0.5143493413925171,
          0.3221931457519531,
          0.46742135286331177,
          0.4697575867176056,
          0.248586967587471,
          0.23642027378082275,
          0.3725460171699524,
          0.27580592036247253,
          0.3911656439304352,
          0.45123428106307983,
          0.3323875069618225,
          0.35947614908218384,
          0.2675880193710327,
          0.31104713678359985,
          0.3051440417766571,
          0.3105643689632416,
          0.3562470078468323,
          0.3212030827999115,
          0.34265393018722534,
          0.28628721833229065,
          0.5028005242347717,
          0.3998330533504486,
          0.46828973293304443,
          0.23620140552520752,
          0.25907015800476074,
          0.20740413665771484,
          0.36948665976524353,
          0.31801319122314453,
          0.19282323122024536,
          0.31604138016700745,
          0.3503757119178772,
          0.1779256910085678,
          0.45881620049476624,
          0.1453183889389038,
          0.18005485832691193,
          0.6161532998085022,
          0.3294914960861206,
          0.25075769424438477,
          0.21915918588638306,
          0.23878151178359985,
          0.5386438965797424,
          0.2011849284172058,
          0.1896589696407318,
          0.2960500419139862,
          0.3903657793998718,
          0.27537667751312256,
          0.25894859433174133,
          0.22175271809101105,
          0.18784509599208832,
          0.2772309482097626,
          0.3933863937854767,
          0.20186665654182434,
          0.348376601934433,
          0.18204659223556519,
          0.25993454456329346,
          0.29116496443748474,
          0.232638880610466,
          0.3233013451099396,
          0.2844837009906769,
          0.24441394209861755,
          0.3096332252025604,
          0.3376277685165405,
          0.3104555308818817,
          0.20332840085029602,
          0.37508076429367065,
          0.21291875839233398,
          0.24267242848873138,
          0.1250944584608078,
          0.20091399550437927,
          0.24718815088272095,
          0.4740397036075592,
          0.24517188966274261,
          0.3778783082962036,
          0.3945787847042084,
          0.27321088314056396,
          0.2764933705329895,
          0.2711828947067261,
          0.17175717651844025,
          0.35429203510284424,
          0.24136249721050262,
          0.3361232280731201,
          0.18101796507835388,
          0.19986554980278015,
          0.3228665590286255,
          0.23922143876552582,
          0.22709238529205322,
          0.14117883145809174,
          0.24427728354930878,
          0.2755420506000519,
          0.32016876339912415,
          0.1816261261701584,
          0.2881438732147217,
          0.31713446974754333,
          0.3714553415775299,
          0.5228295922279358,
          0.33253586292266846,
          0.31515610218048096,
          0.23719757795333862,
          0.35125139355659485,
          0.37614527344703674,
          0.13816986978054047,
          0.21147170662879944,
          0.44131001830101013,
          0.2897447645664215,
          0.17157593369483948,
          0.38395848870277405,
          0.3111313581466675,
          0.31417346000671387,
          0.2121264934539795,
          0.18569469451904297,
          0.3412942886352539,
          0.19228334724903107,
          0.12594951689243317,
          0.29300814867019653,
          0.3657357692718506,
          0.3230423331260681,
          0.2537235617637634,
          0.3234691023826599,
          0.37323418259620667,
          0.29555433988571167,
          0.2637808918952942,
          0.25925248861312866,
          0.24073255062103271,
          0.2573334574699402,
          0.3918904662132263,
          0.21265599131584167,
          0.20663651823997498,
          0.32873478531837463,
          0.18198326230049133,
          0.23311485350131989
         ],
         "yaxis": "y"
        }
       ],
       "layout": {
        "hovermode": "x unified",
        "legend": {
         "tracegroupgap": 0
        },
        "template": {
         "data": {
          "bar": [
           {
            "error_x": {
             "color": "#2a3f5f"
            },
            "error_y": {
             "color": "#2a3f5f"
            },
            "marker": {
             "line": {
              "color": "#E5ECF6",
              "width": 0.5
             },
             "pattern": {
              "fillmode": "overlay",
              "size": 10,
              "solidity": 0.2
             }
            },
            "type": "bar"
           }
          ],
          "barpolar": [
           {
            "marker": {
             "line": {
              "color": "#E5ECF6",
              "width": 0.5
             },
             "pattern": {
              "fillmode": "overlay",
              "size": 10,
              "solidity": 0.2
             }
            },
            "type": "barpolar"
           }
          ],
          "carpet": [
           {
            "aaxis": {
             "endlinecolor": "#2a3f5f",
             "gridcolor": "white",
             "linecolor": "white",
             "minorgridcolor": "white",
             "startlinecolor": "#2a3f5f"
            },
            "baxis": {
             "endlinecolor": "#2a3f5f",
             "gridcolor": "white",
             "linecolor": "white",
             "minorgridcolor": "white",
             "startlinecolor": "#2a3f5f"
            },
            "type": "carpet"
           }
          ],
          "choropleth": [
           {
            "colorbar": {
             "outlinewidth": 0,
             "ticks": ""
            },
            "type": "choropleth"
           }
          ],
          "contour": [
           {
            "colorbar": {
             "outlinewidth": 0,
             "ticks": ""
            },
            "colorscale": [
             [
              0,
              "#0d0887"
             ],
             [
              0.1111111111111111,
              "#46039f"
             ],
             [
              0.2222222222222222,
              "#7201a8"
             ],
             [
              0.3333333333333333,
              "#9c179e"
             ],
             [
              0.4444444444444444,
              "#bd3786"
             ],
             [
              0.5555555555555556,
              "#d8576b"
             ],
             [
              0.6666666666666666,
              "#ed7953"
             ],
             [
              0.7777777777777778,
              "#fb9f3a"
             ],
             [
              0.8888888888888888,
              "#fdca26"
             ],
             [
              1,
              "#f0f921"
             ]
            ],
            "type": "contour"
           }
          ],
          "contourcarpet": [
           {
            "colorbar": {
             "outlinewidth": 0,
             "ticks": ""
            },
            "type": "contourcarpet"
           }
          ],
          "heatmap": [
           {
            "colorbar": {
             "outlinewidth": 0,
             "ticks": ""
            },
            "colorscale": [
             [
              0,
              "#0d0887"
             ],
             [
              0.1111111111111111,
              "#46039f"
             ],
             [
              0.2222222222222222,
              "#7201a8"
             ],
             [
              0.3333333333333333,
              "#9c179e"
             ],
             [
              0.4444444444444444,
              "#bd3786"
             ],
             [
              0.5555555555555556,
              "#d8576b"
             ],
             [
              0.6666666666666666,
              "#ed7953"
             ],
             [
              0.7777777777777778,
              "#fb9f3a"
             ],
             [
              0.8888888888888888,
              "#fdca26"
             ],
             [
              1,
              "#f0f921"
             ]
            ],
            "type": "heatmap"
           }
          ],
          "heatmapgl": [
           {
            "colorbar": {
             "outlinewidth": 0,
             "ticks": ""
            },
            "colorscale": [
             [
              0,
              "#0d0887"
             ],
             [
              0.1111111111111111,
              "#46039f"
             ],
             [
              0.2222222222222222,
              "#7201a8"
             ],
             [
              0.3333333333333333,
              "#9c179e"
             ],
             [
              0.4444444444444444,
              "#bd3786"
             ],
             [
              0.5555555555555556,
              "#d8576b"
             ],
             [
              0.6666666666666666,
              "#ed7953"
             ],
             [
              0.7777777777777778,
              "#fb9f3a"
             ],
             [
              0.8888888888888888,
              "#fdca26"
             ],
             [
              1,
              "#f0f921"
             ]
            ],
            "type": "heatmapgl"
           }
          ],
          "histogram": [
           {
            "marker": {
             "pattern": {
              "fillmode": "overlay",
              "size": 10,
              "solidity": 0.2
             }
            },
            "type": "histogram"
           }
          ],
          "histogram2d": [
           {
            "colorbar": {
             "outlinewidth": 0,
             "ticks": ""
            },
            "colorscale": [
             [
              0,
              "#0d0887"
             ],
             [
              0.1111111111111111,
              "#46039f"
             ],
             [
              0.2222222222222222,
              "#7201a8"
             ],
             [
              0.3333333333333333,
              "#9c179e"
             ],
             [
              0.4444444444444444,
              "#bd3786"
             ],
             [
              0.5555555555555556,
              "#d8576b"
             ],
             [
              0.6666666666666666,
              "#ed7953"
             ],
             [
              0.7777777777777778,
              "#fb9f3a"
             ],
             [
              0.8888888888888888,
              "#fdca26"
             ],
             [
              1,
              "#f0f921"
             ]
            ],
            "type": "histogram2d"
           }
          ],
          "histogram2dcontour": [
           {
            "colorbar": {
             "outlinewidth": 0,
             "ticks": ""
            },
            "colorscale": [
             [
              0,
              "#0d0887"
             ],
             [
              0.1111111111111111,
              "#46039f"
             ],
             [
              0.2222222222222222,
              "#7201a8"
             ],
             [
              0.3333333333333333,
              "#9c179e"
             ],
             [
              0.4444444444444444,
              "#bd3786"
             ],
             [
              0.5555555555555556,
              "#d8576b"
             ],
             [
              0.6666666666666666,
              "#ed7953"
             ],
             [
              0.7777777777777778,
              "#fb9f3a"
             ],
             [
              0.8888888888888888,
              "#fdca26"
             ],
             [
              1,
              "#f0f921"
             ]
            ],
            "type": "histogram2dcontour"
           }
          ],
          "mesh3d": [
           {
            "colorbar": {
             "outlinewidth": 0,
             "ticks": ""
            },
            "type": "mesh3d"
           }
          ],
          "parcoords": [
           {
            "line": {
             "colorbar": {
              "outlinewidth": 0,
              "ticks": ""
             }
            },
            "type": "parcoords"
           }
          ],
          "pie": [
           {
            "automargin": true,
            "type": "pie"
           }
          ],
          "scatter": [
           {
            "fillpattern": {
             "fillmode": "overlay",
             "size": 10,
             "solidity": 0.2
            },
            "type": "scatter"
           }
          ],
          "scatter3d": [
           {
            "line": {
             "colorbar": {
              "outlinewidth": 0,
              "ticks": ""
             }
            },
            "marker": {
             "colorbar": {
              "outlinewidth": 0,
              "ticks": ""
             }
            },
            "type": "scatter3d"
           }
          ],
          "scattercarpet": [
           {
            "marker": {
             "colorbar": {
              "outlinewidth": 0,
              "ticks": ""
             }
            },
            "type": "scattercarpet"
           }
          ],
          "scattergeo": [
           {
            "marker": {
             "colorbar": {
              "outlinewidth": 0,
              "ticks": ""
             }
            },
            "type": "scattergeo"
           }
          ],
          "scattergl": [
           {
            "marker": {
             "colorbar": {
              "outlinewidth": 0,
              "ticks": ""
             }
            },
            "type": "scattergl"
           }
          ],
          "scattermapbox": [
           {
            "marker": {
             "colorbar": {
              "outlinewidth": 0,
              "ticks": ""
             }
            },
            "type": "scattermapbox"
           }
          ],
          "scatterpolar": [
           {
            "marker": {
             "colorbar": {
              "outlinewidth": 0,
              "ticks": ""
             }
            },
            "type": "scatterpolar"
           }
          ],
          "scatterpolargl": [
           {
            "marker": {
             "colorbar": {
              "outlinewidth": 0,
              "ticks": ""
             }
            },
            "type": "scatterpolargl"
           }
          ],
          "scatterternary": [
           {
            "marker": {
             "colorbar": {
              "outlinewidth": 0,
              "ticks": ""
             }
            },
            "type": "scatterternary"
           }
          ],
          "surface": [
           {
            "colorbar": {
             "outlinewidth": 0,
             "ticks": ""
            },
            "colorscale": [
             [
              0,
              "#0d0887"
             ],
             [
              0.1111111111111111,
              "#46039f"
             ],
             [
              0.2222222222222222,
              "#7201a8"
             ],
             [
              0.3333333333333333,
              "#9c179e"
             ],
             [
              0.4444444444444444,
              "#bd3786"
             ],
             [
              0.5555555555555556,
              "#d8576b"
             ],
             [
              0.6666666666666666,
              "#ed7953"
             ],
             [
              0.7777777777777778,
              "#fb9f3a"
             ],
             [
              0.8888888888888888,
              "#fdca26"
             ],
             [
              1,
              "#f0f921"
             ]
            ],
            "type": "surface"
           }
          ],
          "table": [
           {
            "cells": {
             "fill": {
              "color": "#EBF0F8"
             },
             "line": {
              "color": "white"
             }
            },
            "header": {
             "fill": {
              "color": "#C8D4E3"
             },
             "line": {
              "color": "white"
             }
            },
            "type": "table"
           }
          ]
         },
         "layout": {
          "annotationdefaults": {
           "arrowcolor": "#2a3f5f",
           "arrowhead": 0,
           "arrowwidth": 1
          },
          "autotypenumbers": "strict",
          "coloraxis": {
           "colorbar": {
            "outlinewidth": 0,
            "ticks": ""
           }
          },
          "colorscale": {
           "diverging": [
            [
             0,
             "#8e0152"
            ],
            [
             0.1,
             "#c51b7d"
            ],
            [
             0.2,
             "#de77ae"
            ],
            [
             0.3,
             "#f1b6da"
            ],
            [
             0.4,
             "#fde0ef"
            ],
            [
             0.5,
             "#f7f7f7"
            ],
            [
             0.6,
             "#e6f5d0"
            ],
            [
             0.7,
             "#b8e186"
            ],
            [
             0.8,
             "#7fbc41"
            ],
            [
             0.9,
             "#4d9221"
            ],
            [
             1,
             "#276419"
            ]
           ],
           "sequential": [
            [
             0,
             "#0d0887"
            ],
            [
             0.1111111111111111,
             "#46039f"
            ],
            [
             0.2222222222222222,
             "#7201a8"
            ],
            [
             0.3333333333333333,
             "#9c179e"
            ],
            [
             0.4444444444444444,
             "#bd3786"
            ],
            [
             0.5555555555555556,
             "#d8576b"
            ],
            [
             0.6666666666666666,
             "#ed7953"
            ],
            [
             0.7777777777777778,
             "#fb9f3a"
            ],
            [
             0.8888888888888888,
             "#fdca26"
            ],
            [
             1,
             "#f0f921"
            ]
           ],
           "sequentialminus": [
            [
             0,
             "#0d0887"
            ],
            [
             0.1111111111111111,
             "#46039f"
            ],
            [
             0.2222222222222222,
             "#7201a8"
            ],
            [
             0.3333333333333333,
             "#9c179e"
            ],
            [
             0.4444444444444444,
             "#bd3786"
            ],
            [
             0.5555555555555556,
             "#d8576b"
            ],
            [
             0.6666666666666666,
             "#ed7953"
            ],
            [
             0.7777777777777778,
             "#fb9f3a"
            ],
            [
             0.8888888888888888,
             "#fdca26"
            ],
            [
             1,
             "#f0f921"
            ]
           ]
          },
          "colorway": [
           "#636efa",
           "#EF553B",
           "#00cc96",
           "#ab63fa",
           "#FFA15A",
           "#19d3f3",
           "#FF6692",
           "#B6E880",
           "#FF97FF",
           "#FECB52"
          ],
          "font": {
           "color": "#2a3f5f"
          },
          "geo": {
           "bgcolor": "white",
           "lakecolor": "white",
           "landcolor": "#E5ECF6",
           "showlakes": true,
           "showland": true,
           "subunitcolor": "white"
          },
          "hoverlabel": {
           "align": "left"
          },
          "hovermode": "closest",
          "mapbox": {
           "style": "light"
          },
          "paper_bgcolor": "white",
          "plot_bgcolor": "#E5ECF6",
          "polar": {
           "angularaxis": {
            "gridcolor": "white",
            "linecolor": "white",
            "ticks": ""
           },
           "bgcolor": "#E5ECF6",
           "radialaxis": {
            "gridcolor": "white",
            "linecolor": "white",
            "ticks": ""
           }
          },
          "scene": {
           "xaxis": {
            "backgroundcolor": "#E5ECF6",
            "gridcolor": "white",
            "gridwidth": 2,
            "linecolor": "white",
            "showbackground": true,
            "ticks": "",
            "zerolinecolor": "white"
           },
           "yaxis": {
            "backgroundcolor": "#E5ECF6",
            "gridcolor": "white",
            "gridwidth": 2,
            "linecolor": "white",
            "showbackground": true,
            "ticks": "",
            "zerolinecolor": "white"
           },
           "zaxis": {
            "backgroundcolor": "#E5ECF6",
            "gridcolor": "white",
            "gridwidth": 2,
            "linecolor": "white",
            "showbackground": true,
            "ticks": "",
            "zerolinecolor": "white"
           }
          },
          "shapedefaults": {
           "line": {
            "color": "#2a3f5f"
           }
          },
          "ternary": {
           "aaxis": {
            "gridcolor": "white",
            "linecolor": "white",
            "ticks": ""
           },
           "baxis": {
            "gridcolor": "white",
            "linecolor": "white",
            "ticks": ""
           },
           "bgcolor": "#E5ECF6",
           "caxis": {
            "gridcolor": "white",
            "linecolor": "white",
            "ticks": ""
           }
          },
          "title": {
           "x": 0.05
          },
          "xaxis": {
           "automargin": true,
           "gridcolor": "white",
           "linecolor": "white",
           "ticks": "",
           "title": {
            "standoff": 15
           },
           "zerolinecolor": "white",
           "zerolinewidth": 2
          },
          "yaxis": {
           "automargin": true,
           "gridcolor": "white",
           "linecolor": "white",
           "ticks": "",
           "title": {
            "standoff": 15
           },
           "zerolinecolor": "white",
           "zerolinewidth": 2
          }
         }
        },
        "title": {
         "text": "SimpleMLP training on MNIST"
        },
        "width": 700,
        "xaxis": {
         "anchor": "y",
         "domain": [
          0,
          1
         ],
         "title": {
          "text": "Num batches seen"
         }
        },
        "yaxis": {
         "anchor": "x",
         "domain": [
          0,
          1
         ],
         "range": [
          0,
          2.394027328491211
         ],
         "title": {
          "text": "Cross entropy loss"
         }
        }
       }
      }
     },
     "metadata": {},
     "output_type": "display_data"
    },
    {
     "data": {
      "application/vnd.plotly.v1+json": {
       "config": {
        "plotlyServerURL": "https://plot.ly"
       },
       "data": [
        {
         "hovertemplate": "Num epochs=%{x}<br>Accuracy=%{y}<extra></extra>",
         "legendgroup": "",
         "line": {
          "color": "#636efa",
          "dash": "solid"
         },
         "marker": {
          "symbol": "circle"
         },
         "mode": "lines",
         "name": "",
         "orientation": "v",
         "showlegend": false,
         "type": "scatter",
         "x": [
          0,
          1,
          2
         ],
         "xaxis": "x",
         "y": [
          0.888,
          0.894,
          0.891
         ],
         "yaxis": "y"
        }
       ],
       "layout": {
        "hovermode": "x unified",
        "legend": {
         "tracegroupgap": 0
        },
        "template": {
         "data": {
          "bar": [
           {
            "error_x": {
             "color": "#2a3f5f"
            },
            "error_y": {
             "color": "#2a3f5f"
            },
            "marker": {
             "line": {
              "color": "#E5ECF6",
              "width": 0.5
             },
             "pattern": {
              "fillmode": "overlay",
              "size": 10,
              "solidity": 0.2
             }
            },
            "type": "bar"
           }
          ],
          "barpolar": [
           {
            "marker": {
             "line": {
              "color": "#E5ECF6",
              "width": 0.5
             },
             "pattern": {
              "fillmode": "overlay",
              "size": 10,
              "solidity": 0.2
             }
            },
            "type": "barpolar"
           }
          ],
          "carpet": [
           {
            "aaxis": {
             "endlinecolor": "#2a3f5f",
             "gridcolor": "white",
             "linecolor": "white",
             "minorgridcolor": "white",
             "startlinecolor": "#2a3f5f"
            },
            "baxis": {
             "endlinecolor": "#2a3f5f",
             "gridcolor": "white",
             "linecolor": "white",
             "minorgridcolor": "white",
             "startlinecolor": "#2a3f5f"
            },
            "type": "carpet"
           }
          ],
          "choropleth": [
           {
            "colorbar": {
             "outlinewidth": 0,
             "ticks": ""
            },
            "type": "choropleth"
           }
          ],
          "contour": [
           {
            "colorbar": {
             "outlinewidth": 0,
             "ticks": ""
            },
            "colorscale": [
             [
              0,
              "#0d0887"
             ],
             [
              0.1111111111111111,
              "#46039f"
             ],
             [
              0.2222222222222222,
              "#7201a8"
             ],
             [
              0.3333333333333333,
              "#9c179e"
             ],
             [
              0.4444444444444444,
              "#bd3786"
             ],
             [
              0.5555555555555556,
              "#d8576b"
             ],
             [
              0.6666666666666666,
              "#ed7953"
             ],
             [
              0.7777777777777778,
              "#fb9f3a"
             ],
             [
              0.8888888888888888,
              "#fdca26"
             ],
             [
              1,
              "#f0f921"
             ]
            ],
            "type": "contour"
           }
          ],
          "contourcarpet": [
           {
            "colorbar": {
             "outlinewidth": 0,
             "ticks": ""
            },
            "type": "contourcarpet"
           }
          ],
          "heatmap": [
           {
            "colorbar": {
             "outlinewidth": 0,
             "ticks": ""
            },
            "colorscale": [
             [
              0,
              "#0d0887"
             ],
             [
              0.1111111111111111,
              "#46039f"
             ],
             [
              0.2222222222222222,
              "#7201a8"
             ],
             [
              0.3333333333333333,
              "#9c179e"
             ],
             [
              0.4444444444444444,
              "#bd3786"
             ],
             [
              0.5555555555555556,
              "#d8576b"
             ],
             [
              0.6666666666666666,
              "#ed7953"
             ],
             [
              0.7777777777777778,
              "#fb9f3a"
             ],
             [
              0.8888888888888888,
              "#fdca26"
             ],
             [
              1,
              "#f0f921"
             ]
            ],
            "type": "heatmap"
           }
          ],
          "heatmapgl": [
           {
            "colorbar": {
             "outlinewidth": 0,
             "ticks": ""
            },
            "colorscale": [
             [
              0,
              "#0d0887"
             ],
             [
              0.1111111111111111,
              "#46039f"
             ],
             [
              0.2222222222222222,
              "#7201a8"
             ],
             [
              0.3333333333333333,
              "#9c179e"
             ],
             [
              0.4444444444444444,
              "#bd3786"
             ],
             [
              0.5555555555555556,
              "#d8576b"
             ],
             [
              0.6666666666666666,
              "#ed7953"
             ],
             [
              0.7777777777777778,
              "#fb9f3a"
             ],
             [
              0.8888888888888888,
              "#fdca26"
             ],
             [
              1,
              "#f0f921"
             ]
            ],
            "type": "heatmapgl"
           }
          ],
          "histogram": [
           {
            "marker": {
             "pattern": {
              "fillmode": "overlay",
              "size": 10,
              "solidity": 0.2
             }
            },
            "type": "histogram"
           }
          ],
          "histogram2d": [
           {
            "colorbar": {
             "outlinewidth": 0,
             "ticks": ""
            },
            "colorscale": [
             [
              0,
              "#0d0887"
             ],
             [
              0.1111111111111111,
              "#46039f"
             ],
             [
              0.2222222222222222,
              "#7201a8"
             ],
             [
              0.3333333333333333,
              "#9c179e"
             ],
             [
              0.4444444444444444,
              "#bd3786"
             ],
             [
              0.5555555555555556,
              "#d8576b"
             ],
             [
              0.6666666666666666,
              "#ed7953"
             ],
             [
              0.7777777777777778,
              "#fb9f3a"
             ],
             [
              0.8888888888888888,
              "#fdca26"
             ],
             [
              1,
              "#f0f921"
             ]
            ],
            "type": "histogram2d"
           }
          ],
          "histogram2dcontour": [
           {
            "colorbar": {
             "outlinewidth": 0,
             "ticks": ""
            },
            "colorscale": [
             [
              0,
              "#0d0887"
             ],
             [
              0.1111111111111111,
              "#46039f"
             ],
             [
              0.2222222222222222,
              "#7201a8"
             ],
             [
              0.3333333333333333,
              "#9c179e"
             ],
             [
              0.4444444444444444,
              "#bd3786"
             ],
             [
              0.5555555555555556,
              "#d8576b"
             ],
             [
              0.6666666666666666,
              "#ed7953"
             ],
             [
              0.7777777777777778,
              "#fb9f3a"
             ],
             [
              0.8888888888888888,
              "#fdca26"
             ],
             [
              1,
              "#f0f921"
             ]
            ],
            "type": "histogram2dcontour"
           }
          ],
          "mesh3d": [
           {
            "colorbar": {
             "outlinewidth": 0,
             "ticks": ""
            },
            "type": "mesh3d"
           }
          ],
          "parcoords": [
           {
            "line": {
             "colorbar": {
              "outlinewidth": 0,
              "ticks": ""
             }
            },
            "type": "parcoords"
           }
          ],
          "pie": [
           {
            "automargin": true,
            "type": "pie"
           }
          ],
          "scatter": [
           {
            "fillpattern": {
             "fillmode": "overlay",
             "size": 10,
             "solidity": 0.2
            },
            "type": "scatter"
           }
          ],
          "scatter3d": [
           {
            "line": {
             "colorbar": {
              "outlinewidth": 0,
              "ticks": ""
             }
            },
            "marker": {
             "colorbar": {
              "outlinewidth": 0,
              "ticks": ""
             }
            },
            "type": "scatter3d"
           }
          ],
          "scattercarpet": [
           {
            "marker": {
             "colorbar": {
              "outlinewidth": 0,
              "ticks": ""
             }
            },
            "type": "scattercarpet"
           }
          ],
          "scattergeo": [
           {
            "marker": {
             "colorbar": {
              "outlinewidth": 0,
              "ticks": ""
             }
            },
            "type": "scattergeo"
           }
          ],
          "scattergl": [
           {
            "marker": {
             "colorbar": {
              "outlinewidth": 0,
              "ticks": ""
             }
            },
            "type": "scattergl"
           }
          ],
          "scattermapbox": [
           {
            "marker": {
             "colorbar": {
              "outlinewidth": 0,
              "ticks": ""
             }
            },
            "type": "scattermapbox"
           }
          ],
          "scatterpolar": [
           {
            "marker": {
             "colorbar": {
              "outlinewidth": 0,
              "ticks": ""
             }
            },
            "type": "scatterpolar"
           }
          ],
          "scatterpolargl": [
           {
            "marker": {
             "colorbar": {
              "outlinewidth": 0,
              "ticks": ""
             }
            },
            "type": "scatterpolargl"
           }
          ],
          "scatterternary": [
           {
            "marker": {
             "colorbar": {
              "outlinewidth": 0,
              "ticks": ""
             }
            },
            "type": "scatterternary"
           }
          ],
          "surface": [
           {
            "colorbar": {
             "outlinewidth": 0,
             "ticks": ""
            },
            "colorscale": [
             [
              0,
              "#0d0887"
             ],
             [
              0.1111111111111111,
              "#46039f"
             ],
             [
              0.2222222222222222,
              "#7201a8"
             ],
             [
              0.3333333333333333,
              "#9c179e"
             ],
             [
              0.4444444444444444,
              "#bd3786"
             ],
             [
              0.5555555555555556,
              "#d8576b"
             ],
             [
              0.6666666666666666,
              "#ed7953"
             ],
             [
              0.7777777777777778,
              "#fb9f3a"
             ],
             [
              0.8888888888888888,
              "#fdca26"
             ],
             [
              1,
              "#f0f921"
             ]
            ],
            "type": "surface"
           }
          ],
          "table": [
           {
            "cells": {
             "fill": {
              "color": "#EBF0F8"
             },
             "line": {
              "color": "white"
             }
            },
            "header": {
             "fill": {
              "color": "#C8D4E3"
             },
             "line": {
              "color": "white"
             }
            },
            "type": "table"
           }
          ]
         },
         "layout": {
          "annotationdefaults": {
           "arrowcolor": "#2a3f5f",
           "arrowhead": 0,
           "arrowwidth": 1
          },
          "autotypenumbers": "strict",
          "coloraxis": {
           "colorbar": {
            "outlinewidth": 0,
            "ticks": ""
           }
          },
          "colorscale": {
           "diverging": [
            [
             0,
             "#8e0152"
            ],
            [
             0.1,
             "#c51b7d"
            ],
            [
             0.2,
             "#de77ae"
            ],
            [
             0.3,
             "#f1b6da"
            ],
            [
             0.4,
             "#fde0ef"
            ],
            [
             0.5,
             "#f7f7f7"
            ],
            [
             0.6,
             "#e6f5d0"
            ],
            [
             0.7,
             "#b8e186"
            ],
            [
             0.8,
             "#7fbc41"
            ],
            [
             0.9,
             "#4d9221"
            ],
            [
             1,
             "#276419"
            ]
           ],
           "sequential": [
            [
             0,
             "#0d0887"
            ],
            [
             0.1111111111111111,
             "#46039f"
            ],
            [
             0.2222222222222222,
             "#7201a8"
            ],
            [
             0.3333333333333333,
             "#9c179e"
            ],
            [
             0.4444444444444444,
             "#bd3786"
            ],
            [
             0.5555555555555556,
             "#d8576b"
            ],
            [
             0.6666666666666666,
             "#ed7953"
            ],
            [
             0.7777777777777778,
             "#fb9f3a"
            ],
            [
             0.8888888888888888,
             "#fdca26"
            ],
            [
             1,
             "#f0f921"
            ]
           ],
           "sequentialminus": [
            [
             0,
             "#0d0887"
            ],
            [
             0.1111111111111111,
             "#46039f"
            ],
            [
             0.2222222222222222,
             "#7201a8"
            ],
            [
             0.3333333333333333,
             "#9c179e"
            ],
            [
             0.4444444444444444,
             "#bd3786"
            ],
            [
             0.5555555555555556,
             "#d8576b"
            ],
            [
             0.6666666666666666,
             "#ed7953"
            ],
            [
             0.7777777777777778,
             "#fb9f3a"
            ],
            [
             0.8888888888888888,
             "#fdca26"
            ],
            [
             1,
             "#f0f921"
            ]
           ]
          },
          "colorway": [
           "#636efa",
           "#EF553B",
           "#00cc96",
           "#ab63fa",
           "#FFA15A",
           "#19d3f3",
           "#FF6692",
           "#B6E880",
           "#FF97FF",
           "#FECB52"
          ],
          "font": {
           "color": "#2a3f5f"
          },
          "geo": {
           "bgcolor": "white",
           "lakecolor": "white",
           "landcolor": "#E5ECF6",
           "showlakes": true,
           "showland": true,
           "subunitcolor": "white"
          },
          "hoverlabel": {
           "align": "left"
          },
          "hovermode": "closest",
          "mapbox": {
           "style": "light"
          },
          "paper_bgcolor": "white",
          "plot_bgcolor": "#E5ECF6",
          "polar": {
           "angularaxis": {
            "gridcolor": "white",
            "linecolor": "white",
            "ticks": ""
           },
           "bgcolor": "#E5ECF6",
           "radialaxis": {
            "gridcolor": "white",
            "linecolor": "white",
            "ticks": ""
           }
          },
          "scene": {
           "xaxis": {
            "backgroundcolor": "#E5ECF6",
            "gridcolor": "white",
            "gridwidth": 2,
            "linecolor": "white",
            "showbackground": true,
            "ticks": "",
            "zerolinecolor": "white"
           },
           "yaxis": {
            "backgroundcolor": "#E5ECF6",
            "gridcolor": "white",
            "gridwidth": 2,
            "linecolor": "white",
            "showbackground": true,
            "ticks": "",
            "zerolinecolor": "white"
           },
           "zaxis": {
            "backgroundcolor": "#E5ECF6",
            "gridcolor": "white",
            "gridwidth": 2,
            "linecolor": "white",
            "showbackground": true,
            "ticks": "",
            "zerolinecolor": "white"
           }
          },
          "shapedefaults": {
           "line": {
            "color": "#2a3f5f"
           }
          },
          "ternary": {
           "aaxis": {
            "gridcolor": "white",
            "linecolor": "white",
            "ticks": ""
           },
           "baxis": {
            "gridcolor": "white",
            "linecolor": "white",
            "ticks": ""
           },
           "bgcolor": "#E5ECF6",
           "caxis": {
            "gridcolor": "white",
            "linecolor": "white",
            "ticks": ""
           }
          },
          "title": {
           "x": 0.05
          },
          "xaxis": {
           "automargin": true,
           "gridcolor": "white",
           "linecolor": "white",
           "ticks": "",
           "title": {
            "standoff": 15
           },
           "zerolinecolor": "white",
           "zerolinewidth": 2
          },
          "yaxis": {
           "automargin": true,
           "gridcolor": "white",
           "linecolor": "white",
           "ticks": "",
           "title": {
            "standoff": 15
           },
           "zerolinecolor": "white",
           "zerolinewidth": 2
          }
         }
        },
        "title": {
         "text": "SimpleMLP test accuracy on MNIST"
        },
        "width": 700,
        "xaxis": {
         "anchor": "y",
         "domain": [
          0,
          1
         ],
         "title": {
          "text": "Num epochs"
         }
        },
        "yaxis": {
         "anchor": "x",
         "domain": [
          0,
          1
         ],
         "range": [
          0,
          1
         ],
         "title": {
          "text": "Accuracy"
         }
        }
       }
      }
     },
     "metadata": {},
     "output_type": "display_data"
    }
   ],
   "source": [
    "def train(args: SimpleMLPTrainingArgs):\n",
    "    '''\n",
    "    Trains the model, using training parameters from the `args` object.\n",
    "    '''\n",
    "    model = SimpleMLP().to(device)\n",
    "\n",
    "    mnist_trainset, mnist_testset = get_mnist(subset=args.subset)\n",
    "    mnist_trainloader = DataLoader(mnist_trainset, batch_size=args.batch_size, shuffle=True)\n",
    "    mnist_testloader = DataLoader(mnist_testset,batch_size=args.batch_size)\n",
    "\n",
    "    optimizer = t.optim.Adam(model.parameters(), lr=args.learning_rate)\n",
    "    loss_list = []\n",
    "    accuracy_list = []\n",
    "\n",
    "    for epoch in tqdm(range(args.epochs)):\n",
    "        for imgs, labels in mnist_trainloader:\n",
    "            imgs = imgs.to(device)\n",
    "            labels = labels.to(device)\n",
    "            logits = model(imgs)\n",
    "            loss = F.cross_entropy(logits, labels)\n",
    "            loss.backward()\n",
    "            optimizer.step()\n",
    "            optimizer.zero_grad()\n",
    "            loss_list.append(loss.item())\n",
    "        \n",
    "        #Validation loop  == My Solution==\n",
    "        num_correct = 0\n",
    "        for imgs, labels in mnist_testloader:\n",
    "            imgs = imgs.to(device)\n",
    "            labels = labels.to(device)\n",
    "\n",
    "            with t.inference_mode():\n",
    "                logits = model(imgs)\n",
    "            predictions = logits.argmax(dim=-1,keepdim=False)\n",
    "            array = (predictions==labels)\n",
    "            num_correct += t.count_nonzero(array)\n",
    "\n",
    "        accuracy = num_correct / len(mnist_testset)\n",
    "        print(f\"epoch:{epoch} accuracy=\",accuracy.item())\n",
    "\n",
    "        # Validation loop == Solution == \n",
    "        num_correct_classifications = 0\n",
    "        for imgs, labels in mnist_testloader:\n",
    "            imgs = imgs.to(device)\n",
    "            labels = labels.to(device)\n",
    "            with t.inference_mode():\n",
    "                logits = model(imgs)\n",
    "            predictions = t.argmax(logits, dim=1)\n",
    "            num_correct_classifications += (predictions == labels).sum().item()\n",
    "        accuracy = num_correct_classifications / len(mnist_testset)\n",
    "        accuracy_list.append(accuracy)   \n",
    "\n",
    "    line(\n",
    "        loss_list,\n",
    "        yaxis_range=[0, max(loss_list) + 0.1],\n",
    "        labels={\"x\": \"Num batches seen\", \"y\": \"Cross entropy loss\"},\n",
    "        title=\"SimpleMLP training on MNIST\",\n",
    "        width=700\n",
    "    )\n",
    "\n",
    "    line(\n",
    "        accuracy_list, \n",
    "        yaxis_range=[0, 1],\n",
    "        labels={\"x\": \"Num epochs\", \"y\": \"Accuracy\"}, \n",
    "        title=\"SimpleMLP test accuracy on MNIST\",\n",
    "        width=700,\n",
    "    )\n",
    "\n",
    "\n",
    "args = SimpleMLPTrainingArgs()\n",
    "train(args)"
   ]
  },
  {
   "cell_type": "markdown",
   "metadata": {},
   "source": [
    "<details>\n",
    "<summary>Help - I'm not sure how to measure correct classifications.</summary>\n",
    "\n",
    "You can take argmax of the output of your model, using `torch.argmax` (with the keyword argument `dim` to specify the dimension you want to take max over).\n",
    "\n",
    "</details>\n",
    "\n",
    "<details>\n",
    "<summary>Help - I get <code>RuntimeError: expected scalar type Float but found Byte</code>.</summary>\n",
    "\n",
    "This is commonly because one of your operations is between tensors with the wrong datatypes (e.g. `int` and `float`). Try navigating to the error line and checking your dtypes (or using VSCode's built-in debugger).\n",
    "</details>\n"
   ]
  },
  {
   "cell_type": "markdown",
   "metadata": {},
   "source": [
    "# 3️⃣ Convolutions"
   ]
  },
  {
   "cell_type": "markdown",
   "metadata": {},
   "source": [
    "> ### Learning Objectives\n",
    ">\n",
    "> * Learn how convolutions work, and why they are useful for vision models\n",
    "> * Implement your own convolutions, and maxpooling layers"
   ]
  },
  {
   "cell_type": "markdown",
   "metadata": {},
   "source": [
    "## Reading\n",
    "\n",
    "* [But what is a convolution?](https://www.youtube.com/watch?v=KuXjwB4LzSA) by 3Blue1Brown\n",
    "* [A Comprehensive Guide to Convolutional Neural Networks (TowardsDataScience)](https://towardsdatascience.com/a-comprehensive-guide-to-convolutional-neural-networks-the-eli5-way-3bd2b1164a53)"
   ]
  },
  {
   "cell_type": "markdown",
   "metadata": {},
   "source": [
    "## Convolutions\n",
    "\n",
    "Here are some questions about convolutions to make sure you've understood the material. Once you finish the article above, you should try and answer these questions without referring back to the original article.\n",
    "\n",
    "<details>\n",
    "<summary>Why would convolutional layers be less likely to overfit data than standard linear (fully connected) layers?</summary>\n",
    "\n",
    "Convolutional layers require significantly fewer weights to be learned. This is because the same kernel is applied all across the image, rather than every pair of `(input, output)` nodes requiring a different weight to be learned.\n",
    "</details>\n",
    "\n",
    "<details>\n",
    "<summary>Suppose you fixed some random permutation of the pixels in an image, and applied this to all images in your dataset, before training a convolutional neural network for classifying images. Do you expect this to be less effective, or equally effective?</summary>\n",
    "\n",
    "It will be less effective, because CNNs work thanks to **spatial locality** - groups of pixels close together are more meaningful. For instance, CNNs will often learn convolutions at an early layer which recognise gradients or simple shapes. If you permute the pixels (even if you permute in the same way for every image), you destroy locality.\n",
    "</details>\n",
    "\n",
    "<details>\n",
    "<summary>If you have a 28x28 image, and you apply a 3x3 convolution with stride 1, padding 1, what shape will the output be?</summary>\n",
    "\n",
    "It will be the same shape, i.e. `28x28`. In the post linked above, this is described as **same padding**. Tomorrow, we'll build an MNIST classifier which uses these convolutions.\n",
    "</details>\n",
    "\n",
    "<br>\n",
    "\n"
   ]
  },
  {
   "cell_type": "markdown",
   "metadata": {},
   "source": [
    "A note on terminology - you might see docs and docstrings sometimes use `num_features`, sometimes use `channels`, and sometimes just `C`. Often these two terms interchangeable. Our neural network inputs will often be RGB images and so we will have `channels=3` corresponding to the 3 colors red/green/blue. As we pass our initial image through convolutional layers, the number of channels will change. In the context of convolutions, the number of features and number of channels usually refer to the same value."
   ]
  },
  {
   "cell_type": "markdown",
   "metadata": {},
   "source": [
    "### Exercise - implement `Conv2d`\n",
    "\n",
    "```yaml\n",
    "Difficulty: 🔴🔴🔴⚪⚪\n",
    "Importance: 🔵🔵🔵🔵⚪\n",
    "\n",
    "You should spend up to ~20 minutes on this exercise.\n",
    "\n",
    "Make sure you understand what operation is taking place here, and how the dimensions are changing.\n",
    "```\n",
    "\n",
    "Rather than implementing the `conv2d` function from scratch, we'll allow you to use `t.nn.functional.conv2d`. In the exercise below, you should use this function to implement the `nn.Conv2d` layer. In other words, you should:\n",
    "\n",
    "* Initialize the weights for the convolutional layer in the `__init__` function.\n",
    "    * You should look at the PyTorch page for `nn.Conv2d` [here](https://pytorch.org/docs/stable/generated/torch.nn.Conv2d.html) to understand what the shape of the weights should be.\n",
    "    * We assume `bias=False`, so the only `nn.Parameter` object we need to define is `weight`.\n",
    "    * You should use **uniform Xavier initialization**, which is described at the bottom of the `nn.Conv2d` docs (the bullet points under the **Variables** header).\n",
    "* Implement the `forward` method, which should apply the convolutional layer to the input.\n",
    "    * In other words, it should implement the `torch.nn.functional.conv2d` function (documentation [here](https://pytorch.org/docs/stable/generated/torch.nn.functional.conv2d.html)), using the weights and biases (and other layer parameters) that you initialized in `__init__`.\n",
    "* Fill in the `extra_repr` method, to print out the convolutional layer's parameters."
   ]
  },
  {
   "cell_type": "code",
   "execution_count": 13,
   "metadata": {},
   "outputs": [
    {
     "name": "stdout",
     "output_type": "stream",
     "text": [
      "All tests in `test_conv2d_module` passed!\n",
      "Manually verify that this is an informative repr:\n",
      "Conv2d(in_channels=24, out_channels=12, kernel_size=3, stride=2, padding=1)\n"
     ]
    }
   ],
   "source": [
    "class Conv2d(nn.Module):\n",
    "    def __init__(\n",
    "        self, in_channels: int, out_channels: int, kernel_size: int, stride: int = 1, padding: int = 0\n",
    "    ):\n",
    "        '''\n",
    "        Same as torch.nn.Conv2d with bias=False.\n",
    "\n",
    "        Name your weight field `self.weight` for compatibility with the PyTorch version.\n",
    "        '''\n",
    "        super().__init__()\n",
    "        \n",
    "        # == Solution ==\n",
    "        self.in_channels = in_channels\n",
    "        self.out_channels = out_channels\n",
    "        self.kernel_size = kernel_size\n",
    "        self.stride = stride\n",
    "        self.padding = padding\n",
    "\n",
    "\n",
    "        sf = 1 / (np.sqrt(in_channels + kernel_size**2 ) + 1)\n",
    "        weight = (sf*(t.rand(out_channels,in_channels,kernel_size,kernel_size))*2 - 1)\n",
    "        self.weight = nn.Parameter(weight) \n",
    "        \n",
    "\n",
    "    def forward(self, x: t.Tensor) -> t.Tensor:\n",
    "        '''Apply the functional conv2d, which you can import.'''\n",
    "        return nn.functional.conv2d(x,self.weight,stride=self.stride,padding=self.padding)\n",
    "\n",
    "    def extra_repr(self) -> str:\n",
    "        keys = [\"in_channels\", \"out_channels\", \"kernel_size\", \"stride\", \"padding\"]\n",
    "        return \", \".join([f\"{key}={getattr(self, key)}\" for key in keys])\n",
    "\n",
    "\n",
    "tests.test_conv2d_module(Conv2d)\n",
    "m = Conv2d(in_channels=24, out_channels=12, kernel_size=3, stride=2, padding=1)\n",
    "print(f\"Manually verify that this is an informative repr:\\n{m}\")\n"
   ]
  },
  {
   "cell_type": "markdown",
   "metadata": {},
   "source": [
    "<details>\n",
    "<summary>Help - I don't know what to use as number of inputs, when doing Xavier initialisation.</summary>\n",
    "\n",
    "In the case of convolutions, each value in the output is computed by taking the product over `in_channels * kernel_width * kernel_height` elements. So this should be our value for $N_{in}$.\n",
    "</details>\n"
   ]
  },
  {
   "cell_type": "markdown",
   "metadata": {},
   "source": [
    "### Exercise - implement `MaxPool2d`\n",
    "\n",
    "```yaml\n",
    "Difficulty: 🔴🔴⚪⚪⚪\n",
    "Importance: 🔵🔵⚪⚪⚪\n",
    "\n",
    "You should spend up to ~10 minutes on this exercise.\n",
    "```\n",
    "\n",
    "Next, you should implement `MaxPool2d`. This module is often applied after a convolutional layer, to reduce the spatial dimensions of the output. It works by taking the maximum value in each kernel-sized window, and outputting that value. For instance, if we have a 2x2 kernel, then we take the maximum of each 2x2 window in the input.\n",
    "\n",
    "You should use `torch.nn.functional.max_pool2d` to implement this layer. The documentation page can be found [here](https://pytorch.org/docs/stable/generated/torch.nn.functional.max_pool2d.html), and the documentation for `nn.MaxPool2d` can be found [here](https://pytorch.org/docs/stable/generated/torch.nn.MaxPool2d.html).\n"
   ]
  },
  {
   "cell_type": "code",
   "execution_count": 14,
   "metadata": {},
   "outputs": [
    {
     "name": "stdout",
     "output_type": "stream",
     "text": [
      "All tests in `test_maxpool2d_module` passed!\n",
      "Manually verify that this is an informative repr: MaxPool2d(kernel_size=3, stride=2, padding=1)\n"
     ]
    }
   ],
   "source": [
    "class MaxPool2d(nn.Module):\n",
    "    def __init__(self, kernel_size: int, stride: Optional[int] = None, padding: int = 1):\n",
    "        super().__init__()\n",
    "        self.kernel_size = kernel_size\n",
    "        self.stride = stride\n",
    "        self.padding = padding\n",
    "\n",
    "    def forward(self, x: t.Tensor) -> t.Tensor:\n",
    "        '''Call the functional version of max_pool2d.'''\n",
    "        return nn.functional.max_pool2d(x, self.kernel_size, self.stride, self.padding)\n",
    "\n",
    "    def extra_repr(self) -> str:\n",
    "        '''Add additional information to the string representation of this class.'''\n",
    "        keys = [\"kernel_size\",\"stride\",\"padding\"]\n",
    "        return \", \".join([f\"{key}={getattr(self, key)}\" for key in keys])\n",
    "\n",
    "\n",
    "tests.test_maxpool2d_module(MaxPool2d)\n",
    "m = MaxPool2d(kernel_size=3, stride=2, padding=1)\n",
    "print(f\"Manually verify that this is an informative repr: {m}\")"
   ]
  },
  {
   "cell_type": "markdown",
   "metadata": {},
   "source": [
    "# 4️⃣ ResNets"
   ]
  },
  {
   "cell_type": "markdown",
   "metadata": {},
   "source": [
    "> ### Learning Objectives\n",
    ">\n",
    "> * Learn about skip connections, and how they help overcome the degradation problem\n",
    "> * Learn about batch normalization, and why it is used in training\n",
    "> * Assemble your own ResNet, and load in weights from PyTorch's ResNet implementation"
   ]
  },
  {
   "cell_type": "markdown",
   "metadata": {},
   "source": [
    "## Reading\n",
    "\n",
    "* [Batch Normalization in Convolutional Neural Networks](https://www.baeldung.com/cs/batch-normalization-cnn)\n",
    "* [Deep Residual Learning for Image Recognition](https://arxiv.org/pdf/1512.03385.pdf)\n",
    "\n",
    "You should move on once you can answer the following questions:\n",
    "\n",
    "\n",
    "<details>\n",
    "<summary>\"Batch Normalization allows us to be less careful about initialization.\" Explain this statement.</summary>\n",
    "\n",
    "Weight initialisation methods like Xavier (which we encountered yesterday) are based on the idea of making sure the activations have approximately the same distribution across layers at initialisation. But batch normalisation ensures that this is the case as signals pass through the network.\n",
    "</details>\n",
    "\n",
    "<details>\n",
    "<summary>Give three reasons why batch norm improves the performance of neural networks.</summary>\n",
    "\n",
    "The reasons given in the first linked document above are:\n",
    "\n",
    "* Normalising inputs speeds up computation\n",
    "* Internal covariate shift is reduced, i.e. the mean and standard deviation is kept constant across the layers.\n",
    "* Regularisation effect: noise internal to each minibatch is reduced\n",
    "</details>\n",
    "\n",
    "<details>\n",
    "<summary>If you have an input tensor of size (batch, channels, width, height), and you apply a batchnorm layer, how many learned parameters will there be?</summary>\n",
    "\n",
    "A mean and standard deviation is calculated for each channel (i.e. each calculation is done across the batch, width, and height dimensions). So the number of learned params will be `2 * channels`.\n",
    "</details>\n",
    "\n",
    "<details>\n",
    "<summary>In the paper, the diagram shows additive skip connections (i.e. F(x) + x). One can also form concatenated skip connections, by \"gluing together\" F(x) and x into a single tensor. Give one advantage and one disadvantage of these, relative to additive connections.</summary>\n",
    "\n",
    "One advantage of concatenation: the subsequent layers can re-use middle representations; maintaining more information which can lead to better performance. Also, this still works if the tensors aren't exactly the same shape. One disadvantage: less compact, so there may be more weights to learn in subsequent layers.\n",
    "\n",
    "Crucially, both the addition and concatenation methods have the property of preserving information, to at least some degree of fidelity. For instance, you can [use calculus to show](https://theaisummer.com/skip-connections/#:~:text=residual%20skip%20connections.-,ResNet%3A%20skip%20connections%C2%A0via%C2%A0addition,-The%20core%20idea) that both methods will fix the vanishing gradients problem.\n",
    "</details>\n",
    "\n",
    "\n",
    "In this section, we'll do a more advanced version of the exercise in part 1. Rather than building a relatively simple network in which computation can be easily represented by a sequence of simple layers, we're going to build a more complex architecture which requires us to define nested blocks.\n",
    "\n",
    "We'll start by defining a few more `nn.Module` objects, which we hadn't needed before."
   ]
  },
  {
   "cell_type": "markdown",
   "metadata": {},
   "source": [
    "## Sequential\n",
    "\n",
    "Firstly, now that we're working with large and complex architectures, we should create a version of `nn.Sequential`. Recall that we briefly came across `nn.Sequential` at the end of the first day, when building our (extremely simple) neural network. As the name suggests, when an `nn.Sequential` is fed an input, it sequentially applies each of its submodules to the input, with the output from one module feeding into the next one.\n",
    "\n",
    "The implementation is given to you below. A few notes:\n",
    "\n",
    "* In initalization, we add to the `_modules` dictionary.\n",
    "    * This is a special type of dict called an **ordered dictionary**, which preserves the order of elements that get added (although Python sort-of does this now by default).\n",
    "    * When we call `self.parameters()`, this recursively goes through all modules in `self._modules`, and returns the params in those modules. This means we can nest sequentials within sequentials!\n",
    "* The special `__getitem__` and `__setitem__` methods determine behaviour when we get and set modules within the sequential.\n",
    "* The `repr` of the base class `nn.Module` already recursively prints out the submodules, so we don't need to write anything in `extra_repr`.\n",
    "    * To see how this works in practice, try defining a `Sequential` which takes a sequence of modules that you've defined above, and see what it looks like when you print it.\n",
    "\n",
    "Don't worry about deeply understanding this code. The main takeaway is that `nn.Sequential` is a useful list-like object to store modules, and apply them all sequentially.\n",
    "\n",
    "<details>\n",
    "<summary>Aside - initializing Sequential with an OrderedDict</summary>\n",
    "\n",
    "The actual `nn.Sequential` module can be initialized with an ordered dictionary, rather than a list of modules. For instance, rather than doing this:\n",
    "\n",
    "```python\n",
    "seq = nn.Sequential(\n",
    "    nn.Linear(10, 20),\n",
    "    nn.ReLU(),\n",
    "    nn.Linear(20, 30)\n",
    ")\n",
    "```\n",
    "\n",
    "we can do this:\n",
    "\n",
    "```python\n",
    "seq = nn.Sequential(OrderedDict([\n",
    "    (\"linear1\", nn.Linear(10, 20)),\n",
    "    (\"relu\", nn.ReLU()),\n",
    "    (\"linear2\", nn.Linear(20, 30))\n",
    "]))\n",
    "```\n",
    "\n",
    "This is handy if we want to give each module an descriptive name.\n",
    "\n",
    "The `Sequential` implementation below doesn't allow the input to be an OrderedDict. As a bonus exercise, can you rewrite the `__init__`, `__getitem__` and `__setitem__` methods to allow the input to be an OrderedDict?\n",
    "\n",
    "</details>"
   ]
  },
  {
   "cell_type": "code",
   "execution_count": 15,
   "metadata": {},
   "outputs": [],
   "source": [
    "class Sequential(nn.Module):\n",
    "    _modules: Dict[str, nn.Module]\n",
    "\n",
    "    def __init__(self, *modules: nn.Module):\n",
    "        super().__init__()\n",
    "        for index, mod in enumerate(modules):\n",
    "            self._modules[str(index)] = mod\n",
    "\n",
    "    def __getitem__(self, index: int) -> nn.Module:\n",
    "        index %= len(self._modules) # deal with negative indices\n",
    "        return self._modules[str(index)]\n",
    "\n",
    "    def __setitem__(self, index: int, module: nn.Module) -> None:\n",
    "        index %= len(self._modules) # deal with negative indices\n",
    "        self._modules[str(index)] = module\n",
    "\n",
    "    def forward(self, x: t.Tensor) -> t.Tensor:\n",
    "        '''Chain each module together, with the output from one feeding into the next one.'''\n",
    "        for mod in self._modules.values():\n",
    "            x = mod(x)\n",
    "        return x"
   ]
  },
  {
   "cell_type": "markdown",
   "metadata": {},
   "source": [
    "## BatchNorm2d\n",
    "\n",
    "Now, we'll implement our `BatchNorm2d`, the layer described in the documents you hopefully read above.\n",
    "\n",
    "Something which might have occurred to you as you read about batch norm - how does it work when in inference mode? It makes sense to normalize over a batch of multiple input data, but normalizing over a single datapoint doesn't make any sense! This is why we have to introduce a new PyTorch concept: **buffers**.\n",
    "\n",
    "Unlike `nn.Parameter`, a buffer is not its own type and does not wrap a `Tensor`. A buffer is just a regular `Tensor` on which you've called [self.register_buffer](https://pytorch.org/docs/stable/generated/torch.nn.Module.html#torch.nn.Module.register_buffer) from inside a `nn.Module`. As an example, `self.register_buffer(\"variable_name\", t.zeros(10))` will define an object `self.variable_name` and register it as a buffer.\n",
    "\n",
    "What is a buffer, and why is it different to a standard attribute or to a `nn.Parameter` object? The differences are as follows:\n",
    "\n",
    "* It is normally included in the output of `module.state_dict()`, meaning that `torch.save` and `torch.load` will serialize and deserialize it.\n",
    "* It is moved between devices when you call `model.to(device)`.\n",
    "* It is not included in `module.parameters`, so optimizers won't see or modify it. Instead, your module will modify it as appropriate within `forward`."
   ]
  },
  {
   "cell_type": "markdown",
   "metadata": {},
   "source": [
    "### Train and Eval Modes\n",
    "\n",
    "This is your first implementation that needs to care about the value of `self.training`, which is set to True by default, and can be set to False by `self.eval()` or to True by `self.train()`.\n",
    "\n",
    "In training mode, you should use the mean and variance of the batch you're on, but you should also update a stored `running_mean` and `running_var` on each call to `forward` using the \"momentum\" argument as described in the PyTorch docs. Your `running_mean` shuld be intialized as all zeros; your `running_var` should be initialized as all ones. Also, you should keep track of `num_batches_tracked`.\n",
    "\n",
    "<details>\n",
    "<summary>Aside on <code>num_batches_tracked</code> (optional, unimportant)</summary>\n",
    "\n",
    "PyTorch uses this to calculate momentum for calculation of the moving averages in the event that the module is intialized with `momentum=None`, although you don't need to worry about this because you can assume that the momentum parameter will always be a float in our use cases; we're just keeping track of `num_batches_tracked` to be consistent with PyTorch's version of BatchNorm2d, and to make sure that our state dictionaries have the same items.\n",
    "\n",
    "</details>\n",
    "\n",
    "In eval mode, you should use the running mean and variance that you stored before (not the mean and variance from the current batch)."
   ]
  },
  {
   "cell_type": "markdown",
   "metadata": {},
   "source": [
    "### Exercise - implement `BatchNorm2d`\n",
    "\n",
    "```yaml\n",
    "Difficulty: 🔴🔴🔴🔴⚪\n",
    "Importance: 🔵🔵🔵🔵⚪\n",
    "\n",
    "You should spend up to 20-40 minutes on this exercise.\n",
    "\n",
    "This is the most challenging module you'll have implemented so far. Getting all the dimensions and operations right can be tricky.\n",
    "```\n",
    "\n",
    "Implement `BatchNorm2d` according to the [PyTorch docs](https://pytorch.org/docs/stable/generated/torch.nn.BatchNorm2d.html). Call your learnable parameters `weight` and `bias` for consistency with PyTorch.\n",
    "\n",
    "We're implementing it with `affine=True` and `track_running_stats=True`.\n",
    "\n",
    "A few tips (some of them are repeated from above):\n",
    "\n",
    "- Remember to differentiate between training mode, when `self.training=True` (you calculate mean & variance and update the running values) and eval mode, when `self.training=False` (you use the running values).\n",
    "- After you''ve normalized `x`, don't forget to multiply by `weight` and add `bias` (you might need to reshape these tensors so that they broadcast correctly).\n",
    "\n",
    "<details>\n",
    "<summary>Help - I don't understand which dimensions I should be taking the mean over.</summary>\n",
    "\n",
    "The input has shape `(batch, channels, height, width)` (where channels is synonymous with features). You want to calculate the mean and variance for each channel, meaning you should reduce over all dimensions except the first, e.g. `t.mean(x, dim=(0, 2, 3))`. You should then update the running mean and variance accordingly.\n",
    "\n",
    "Tip: use the argument `keepdim=True` in your mean and variance calculations, to make sure that the mean & variance still broadcast with the original input when you calculate `(x - mean) / std`.\n",
    "\n",
    "</details>\n",
    "\n",
    "<details>\n",
    "<summary>Help - I don't understand what the formula for updating the running mean / variance should be.</summary>\n",
    "\n",
    "You want `running_mean <- (1 - momentum) * running_mean + momentum * new_mean`. Again, make sure you get the dimensions right - all the tensors in this operation should be 1D, with shape `(num_features,)`.\n",
    "\n",
    "</details>\n",
    "\n",
    "If you're struggling with this implementation, we do recommend reading the solution, because there are lots of non-obvious ways this implementation can go wrong."
   ]
  },
  {
   "cell_type": "code",
   "execution_count": 16,
   "metadata": {},
   "outputs": [
    {
     "name": "stdout",
     "output_type": "stream",
     "text": [
      "All tests in `test_batchnorm2d_module` passed!\n",
      "All tests in `test_batchnorm2d_forward` passed!\n",
      "All tests in `test_batchnorm2d_running_mean` passed!\n"
     ]
    }
   ],
   "source": [
    "class BatchNorm2d(nn.Module):\n",
    "    # The type hints below aren't functional, they're just for documentation\n",
    "    running_mean: Float[Tensor, \"num_features\"]\n",
    "    running_var: Float[Tensor, \"num_features\"]\n",
    "    num_batches_tracked: Int[Tensor, \"\"] # This is how we denote a scalar tensor\n",
    "\n",
    "    def __init__(self, num_features: int, eps=1e-05, momentum=0.1):\n",
    "        '''\n",
    "        Like nn.BatchNorm2d with track_running_stats=True and affine=True.\n",
    "\n",
    "        Name the learnable affine parameters `weight` and `bias` in that order.\n",
    "        '''\n",
    "        super().__init__()\n",
    "        # == Solution ==\n",
    "        self.num_features = num_features\n",
    "        self.eps = eps\n",
    "        self.momentum = momentum\n",
    "\n",
    "        self.weight = nn.Parameter(t.ones(num_features)) # Gemma γ\n",
    "        self.bias = nn.Parameter(t.zeros(num_features)) # Beta β\n",
    "\n",
    "        self.register_buffer(\"running_mean\",t.zeros(num_features))\n",
    "        self.register_buffer(\"running_var\",t.ones(num_features))\n",
    "        self.register_buffer(\"num_batches_tracked\", t.tensor(0))\n",
    "\n",
    "\n",
    "    def forward(self, x: t.Tensor) -> t.Tensor:\n",
    "        '''\n",
    "        Normalize each channel.\n",
    "\n",
    "        Compute the variance using `torch.var(x, unbiased=False)`\n",
    "        Hint: you may also find it helpful to use the argument `keepdim`.\n",
    "\n",
    "        x: shape (batch, channels, height, width)\n",
    "        Return: shape (batch, channels, height, width)\n",
    "        '''\n",
    "        \n",
    "        # == solution ==\n",
    "        # Calculating mean and var over all dims except for the channel dim\n",
    "        \n",
    "        if self.training:\n",
    "            # Take mean over all dimensions except the feature dimension\n",
    "            # Using keepdim=True so we don't have to worry about broadasting them with x at the end\n",
    "            mean = t.mean(x,dim=(0,2,3), keepdim=True)\n",
    "            var = t.var(x,dim=(0,2,3),unbiased=False, keepdim=True)\n",
    "            # Updating running mean and variance, in line with PyTorch documentation\n",
    "            self.running_mean = (1 - self.momentum) * self.running_mean + self.momentum * mean.squeeze()\n",
    "            self.running_var = (1 - self.momentum) * self.running_var + self.momentum * var.squeeze()\n",
    "            self.num_batches_tracked += 1\n",
    "        else:\n",
    "            mean = einops.rearrange(self.running_mean,\"channels -> 1 channels 1 1\")\n",
    "            var = einops.rearrange(self.running_var,\"channels -> 1 channels 1 1\")\n",
    "\n",
    "        # Rearranging these so they can be broadcasted (although there are other ways you could do this)\n",
    "        weight = einops.rearrange(self.weight, \"channels -> 1 channels 1 1\")\n",
    "        bias = einops.rearrange(self.bias, \"channels -> 1 channels 1 1\")\n",
    "\n",
    "        return ((x-mean) / t.sqrt(var + self.eps))*weight + bias\n",
    "\n",
    "    def extra_repr(self) -> str:\n",
    "        # == Solution ==\n",
    "        return \", \".join([f\"{key}={getattr(self, key)}\" for key in [\"num_features\", \"eps\", \"momentum\"]])\n",
    "\n",
    "\n",
    "tests.test_batchnorm2d_module(BatchNorm2d)\n",
    "tests.test_batchnorm2d_forward(BatchNorm2d)\n",
    "tests.test_batchnorm2d_running_mean(BatchNorm2d)"
   ]
  },
  {
   "cell_type": "markdown",
   "metadata": {},
   "source": [
    "## AveragePool\n",
    "\n",
    "Let's end our collection of `nn.Module`s with an easy one 🙂\n",
    "\n",
    "The ResNet has a Linear layer with 1000 outputs at the end in order to produce classification logits for each of the 1000 classes. Any Linear needs to have a constant number of input features, but the ResNet is supposed to be compatible with arbitrary height and width, so we can't just do a pooling operation with a fixed kernel size and stride.\n",
    "\n",
    "Luckily, the simplest possible solution works decently: take the mean over the spatial dimensions. Intuitively, each position has an equal \"vote\" for what objects it can \"see\"."
   ]
  },
  {
   "cell_type": "markdown",
   "metadata": {},
   "source": [
    "### Exercise - implement `AveragePool`\n",
    "\n",
    "```yaml\n",
    "Difficulty: 🔴⚪⚪⚪⚪\n",
    "Importance: 🔵🔵⚪⚪⚪\n",
    "\n",
    "You should spend up to 5-10 minutes on this exercise.\n",
    "```\n",
    "\n",
    "This should be a pretty straightforward implementation; it doesn't have any weights or parameters of any kind, so you only need to implement the `forward` method."
   ]
  },
  {
   "cell_type": "code",
   "execution_count": 17,
   "metadata": {},
   "outputs": [],
   "source": [
    "class AveragePool(nn.Module):\n",
    "    def forward(self, x: t.Tensor) -> t.Tensor:\n",
    "        '''\n",
    "        x: shape (batch, channels, height, width)\n",
    "        Return: shape (batch, channels)\n",
    "        '''\n",
    "        return x.mean(dim=(2,3))"
   ]
  },
  {
   "cell_type": "markdown",
   "metadata": {},
   "source": [
    "## Building ResNet\n",
    "\n",
    "Now we have all the building blocks we need to start assembling your own ResNet! The following diagram describes the architecture of ResNet34 - the other versions are broadly similar. Unless otherwise noted, convolutions have a kernel_size of 3x3, a stride of 1, and a padding of 1. None of the convolutions have biases.\n",
    "\n",
    "<details>\n",
    "<summary>Question: there would be no advantage to enabling biases on the convolutional layers. Why?</summary>\n",
    "\n",
    "Every convolution layer in this network is followed by a batch normalization layer. The first operation in the batch normalization layer is to subtract the mean of each output channel. But a convolutional bias just adds some scalar `b` to each output channel, increasing the mean by `b`. This means that for any `b` added, the batch normalization will subtract `b` to exactly negate the bias term.\n",
    "</details>\n",
    "\n",
    "<details>\n",
    "<summary>Question: why is it necessary for the output of the left and right computational tracks in ResidualBlock to be the same shape?</summary>\n",
    "\n",
    "Because they're added together at the end of the tracks. If they weren't the same shape, then they couldn't be added together.\n",
    "</details>\n",
    "\n",
    "<details>\n",
    "<summary>Help - I'm confused about how the nested subgraphs work.</summary>\n",
    "\n",
    "The right-most block in the diagram, `ResidualBlock`, is nested inside `BlockGroup` multiple times. When you see `ResidualBlock` in `BlockGroup`, you should visualise a copy of `ResidualBlock` sitting in that position.\n",
    "    \n",
    "Similarly, `BlockGroup` is nested multiple times (four to be precise) in the full `ResNet34` architecture.\n",
    "</details>\n",
    "\n",
    "<img src=\"https://raw.githubusercontent.com/callummcdougall/computational-thread-art/master/example_images/misc/resnet-fixed.svg\" width=\"900\">"
   ]
  },
  {
   "cell_type": "markdown",
   "metadata": {},
   "source": [
    "### Exercise - implement `ResidualBlock`\n",
    "\n",
    "```yaml\n",
    "Difficulty: 🔴🔴🔴⚪⚪\n",
    "Importance: 🔵🔵🔵🔵⚪\n",
    "\n",
    "You should spend up to 15-30 minutes on this exercise.\n",
    "```\n",
    "\n",
    "Implement `ResidualBlock` by referring to the diagram.  A few more notes on the left and right branches of this diagram:\n",
    "\n",
    "#### Left branch\n",
    "\n",
    "This branch has 2 convolutional layers. One of them applies a stride (the `first_stride` argument below), and changes the number of features from `in_feats -> out_feats`. The second one is a shape-preserving convolution, i.e. it has stride 1 and changes the number of features from `out_feats -> out_feats`.\n",
    "\n",
    "#### Right branch\n",
    "\n",
    "You can think of this branch as essentially a skip connection. But remember, we need to add this branch's output onto the left branch's output at the end of the residual block. If the left branch doesn't change the shape of its inputs (i.e. no strides, and `in_feats == out_feats`) then we can just use the identity operator for this right branch (you can use `nn.Identity` for this). But if either we have strides or a different number of output features, then we can't use the identity for the right branch. Instead we use what is essentially the closest approximation to the identity - a 1x1 convolution with stride & channel arguments chosen to match the shape of the left branch (followed by a batchnorm to standardize the output). Note, you may assume that if `first_stride == 1` then we always have number of input features equal to number of output features (meaning you can use the identity operator for this branch if and only if `first_stride == 1`).\n",
    "\n",
    "<details>\n",
    "<summary>Help - I'm completely stuck on parts of the architecture.</summary>\n",
    "\n",
    "In this case, you can use the following code to import your own `resnet34`, and inspect its architecture:\n",
    "\n",
    "```python\n",
    "resnet = models.resnet34()\n",
    "print(torchinfo.summary(resnet, input_size=(1, 3, 64, 64)))\n",
    "```\n",
    "\n",
    "This will generate output telling you the names of each module, as well as the parameter counts.\n",
    "\n",
    "Unfortunately, this function won't work on your own model if your model breaks when an image is passed through. Since a lot of the time mistakes in the architecture will mean your model doesn't work, you won't be able to use `torchinfo.summary` on your model. Instead, you should compare the models by printing them out.\n",
    "</details>"
   ]
  },
  {
   "cell_type": "code",
   "execution_count": 18,
   "metadata": {},
   "outputs": [
    {
     "name": "stdout",
     "output_type": "stream",
     "text": [
      "The autoreload extension is already loaded. To reload it, use:\n",
      "  %reload_ext autoreload\n",
      "Passed all tests when first_stride=1\n",
      "Passed all tests when first_stride>1\n",
      "All tests in `test_residual_block` passed!\n"
     ]
    }
   ],
   "source": [
    "class ResidualBlock(nn.Module):\n",
    "    def __init__(self, in_feats: int, out_feats: int, first_stride=1):\n",
    "        '''\n",
    "        A single residual block with optional downsampling.\n",
    "\n",
    "        For compatibility with the pretrained model, declare the left side branch first using a `Sequential`.\n",
    "\n",
    "        If first_stride is > 1, this means the optional (conv + bn) should be present on the right branch. Declare it second using another `Sequential`.\n",
    "        '''\n",
    "        super().__init__()\n",
    "\n",
    "        # == Solution ==\n",
    "        # in_feats means channels in Conv3d\n",
    "        self.left = Sequential(\n",
    "            Conv2d(in_feats,out_feats,kernel_size=3,stride=first_stride,padding=1),\n",
    "            BatchNorm2d(out_feats),\n",
    "            ReLU(),\n",
    "            Conv2d(out_feats,out_feats,kernel_size=3,stride=1,padding=1),\n",
    "            BatchNorm2d(out_feats)       \n",
    "        )\n",
    "\n",
    "        if first_stride > 1:\n",
    "            self.right = Sequential(\n",
    "                Conv2d(in_feats,out_feats,kernel_size=1,stride=first_stride,padding=0),\n",
    "                BatchNorm2d(out_feats)\n",
    "            )\n",
    "        else:\n",
    "            assert in_feats == out_feats\n",
    "            self.right = nn.Identity()\n",
    "\n",
    "        self.relu = ReLU()\n",
    "\n",
    "    def forward(self, x: t.Tensor) -> t.Tensor:\n",
    "        '''\n",
    "        Compute the forward pass.\n",
    "\n",
    "        x: shape (batch, in_feats, height, width)\n",
    "\n",
    "        Return: shape (batch, out_feats, height / stride, width / stride)\n",
    "\n",
    "        If no downsampling block is present, the addition should just add the left branch's output to the input.\n",
    "        '''\n",
    "        x_right = self.right(x)\n",
    "        x_left = self.left(x)\n",
    "\n",
    "        return self.relu(x_right+x_left)\n",
    "\n",
    "\n",
    "tests.test_residual_block(ResidualBlock)"
   ]
  },
  {
   "cell_type": "markdown",
   "metadata": {},
   "source": [
    "### Exercise - implement `BlockGroup`\n",
    "\n",
    "```yaml\n",
    "Difficulty: 🔴🔴🔴⚪⚪\n",
    "Importance: 🔵🔵🔵🔵⚪\n",
    "\n",
    "You should spend up to 10-15 minutes on this exercise.\n",
    "```\n",
    "\n",
    "Implement `BlockGroup` according to the diagram.\n",
    "\n",
    "The number of channels changes from `in_feats` to `out_feats` in the first `ResidualBlock` (all subsequent blocks will have `out_feats` input channels and `out_feats` output channels).\n",
    "\n",
    "The `height` and `width` of the input will only be changed if `first_stride>1` (in which case it will be downsampled by exactly this amount).\n",
    "\n",
    "You can also read the docstring for a description of the input and output shapes.\n"
   ]
  },
  {
   "cell_type": "code",
   "execution_count": 21,
   "metadata": {},
   "outputs": [
    {
     "name": "stdout",
     "output_type": "stream",
     "text": [
      "Passed all tests when first_stride=1\n",
      "Passed all tests when first_stride>1\n",
      "Passed all tests when n_blocks>2\n",
      "All tests in `test_block_group` passed!\n"
     ]
    }
   ],
   "source": [
    "class BlockGroup(nn.Module):\n",
    "    def __init__(self, n_blocks: int, in_feats: int, out_feats: int, first_stride=1):\n",
    "        '''An n_blocks-long sequence of ResidualBlock where only the first block uses the provided stride.'''\n",
    "        super().__init__()\n",
    "        \n",
    "        blocks = [ResidualBlock(in_feats,out_feats,first_stride)] + \\\n",
    "        [ResidualBlock(out_feats,out_feats) for n in range(n_blocks-1)]\n",
    "\n",
    "        self.blockgroup = Sequential(*blocks)  # '*' disassemble list into individual values\n",
    "\n",
    "\n",
    "    def forward(self, x: t.Tensor) -> t.Tensor:\n",
    "        '''\n",
    "        Compute the forward pass.\n",
    "\n",
    "        x: shape (batch, in_feats, height, width)\n",
    "\n",
    "        Return: shape (batch, out_feats, height / first_stride, width / first_stride)\n",
    "        '''\n",
    "        \n",
    "        return self.blockgroup(x)\n",
    "\n",
    "\n",
    "tests.test_block_group(BlockGroup)"
   ]
  },
  {
   "cell_type": "markdown",
   "metadata": {},
   "source": [
    "### Exercise - implement `ResNet34`\n",
    "\n",
    "```yaml\n",
    "Difficulty: 🔴🔴🔴🔴⚪\n",
    "Importance: 🔵🔵🔵🔵⚪\n",
    "\n",
    "You should spend up to 25-30 minutes on this exercise.\n",
    "\n",
    "You may have to return to this and previous exercises, if you find a bug later.\n",
    "```\n",
    "\n",
    "Last step! Assemble `ResNet34` using the diagram.\n",
    "\n",
    "\n",
    "<details>\n",
    "<summary>Help - I'm not sure how to construct each of the BlockGroups.</summary>\n",
    "\n",
    "Each BlockGroup takes arguments `n_blocks`, `in_feats`, `out_feats` and `first_stride`. In the initialisation of `ResNet34` below, we're given a list of `n_blocks`, `out_feats` and `first_stride` for each of the BlockGroups. To find `in_feats` for each block, it suffices to note two things:\n",
    "    \n",
    "1. The first `in_feats` should be 64, because the input is coming from the convolutional layer with 64 output channels.\n",
    "2. The `out_feats` of each layer should be equal to the `in_feats` of the subsequent layer (because the BlockGroups are stacked one after the other; with no operations in between to change the shape).\n",
    "\n",
    "You can use these two facts to construct a list `in_features_per_group`, and then create your BlockGroups by zipping through all four lists.\n",
    "</details>\n",
    "\n",
    "<details>\n",
    "<summary>Help - I'm not sure how to construct the 7x7 conv at the very start.</summary>\n",
    "\n",
    "All the information about this convolution is given in the diagram, except for `in_channels`. Recall that the input to this layer is an RGB image. Can you deduce from this how many input channels your layer should have?\n",
    "</details>"
   ]
  },
  {
   "cell_type": "code",
   "execution_count": 28,
   "metadata": {},
   "outputs": [],
   "source": [
    "class ResNet34(nn.Module):\n",
    "    def __init__(\n",
    "        self,\n",
    "        n_blocks_per_group=[3, 4, 6, 3],\n",
    "        out_features_per_group=[64, 128, 256, 512],\n",
    "        first_strides_per_group=[1, 2, 2, 2],\n",
    "        n_classes=1000,\n",
    "    ):\n",
    "        super().__init__()\n",
    "\n",
    "        # == Solution==\n",
    "\n",
    "        in_feat0 = 64\n",
    "        self.n_blocks_per_group = n_blocks_per_group\n",
    "        self.out_features_per_group = out_features_per_group\n",
    "        self.first_strides_per_group = first_strides_per_group\n",
    "        self.n_class = n_classes\n",
    "\n",
    "        self.in_layers = Sequential(\n",
    "            Conv2d(3,in_feat0,kernel_size=7,stride=2,padding=3),\n",
    "            BatchNorm2d(in_feat0),\n",
    "            ReLU(),\n",
    "            MaxPool2d(kernel_size=3,stride=2,padding=1)\n",
    "        )\n",
    "\n",
    "        all_in_feats = [in_feat0] + self.out_features_per_group[:-1]\n",
    "\n",
    "        self.residual_layers = Sequential(\n",
    "            *(\n",
    "                BlockGroup(*args) for args in zip(\n",
    "                    n_blocks_per_group,\n",
    "                    all_in_feats,\n",
    "                    out_features_per_group,\n",
    "                    first_strides_per_group,\n",
    "                )\n",
    "\n",
    "            )\n",
    "        )\n",
    "\n",
    "\n",
    "        self.out_layers = Sequential(\n",
    "            AveragePool(),\n",
    "            Linear(out_features_per_group[-1],n_classes)\n",
    "        )\n",
    "\n",
    "    def forward(self, x: t.Tensor) -> t.Tensor:\n",
    "        '''\n",
    "        x: shape (batch, channels, height, width)\n",
    "        Return: shape (batch, n_classes)\n",
    "        '''\n",
    "        x = self.in_layers(x)\n",
    "        x = self.in_layers(x)\n",
    "        x = self.out_layers(x)\n",
    "\n",
    "        return x\n",
    "\n",
    "\n",
    "my_resnet = ResNet34()"
   ]
  },
  {
   "cell_type": "markdown",
   "metadata": {},
   "source": [
    "Now that you've built your `ResNet34`, we'll copy weights over from PyTorch's pretrained resnet to yours. This is a good way to verify that you've designed the architecture correctly."
   ]
  },
  {
   "cell_type": "code",
   "execution_count": 30,
   "metadata": {},
   "outputs": [],
   "source": [
    "def copy_weights(my_resnet: ResNet34, pretrained_resnet: models.resnet.ResNet) -> ResNet34:\n",
    "    '''Copy over the weights of `pretrained_resnet` to your resnet.'''\n",
    "\n",
    "    # Get the state dictionaries for each model, check they have the same number of parameters & buffers\n",
    "    mydict = my_resnet.state_dict()\n",
    "    pretraineddict = pretrained_resnet.state_dict()\n",
    "    assert len(mydict) == len(pretraineddict), \"Mismatching state dictionaries.\"\n",
    "\n",
    "    # Define a dictionary mapping the names of your parameters / buffers to their values in the pretrained model\n",
    "    state_dict_to_load = {\n",
    "        mykey: pretrainedvalue\n",
    "        for (mykey, myvalue), (pretrainedkey, pretrainedvalue) in zip(mydict.items(), pretraineddict.items())\n",
    "    }\n",
    "\n",
    "    # Load in this dictionary to your model\n",
    "    my_resnet.load_state_dict(state_dict_to_load)\n",
    "\n",
    "    return my_resnet\n",
    "\n",
    "\n",
    "pretrained_resnet = models.resnet34(weights=models.ResNet34_Weights.IMAGENET1K_V1)\n",
    "my_resnet = copy_weights(my_resnet, pretrained_resnet)"
   ]
  },
  {
   "cell_type": "markdown",
   "metadata": {},
   "source": [
    "This function uses the `state_dict()` method, which returns an  `OrderedDict` (documentation [here](https://realpython.com/python-ordereddict/)) object containing all the parameter/buffer names and their values. State dicts can be extracted from models, saved to your filesystem (this is a common way to store the results of training a model), and can also be loaded back into a model using the `load_state_dict` method. (Note that you can also load weights using a regular Python `dict`, but since Python 3.7, the builtin `dict` is guaranteed to maintain items in the order they're inserted.)\n",
    "\n",
    "If the copying fails, this means that your model's layers don't match up with the layers in the PyTorch model implementation.\n",
    "\n",
    "To debug here, we've given you a helpful function `print_param_count` (from `utils.py`), which takes two models and prints out a stylized dataframe comparing the parameter names and shapes of each model. It will tell you when your model matches up with the PyTorch implementation. It can be used as follows:\n"
   ]
  },
  {
   "cell_type": "code",
   "execution_count": 31,
   "metadata": {},
   "outputs": [
    {
     "name": "stdout",
     "output_type": "stream",
     "text": [
      "Model 1, total params = 21797672\n",
      "Model 2, total params = 21797672\n",
      "All parameter counts match!\n"
     ]
    },
    {
     "data": {
      "text/html": [
       "<style type=\"text/css\">\n",
       "#T_3ea8c_row0_col2, #T_3ea8c_row0_col3 {\n",
       "  background-color: #238a8d;\n",
       "  color: #f1f1f1;\n",
       "}\n",
       "#T_3ea8c_row1_col2, #T_3ea8c_row1_col3, #T_3ea8c_row2_col2, #T_3ea8c_row2_col3, #T_3ea8c_row4_col2, #T_3ea8c_row4_col3, #T_3ea8c_row5_col2, #T_3ea8c_row5_col3, #T_3ea8c_row7_col2, #T_3ea8c_row7_col3, #T_3ea8c_row8_col2, #T_3ea8c_row8_col3, #T_3ea8c_row10_col2, #T_3ea8c_row10_col3, #T_3ea8c_row11_col2, #T_3ea8c_row11_col3, #T_3ea8c_row13_col2, #T_3ea8c_row13_col3, #T_3ea8c_row14_col2, #T_3ea8c_row14_col3, #T_3ea8c_row16_col2, #T_3ea8c_row16_col3, #T_3ea8c_row17_col2, #T_3ea8c_row17_col3, #T_3ea8c_row19_col2, #T_3ea8c_row19_col3, #T_3ea8c_row20_col2, #T_3ea8c_row20_col3 {\n",
       "  background-color: #440154;\n",
       "  color: #f1f1f1;\n",
       "}\n",
       "#T_3ea8c_row3_col2, #T_3ea8c_row3_col3, #T_3ea8c_row6_col2, #T_3ea8c_row6_col3, #T_3ea8c_row9_col2, #T_3ea8c_row9_col3, #T_3ea8c_row12_col2, #T_3ea8c_row12_col3, #T_3ea8c_row15_col2, #T_3ea8c_row15_col3, #T_3ea8c_row18_col2, #T_3ea8c_row18_col3 {\n",
       "  background-color: #23a983;\n",
       "  color: #f1f1f1;\n",
       "}\n",
       "#T_3ea8c_row21_col2, #T_3ea8c_row21_col3 {\n",
       "  background-color: #37b878;\n",
       "  color: #f1f1f1;\n",
       "}\n",
       "#T_3ea8c_row22_col2, #T_3ea8c_row22_col3, #T_3ea8c_row23_col2, #T_3ea8c_row23_col3, #T_3ea8c_row25_col2, #T_3ea8c_row25_col3, #T_3ea8c_row26_col2, #T_3ea8c_row26_col3, #T_3ea8c_row28_col2, #T_3ea8c_row28_col3, #T_3ea8c_row29_col2, #T_3ea8c_row29_col3, #T_3ea8c_row31_col2, #T_3ea8c_row31_col3, #T_3ea8c_row32_col2, #T_3ea8c_row32_col3, #T_3ea8c_row34_col2, #T_3ea8c_row34_col3, #T_3ea8c_row35_col2, #T_3ea8c_row35_col3, #T_3ea8c_row37_col2, #T_3ea8c_row37_col3, #T_3ea8c_row38_col2, #T_3ea8c_row38_col3, #T_3ea8c_row40_col2, #T_3ea8c_row40_col3, #T_3ea8c_row41_col2, #T_3ea8c_row41_col3, #T_3ea8c_row43_col2, #T_3ea8c_row43_col3, #T_3ea8c_row44_col2, #T_3ea8c_row44_col3, #T_3ea8c_row46_col2, #T_3ea8c_row46_col3, #T_3ea8c_row47_col2, #T_3ea8c_row47_col3 {\n",
       "  background-color: #48186a;\n",
       "  color: #f1f1f1;\n",
       "}\n",
       "#T_3ea8c_row24_col2, #T_3ea8c_row24_col3, #T_3ea8c_row30_col2, #T_3ea8c_row30_col3, #T_3ea8c_row33_col2, #T_3ea8c_row33_col3, #T_3ea8c_row36_col2, #T_3ea8c_row36_col3, #T_3ea8c_row39_col2, #T_3ea8c_row39_col3, #T_3ea8c_row42_col2, #T_3ea8c_row42_col3, #T_3ea8c_row45_col2, #T_3ea8c_row45_col3 {\n",
       "  background-color: #56c667;\n",
       "  color: #000000;\n",
       "}\n",
       "#T_3ea8c_row27_col2, #T_3ea8c_row27_col3 {\n",
       "  background-color: #24878e;\n",
       "  color: #f1f1f1;\n",
       "}\n",
       "#T_3ea8c_row48_col2, #T_3ea8c_row48_col3 {\n",
       "  background-color: #7cd250;\n",
       "  color: #000000;\n",
       "}\n",
       "#T_3ea8c_row49_col2, #T_3ea8c_row49_col3, #T_3ea8c_row50_col2, #T_3ea8c_row50_col3, #T_3ea8c_row52_col2, #T_3ea8c_row52_col3, #T_3ea8c_row53_col2, #T_3ea8c_row53_col3, #T_3ea8c_row55_col2, #T_3ea8c_row55_col3, #T_3ea8c_row56_col2, #T_3ea8c_row56_col3, #T_3ea8c_row58_col2, #T_3ea8c_row58_col3, #T_3ea8c_row59_col2, #T_3ea8c_row59_col3, #T_3ea8c_row61_col2, #T_3ea8c_row61_col3, #T_3ea8c_row62_col2, #T_3ea8c_row62_col3, #T_3ea8c_row64_col2, #T_3ea8c_row64_col3, #T_3ea8c_row65_col2, #T_3ea8c_row65_col3, #T_3ea8c_row67_col2, #T_3ea8c_row67_col3, #T_3ea8c_row68_col2, #T_3ea8c_row68_col3, #T_3ea8c_row70_col2, #T_3ea8c_row70_col3, #T_3ea8c_row71_col2, #T_3ea8c_row71_col3, #T_3ea8c_row73_col2, #T_3ea8c_row73_col3, #T_3ea8c_row74_col2, #T_3ea8c_row74_col3, #T_3ea8c_row76_col2, #T_3ea8c_row76_col3, #T_3ea8c_row77_col2, #T_3ea8c_row77_col3, #T_3ea8c_row79_col2, #T_3ea8c_row79_col3, #T_3ea8c_row80_col2, #T_3ea8c_row80_col3, #T_3ea8c_row82_col2, #T_3ea8c_row82_col3, #T_3ea8c_row83_col2, #T_3ea8c_row83_col3, #T_3ea8c_row85_col2, #T_3ea8c_row85_col3, #T_3ea8c_row86_col2, #T_3ea8c_row86_col3 {\n",
       "  background-color: #472e7c;\n",
       "  color: #f1f1f1;\n",
       "}\n",
       "#T_3ea8c_row51_col2, #T_3ea8c_row51_col3, #T_3ea8c_row57_col2, #T_3ea8c_row57_col3, #T_3ea8c_row60_col2, #T_3ea8c_row60_col3, #T_3ea8c_row63_col2, #T_3ea8c_row63_col3, #T_3ea8c_row66_col2, #T_3ea8c_row66_col3, #T_3ea8c_row69_col2, #T_3ea8c_row69_col3, #T_3ea8c_row72_col2, #T_3ea8c_row72_col3, #T_3ea8c_row75_col2, #T_3ea8c_row75_col3, #T_3ea8c_row78_col2, #T_3ea8c_row78_col3, #T_3ea8c_row81_col2, #T_3ea8c_row81_col3, #T_3ea8c_row84_col2, #T_3ea8c_row84_col3 {\n",
       "  background-color: #a8db34;\n",
       "  color: #000000;\n",
       "}\n",
       "#T_3ea8c_row54_col2, #T_3ea8c_row54_col3 {\n",
       "  background-color: #21a685;\n",
       "  color: #f1f1f1;\n",
       "}\n",
       "#T_3ea8c_row87_col2, #T_3ea8c_row87_col3 {\n",
       "  background-color: #d5e21a;\n",
       "  color: #000000;\n",
       "}\n",
       "#T_3ea8c_row88_col2, #T_3ea8c_row88_col3, #T_3ea8c_row89_col2, #T_3ea8c_row89_col3, #T_3ea8c_row91_col2, #T_3ea8c_row91_col3, #T_3ea8c_row92_col2, #T_3ea8c_row92_col3, #T_3ea8c_row94_col2, #T_3ea8c_row94_col3, #T_3ea8c_row95_col2, #T_3ea8c_row95_col3, #T_3ea8c_row97_col2, #T_3ea8c_row97_col3, #T_3ea8c_row98_col2, #T_3ea8c_row98_col3, #T_3ea8c_row100_col2, #T_3ea8c_row100_col3, #T_3ea8c_row101_col2, #T_3ea8c_row101_col3, #T_3ea8c_row103_col2, #T_3ea8c_row103_col3, #T_3ea8c_row104_col2, #T_3ea8c_row104_col3, #T_3ea8c_row106_col2, #T_3ea8c_row106_col3, #T_3ea8c_row107_col2, #T_3ea8c_row107_col3 {\n",
       "  background-color: #414287;\n",
       "  color: #f1f1f1;\n",
       "}\n",
       "#T_3ea8c_row90_col2, #T_3ea8c_row90_col3, #T_3ea8c_row96_col2, #T_3ea8c_row96_col3, #T_3ea8c_row99_col2, #T_3ea8c_row99_col3, #T_3ea8c_row102_col2, #T_3ea8c_row102_col3, #T_3ea8c_row105_col2, #T_3ea8c_row105_col3 {\n",
       "  background-color: #fde725;\n",
       "  color: #000000;\n",
       "}\n",
       "#T_3ea8c_row93_col2, #T_3ea8c_row93_col3 {\n",
       "  background-color: #50c46a;\n",
       "  color: #000000;\n",
       "}\n",
       "#T_3ea8c_row108_col2, #T_3ea8c_row108_col3 {\n",
       "  background-color: #9dd93b;\n",
       "  color: #000000;\n",
       "}\n",
       "#T_3ea8c_row109_col2, #T_3ea8c_row109_col3 {\n",
       "  background-color: #3a548c;\n",
       "  color: #f1f1f1;\n",
       "}\n",
       "</style>\n",
       "<table id=\"T_3ea8c\">\n",
       "  <thead>\n",
       "    <tr>\n",
       "      <th class=\"blank level0\" >&nbsp;</th>\n",
       "      <th id=\"T_3ea8c_level0_col0\" class=\"col_heading level0 col0\" >name_1</th>\n",
       "      <th id=\"T_3ea8c_level0_col1\" class=\"col_heading level0 col1\" >shape_1</th>\n",
       "      <th id=\"T_3ea8c_level0_col2\" class=\"col_heading level0 col2\" >num_params_1</th>\n",
       "      <th id=\"T_3ea8c_level0_col3\" class=\"col_heading level0 col3\" >num_params_2</th>\n",
       "      <th id=\"T_3ea8c_level0_col4\" class=\"col_heading level0 col4\" >shape_2</th>\n",
       "      <th id=\"T_3ea8c_level0_col5\" class=\"col_heading level0 col5\" >name_2</th>\n",
       "    </tr>\n",
       "  </thead>\n",
       "  <tbody>\n",
       "    <tr>\n",
       "      <th id=\"T_3ea8c_level0_row0\" class=\"row_heading level0 row0\" >0</th>\n",
       "      <td id=\"T_3ea8c_row0_col0\" class=\"data row0 col0\" >in_layers.0.weight</td>\n",
       "      <td id=\"T_3ea8c_row0_col1\" class=\"data row0 col1\" >(64, 3, 7, 7)</td>\n",
       "      <td id=\"T_3ea8c_row0_col2\" class=\"data row0 col2\" >9408</td>\n",
       "      <td id=\"T_3ea8c_row0_col3\" class=\"data row0 col3\" >9408</td>\n",
       "      <td id=\"T_3ea8c_row0_col4\" class=\"data row0 col4\" >(64, 3, 7, 7)</td>\n",
       "      <td id=\"T_3ea8c_row0_col5\" class=\"data row0 col5\" >conv1.weight</td>\n",
       "    </tr>\n",
       "    <tr>\n",
       "      <th id=\"T_3ea8c_level0_row1\" class=\"row_heading level0 row1\" >1</th>\n",
       "      <td id=\"T_3ea8c_row1_col0\" class=\"data row1 col0\" >in_layers.1.weight</td>\n",
       "      <td id=\"T_3ea8c_row1_col1\" class=\"data row1 col1\" >(64,)</td>\n",
       "      <td id=\"T_3ea8c_row1_col2\" class=\"data row1 col2\" >64</td>\n",
       "      <td id=\"T_3ea8c_row1_col3\" class=\"data row1 col3\" >64</td>\n",
       "      <td id=\"T_3ea8c_row1_col4\" class=\"data row1 col4\" >(64,)</td>\n",
       "      <td id=\"T_3ea8c_row1_col5\" class=\"data row1 col5\" >bn1.weight</td>\n",
       "    </tr>\n",
       "    <tr>\n",
       "      <th id=\"T_3ea8c_level0_row2\" class=\"row_heading level0 row2\" >2</th>\n",
       "      <td id=\"T_3ea8c_row2_col0\" class=\"data row2 col0\" >in_layers.1.bias</td>\n",
       "      <td id=\"T_3ea8c_row2_col1\" class=\"data row2 col1\" >(64,)</td>\n",
       "      <td id=\"T_3ea8c_row2_col2\" class=\"data row2 col2\" >64</td>\n",
       "      <td id=\"T_3ea8c_row2_col3\" class=\"data row2 col3\" >64</td>\n",
       "      <td id=\"T_3ea8c_row2_col4\" class=\"data row2 col4\" >(64,)</td>\n",
       "      <td id=\"T_3ea8c_row2_col5\" class=\"data row2 col5\" >bn1.bias</td>\n",
       "    </tr>\n",
       "    <tr>\n",
       "      <th id=\"T_3ea8c_level0_row3\" class=\"row_heading level0 row3\" >3</th>\n",
       "      <td id=\"T_3ea8c_row3_col0\" class=\"data row3 col0\" >residual_layers.0.blockgroup.0.left.0.weight</td>\n",
       "      <td id=\"T_3ea8c_row3_col1\" class=\"data row3 col1\" >(64, 64, 3, 3)</td>\n",
       "      <td id=\"T_3ea8c_row3_col2\" class=\"data row3 col2\" >36864</td>\n",
       "      <td id=\"T_3ea8c_row3_col3\" class=\"data row3 col3\" >36864</td>\n",
       "      <td id=\"T_3ea8c_row3_col4\" class=\"data row3 col4\" >(64, 64, 3, 3)</td>\n",
       "      <td id=\"T_3ea8c_row3_col5\" class=\"data row3 col5\" >layer1.0.conv1.weight</td>\n",
       "    </tr>\n",
       "    <tr>\n",
       "      <th id=\"T_3ea8c_level0_row4\" class=\"row_heading level0 row4\" >4</th>\n",
       "      <td id=\"T_3ea8c_row4_col0\" class=\"data row4 col0\" >residual_layers.0.blockgroup.0.left.1.weight</td>\n",
       "      <td id=\"T_3ea8c_row4_col1\" class=\"data row4 col1\" >(64,)</td>\n",
       "      <td id=\"T_3ea8c_row4_col2\" class=\"data row4 col2\" >64</td>\n",
       "      <td id=\"T_3ea8c_row4_col3\" class=\"data row4 col3\" >64</td>\n",
       "      <td id=\"T_3ea8c_row4_col4\" class=\"data row4 col4\" >(64,)</td>\n",
       "      <td id=\"T_3ea8c_row4_col5\" class=\"data row4 col5\" >layer1.0.bn1.weight</td>\n",
       "    </tr>\n",
       "    <tr>\n",
       "      <th id=\"T_3ea8c_level0_row5\" class=\"row_heading level0 row5\" >5</th>\n",
       "      <td id=\"T_3ea8c_row5_col0\" class=\"data row5 col0\" >residual_layers.0.blockgroup.0.left.1.bias</td>\n",
       "      <td id=\"T_3ea8c_row5_col1\" class=\"data row5 col1\" >(64,)</td>\n",
       "      <td id=\"T_3ea8c_row5_col2\" class=\"data row5 col2\" >64</td>\n",
       "      <td id=\"T_3ea8c_row5_col3\" class=\"data row5 col3\" >64</td>\n",
       "      <td id=\"T_3ea8c_row5_col4\" class=\"data row5 col4\" >(64,)</td>\n",
       "      <td id=\"T_3ea8c_row5_col5\" class=\"data row5 col5\" >layer1.0.bn1.bias</td>\n",
       "    </tr>\n",
       "    <tr>\n",
       "      <th id=\"T_3ea8c_level0_row6\" class=\"row_heading level0 row6\" >6</th>\n",
       "      <td id=\"T_3ea8c_row6_col0\" class=\"data row6 col0\" >residual_layers.0.blockgroup.0.left.3.weight</td>\n",
       "      <td id=\"T_3ea8c_row6_col1\" class=\"data row6 col1\" >(64, 64, 3, 3)</td>\n",
       "      <td id=\"T_3ea8c_row6_col2\" class=\"data row6 col2\" >36864</td>\n",
       "      <td id=\"T_3ea8c_row6_col3\" class=\"data row6 col3\" >36864</td>\n",
       "      <td id=\"T_3ea8c_row6_col4\" class=\"data row6 col4\" >(64, 64, 3, 3)</td>\n",
       "      <td id=\"T_3ea8c_row6_col5\" class=\"data row6 col5\" >layer1.0.conv2.weight</td>\n",
       "    </tr>\n",
       "    <tr>\n",
       "      <th id=\"T_3ea8c_level0_row7\" class=\"row_heading level0 row7\" >7</th>\n",
       "      <td id=\"T_3ea8c_row7_col0\" class=\"data row7 col0\" >residual_layers.0.blockgroup.0.left.4.weight</td>\n",
       "      <td id=\"T_3ea8c_row7_col1\" class=\"data row7 col1\" >(64,)</td>\n",
       "      <td id=\"T_3ea8c_row7_col2\" class=\"data row7 col2\" >64</td>\n",
       "      <td id=\"T_3ea8c_row7_col3\" class=\"data row7 col3\" >64</td>\n",
       "      <td id=\"T_3ea8c_row7_col4\" class=\"data row7 col4\" >(64,)</td>\n",
       "      <td id=\"T_3ea8c_row7_col5\" class=\"data row7 col5\" >layer1.0.bn2.weight</td>\n",
       "    </tr>\n",
       "    <tr>\n",
       "      <th id=\"T_3ea8c_level0_row8\" class=\"row_heading level0 row8\" >8</th>\n",
       "      <td id=\"T_3ea8c_row8_col0\" class=\"data row8 col0\" >residual_layers.0.blockgroup.0.left.4.bias</td>\n",
       "      <td id=\"T_3ea8c_row8_col1\" class=\"data row8 col1\" >(64,)</td>\n",
       "      <td id=\"T_3ea8c_row8_col2\" class=\"data row8 col2\" >64</td>\n",
       "      <td id=\"T_3ea8c_row8_col3\" class=\"data row8 col3\" >64</td>\n",
       "      <td id=\"T_3ea8c_row8_col4\" class=\"data row8 col4\" >(64,)</td>\n",
       "      <td id=\"T_3ea8c_row8_col5\" class=\"data row8 col5\" >layer1.0.bn2.bias</td>\n",
       "    </tr>\n",
       "    <tr>\n",
       "      <th id=\"T_3ea8c_level0_row9\" class=\"row_heading level0 row9\" >9</th>\n",
       "      <td id=\"T_3ea8c_row9_col0\" class=\"data row9 col0\" >residual_layers.0.blockgroup.1.left.0.weight</td>\n",
       "      <td id=\"T_3ea8c_row9_col1\" class=\"data row9 col1\" >(64, 64, 3, 3)</td>\n",
       "      <td id=\"T_3ea8c_row9_col2\" class=\"data row9 col2\" >36864</td>\n",
       "      <td id=\"T_3ea8c_row9_col3\" class=\"data row9 col3\" >36864</td>\n",
       "      <td id=\"T_3ea8c_row9_col4\" class=\"data row9 col4\" >(64, 64, 3, 3)</td>\n",
       "      <td id=\"T_3ea8c_row9_col5\" class=\"data row9 col5\" >layer1.1.conv1.weight</td>\n",
       "    </tr>\n",
       "    <tr>\n",
       "      <th id=\"T_3ea8c_level0_row10\" class=\"row_heading level0 row10\" >10</th>\n",
       "      <td id=\"T_3ea8c_row10_col0\" class=\"data row10 col0\" >residual_layers.0.blockgroup.1.left.1.weight</td>\n",
       "      <td id=\"T_3ea8c_row10_col1\" class=\"data row10 col1\" >(64,)</td>\n",
       "      <td id=\"T_3ea8c_row10_col2\" class=\"data row10 col2\" >64</td>\n",
       "      <td id=\"T_3ea8c_row10_col3\" class=\"data row10 col3\" >64</td>\n",
       "      <td id=\"T_3ea8c_row10_col4\" class=\"data row10 col4\" >(64,)</td>\n",
       "      <td id=\"T_3ea8c_row10_col5\" class=\"data row10 col5\" >layer1.1.bn1.weight</td>\n",
       "    </tr>\n",
       "    <tr>\n",
       "      <th id=\"T_3ea8c_level0_row11\" class=\"row_heading level0 row11\" >11</th>\n",
       "      <td id=\"T_3ea8c_row11_col0\" class=\"data row11 col0\" >residual_layers.0.blockgroup.1.left.1.bias</td>\n",
       "      <td id=\"T_3ea8c_row11_col1\" class=\"data row11 col1\" >(64,)</td>\n",
       "      <td id=\"T_3ea8c_row11_col2\" class=\"data row11 col2\" >64</td>\n",
       "      <td id=\"T_3ea8c_row11_col3\" class=\"data row11 col3\" >64</td>\n",
       "      <td id=\"T_3ea8c_row11_col4\" class=\"data row11 col4\" >(64,)</td>\n",
       "      <td id=\"T_3ea8c_row11_col5\" class=\"data row11 col5\" >layer1.1.bn1.bias</td>\n",
       "    </tr>\n",
       "    <tr>\n",
       "      <th id=\"T_3ea8c_level0_row12\" class=\"row_heading level0 row12\" >12</th>\n",
       "      <td id=\"T_3ea8c_row12_col0\" class=\"data row12 col0\" >residual_layers.0.blockgroup.1.left.3.weight</td>\n",
       "      <td id=\"T_3ea8c_row12_col1\" class=\"data row12 col1\" >(64, 64, 3, 3)</td>\n",
       "      <td id=\"T_3ea8c_row12_col2\" class=\"data row12 col2\" >36864</td>\n",
       "      <td id=\"T_3ea8c_row12_col3\" class=\"data row12 col3\" >36864</td>\n",
       "      <td id=\"T_3ea8c_row12_col4\" class=\"data row12 col4\" >(64, 64, 3, 3)</td>\n",
       "      <td id=\"T_3ea8c_row12_col5\" class=\"data row12 col5\" >layer1.1.conv2.weight</td>\n",
       "    </tr>\n",
       "    <tr>\n",
       "      <th id=\"T_3ea8c_level0_row13\" class=\"row_heading level0 row13\" >13</th>\n",
       "      <td id=\"T_3ea8c_row13_col0\" class=\"data row13 col0\" >residual_layers.0.blockgroup.1.left.4.weight</td>\n",
       "      <td id=\"T_3ea8c_row13_col1\" class=\"data row13 col1\" >(64,)</td>\n",
       "      <td id=\"T_3ea8c_row13_col2\" class=\"data row13 col2\" >64</td>\n",
       "      <td id=\"T_3ea8c_row13_col3\" class=\"data row13 col3\" >64</td>\n",
       "      <td id=\"T_3ea8c_row13_col4\" class=\"data row13 col4\" >(64,)</td>\n",
       "      <td id=\"T_3ea8c_row13_col5\" class=\"data row13 col5\" >layer1.1.bn2.weight</td>\n",
       "    </tr>\n",
       "    <tr>\n",
       "      <th id=\"T_3ea8c_level0_row14\" class=\"row_heading level0 row14\" >14</th>\n",
       "      <td id=\"T_3ea8c_row14_col0\" class=\"data row14 col0\" >residual_layers.0.blockgroup.1.left.4.bias</td>\n",
       "      <td id=\"T_3ea8c_row14_col1\" class=\"data row14 col1\" >(64,)</td>\n",
       "      <td id=\"T_3ea8c_row14_col2\" class=\"data row14 col2\" >64</td>\n",
       "      <td id=\"T_3ea8c_row14_col3\" class=\"data row14 col3\" >64</td>\n",
       "      <td id=\"T_3ea8c_row14_col4\" class=\"data row14 col4\" >(64,)</td>\n",
       "      <td id=\"T_3ea8c_row14_col5\" class=\"data row14 col5\" >layer1.1.bn2.bias</td>\n",
       "    </tr>\n",
       "    <tr>\n",
       "      <th id=\"T_3ea8c_level0_row15\" class=\"row_heading level0 row15\" >15</th>\n",
       "      <td id=\"T_3ea8c_row15_col0\" class=\"data row15 col0\" >residual_layers.0.blockgroup.2.left.0.weight</td>\n",
       "      <td id=\"T_3ea8c_row15_col1\" class=\"data row15 col1\" >(64, 64, 3, 3)</td>\n",
       "      <td id=\"T_3ea8c_row15_col2\" class=\"data row15 col2\" >36864</td>\n",
       "      <td id=\"T_3ea8c_row15_col3\" class=\"data row15 col3\" >36864</td>\n",
       "      <td id=\"T_3ea8c_row15_col4\" class=\"data row15 col4\" >(64, 64, 3, 3)</td>\n",
       "      <td id=\"T_3ea8c_row15_col5\" class=\"data row15 col5\" >layer1.2.conv1.weight</td>\n",
       "    </tr>\n",
       "    <tr>\n",
       "      <th id=\"T_3ea8c_level0_row16\" class=\"row_heading level0 row16\" >16</th>\n",
       "      <td id=\"T_3ea8c_row16_col0\" class=\"data row16 col0\" >residual_layers.0.blockgroup.2.left.1.weight</td>\n",
       "      <td id=\"T_3ea8c_row16_col1\" class=\"data row16 col1\" >(64,)</td>\n",
       "      <td id=\"T_3ea8c_row16_col2\" class=\"data row16 col2\" >64</td>\n",
       "      <td id=\"T_3ea8c_row16_col3\" class=\"data row16 col3\" >64</td>\n",
       "      <td id=\"T_3ea8c_row16_col4\" class=\"data row16 col4\" >(64,)</td>\n",
       "      <td id=\"T_3ea8c_row16_col5\" class=\"data row16 col5\" >layer1.2.bn1.weight</td>\n",
       "    </tr>\n",
       "    <tr>\n",
       "      <th id=\"T_3ea8c_level0_row17\" class=\"row_heading level0 row17\" >17</th>\n",
       "      <td id=\"T_3ea8c_row17_col0\" class=\"data row17 col0\" >residual_layers.0.blockgroup.2.left.1.bias</td>\n",
       "      <td id=\"T_3ea8c_row17_col1\" class=\"data row17 col1\" >(64,)</td>\n",
       "      <td id=\"T_3ea8c_row17_col2\" class=\"data row17 col2\" >64</td>\n",
       "      <td id=\"T_3ea8c_row17_col3\" class=\"data row17 col3\" >64</td>\n",
       "      <td id=\"T_3ea8c_row17_col4\" class=\"data row17 col4\" >(64,)</td>\n",
       "      <td id=\"T_3ea8c_row17_col5\" class=\"data row17 col5\" >layer1.2.bn1.bias</td>\n",
       "    </tr>\n",
       "    <tr>\n",
       "      <th id=\"T_3ea8c_level0_row18\" class=\"row_heading level0 row18\" >18</th>\n",
       "      <td id=\"T_3ea8c_row18_col0\" class=\"data row18 col0\" >residual_layers.0.blockgroup.2.left.3.weight</td>\n",
       "      <td id=\"T_3ea8c_row18_col1\" class=\"data row18 col1\" >(64, 64, 3, 3)</td>\n",
       "      <td id=\"T_3ea8c_row18_col2\" class=\"data row18 col2\" >36864</td>\n",
       "      <td id=\"T_3ea8c_row18_col3\" class=\"data row18 col3\" >36864</td>\n",
       "      <td id=\"T_3ea8c_row18_col4\" class=\"data row18 col4\" >(64, 64, 3, 3)</td>\n",
       "      <td id=\"T_3ea8c_row18_col5\" class=\"data row18 col5\" >layer1.2.conv2.weight</td>\n",
       "    </tr>\n",
       "    <tr>\n",
       "      <th id=\"T_3ea8c_level0_row19\" class=\"row_heading level0 row19\" >19</th>\n",
       "      <td id=\"T_3ea8c_row19_col0\" class=\"data row19 col0\" >residual_layers.0.blockgroup.2.left.4.weight</td>\n",
       "      <td id=\"T_3ea8c_row19_col1\" class=\"data row19 col1\" >(64,)</td>\n",
       "      <td id=\"T_3ea8c_row19_col2\" class=\"data row19 col2\" >64</td>\n",
       "      <td id=\"T_3ea8c_row19_col3\" class=\"data row19 col3\" >64</td>\n",
       "      <td id=\"T_3ea8c_row19_col4\" class=\"data row19 col4\" >(64,)</td>\n",
       "      <td id=\"T_3ea8c_row19_col5\" class=\"data row19 col5\" >layer1.2.bn2.weight</td>\n",
       "    </tr>\n",
       "    <tr>\n",
       "      <th id=\"T_3ea8c_level0_row20\" class=\"row_heading level0 row20\" >20</th>\n",
       "      <td id=\"T_3ea8c_row20_col0\" class=\"data row20 col0\" >residual_layers.0.blockgroup.2.left.4.bias</td>\n",
       "      <td id=\"T_3ea8c_row20_col1\" class=\"data row20 col1\" >(64,)</td>\n",
       "      <td id=\"T_3ea8c_row20_col2\" class=\"data row20 col2\" >64</td>\n",
       "      <td id=\"T_3ea8c_row20_col3\" class=\"data row20 col3\" >64</td>\n",
       "      <td id=\"T_3ea8c_row20_col4\" class=\"data row20 col4\" >(64,)</td>\n",
       "      <td id=\"T_3ea8c_row20_col5\" class=\"data row20 col5\" >layer1.2.bn2.bias</td>\n",
       "    </tr>\n",
       "    <tr>\n",
       "      <th id=\"T_3ea8c_level0_row21\" class=\"row_heading level0 row21\" >21</th>\n",
       "      <td id=\"T_3ea8c_row21_col0\" class=\"data row21 col0\" >residual_layers.1.blockgroup.0.left.0.weight</td>\n",
       "      <td id=\"T_3ea8c_row21_col1\" class=\"data row21 col1\" >(128, 64, 3, 3)</td>\n",
       "      <td id=\"T_3ea8c_row21_col2\" class=\"data row21 col2\" >73728</td>\n",
       "      <td id=\"T_3ea8c_row21_col3\" class=\"data row21 col3\" >73728</td>\n",
       "      <td id=\"T_3ea8c_row21_col4\" class=\"data row21 col4\" >(128, 64, 3, 3)</td>\n",
       "      <td id=\"T_3ea8c_row21_col5\" class=\"data row21 col5\" >layer2.0.conv1.weight</td>\n",
       "    </tr>\n",
       "    <tr>\n",
       "      <th id=\"T_3ea8c_level0_row22\" class=\"row_heading level0 row22\" >22</th>\n",
       "      <td id=\"T_3ea8c_row22_col0\" class=\"data row22 col0\" >residual_layers.1.blockgroup.0.left.1.weight</td>\n",
       "      <td id=\"T_3ea8c_row22_col1\" class=\"data row22 col1\" >(128,)</td>\n",
       "      <td id=\"T_3ea8c_row22_col2\" class=\"data row22 col2\" >128</td>\n",
       "      <td id=\"T_3ea8c_row22_col3\" class=\"data row22 col3\" >128</td>\n",
       "      <td id=\"T_3ea8c_row22_col4\" class=\"data row22 col4\" >(128,)</td>\n",
       "      <td id=\"T_3ea8c_row22_col5\" class=\"data row22 col5\" >layer2.0.bn1.weight</td>\n",
       "    </tr>\n",
       "    <tr>\n",
       "      <th id=\"T_3ea8c_level0_row23\" class=\"row_heading level0 row23\" >23</th>\n",
       "      <td id=\"T_3ea8c_row23_col0\" class=\"data row23 col0\" >residual_layers.1.blockgroup.0.left.1.bias</td>\n",
       "      <td id=\"T_3ea8c_row23_col1\" class=\"data row23 col1\" >(128,)</td>\n",
       "      <td id=\"T_3ea8c_row23_col2\" class=\"data row23 col2\" >128</td>\n",
       "      <td id=\"T_3ea8c_row23_col3\" class=\"data row23 col3\" >128</td>\n",
       "      <td id=\"T_3ea8c_row23_col4\" class=\"data row23 col4\" >(128,)</td>\n",
       "      <td id=\"T_3ea8c_row23_col5\" class=\"data row23 col5\" >layer2.0.bn1.bias</td>\n",
       "    </tr>\n",
       "    <tr>\n",
       "      <th id=\"T_3ea8c_level0_row24\" class=\"row_heading level0 row24\" >24</th>\n",
       "      <td id=\"T_3ea8c_row24_col0\" class=\"data row24 col0\" >residual_layers.1.blockgroup.0.left.3.weight</td>\n",
       "      <td id=\"T_3ea8c_row24_col1\" class=\"data row24 col1\" >(128, 128, 3, 3)</td>\n",
       "      <td id=\"T_3ea8c_row24_col2\" class=\"data row24 col2\" >147456</td>\n",
       "      <td id=\"T_3ea8c_row24_col3\" class=\"data row24 col3\" >147456</td>\n",
       "      <td id=\"T_3ea8c_row24_col4\" class=\"data row24 col4\" >(128, 128, 3, 3)</td>\n",
       "      <td id=\"T_3ea8c_row24_col5\" class=\"data row24 col5\" >layer2.0.conv2.weight</td>\n",
       "    </tr>\n",
       "    <tr>\n",
       "      <th id=\"T_3ea8c_level0_row25\" class=\"row_heading level0 row25\" >25</th>\n",
       "      <td id=\"T_3ea8c_row25_col0\" class=\"data row25 col0\" >residual_layers.1.blockgroup.0.left.4.weight</td>\n",
       "      <td id=\"T_3ea8c_row25_col1\" class=\"data row25 col1\" >(128,)</td>\n",
       "      <td id=\"T_3ea8c_row25_col2\" class=\"data row25 col2\" >128</td>\n",
       "      <td id=\"T_3ea8c_row25_col3\" class=\"data row25 col3\" >128</td>\n",
       "      <td id=\"T_3ea8c_row25_col4\" class=\"data row25 col4\" >(128,)</td>\n",
       "      <td id=\"T_3ea8c_row25_col5\" class=\"data row25 col5\" >layer2.0.bn2.weight</td>\n",
       "    </tr>\n",
       "    <tr>\n",
       "      <th id=\"T_3ea8c_level0_row26\" class=\"row_heading level0 row26\" >26</th>\n",
       "      <td id=\"T_3ea8c_row26_col0\" class=\"data row26 col0\" >residual_layers.1.blockgroup.0.left.4.bias</td>\n",
       "      <td id=\"T_3ea8c_row26_col1\" class=\"data row26 col1\" >(128,)</td>\n",
       "      <td id=\"T_3ea8c_row26_col2\" class=\"data row26 col2\" >128</td>\n",
       "      <td id=\"T_3ea8c_row26_col3\" class=\"data row26 col3\" >128</td>\n",
       "      <td id=\"T_3ea8c_row26_col4\" class=\"data row26 col4\" >(128,)</td>\n",
       "      <td id=\"T_3ea8c_row26_col5\" class=\"data row26 col5\" >layer2.0.bn2.bias</td>\n",
       "    </tr>\n",
       "    <tr>\n",
       "      <th id=\"T_3ea8c_level0_row27\" class=\"row_heading level0 row27\" >27</th>\n",
       "      <td id=\"T_3ea8c_row27_col0\" class=\"data row27 col0\" >residual_layers.1.blockgroup.0.right.0.weight</td>\n",
       "      <td id=\"T_3ea8c_row27_col1\" class=\"data row27 col1\" >(128, 64, 1, 1)</td>\n",
       "      <td id=\"T_3ea8c_row27_col2\" class=\"data row27 col2\" >8192</td>\n",
       "      <td id=\"T_3ea8c_row27_col3\" class=\"data row27 col3\" >8192</td>\n",
       "      <td id=\"T_3ea8c_row27_col4\" class=\"data row27 col4\" >(128, 64, 1, 1)</td>\n",
       "      <td id=\"T_3ea8c_row27_col5\" class=\"data row27 col5\" >layer2.0.downsample.0.weight</td>\n",
       "    </tr>\n",
       "    <tr>\n",
       "      <th id=\"T_3ea8c_level0_row28\" class=\"row_heading level0 row28\" >28</th>\n",
       "      <td id=\"T_3ea8c_row28_col0\" class=\"data row28 col0\" >residual_layers.1.blockgroup.0.right.1.weight</td>\n",
       "      <td id=\"T_3ea8c_row28_col1\" class=\"data row28 col1\" >(128,)</td>\n",
       "      <td id=\"T_3ea8c_row28_col2\" class=\"data row28 col2\" >128</td>\n",
       "      <td id=\"T_3ea8c_row28_col3\" class=\"data row28 col3\" >128</td>\n",
       "      <td id=\"T_3ea8c_row28_col4\" class=\"data row28 col4\" >(128,)</td>\n",
       "      <td id=\"T_3ea8c_row28_col5\" class=\"data row28 col5\" >layer2.0.downsample.1.weight</td>\n",
       "    </tr>\n",
       "    <tr>\n",
       "      <th id=\"T_3ea8c_level0_row29\" class=\"row_heading level0 row29\" >29</th>\n",
       "      <td id=\"T_3ea8c_row29_col0\" class=\"data row29 col0\" >residual_layers.1.blockgroup.0.right.1.bias</td>\n",
       "      <td id=\"T_3ea8c_row29_col1\" class=\"data row29 col1\" >(128,)</td>\n",
       "      <td id=\"T_3ea8c_row29_col2\" class=\"data row29 col2\" >128</td>\n",
       "      <td id=\"T_3ea8c_row29_col3\" class=\"data row29 col3\" >128</td>\n",
       "      <td id=\"T_3ea8c_row29_col4\" class=\"data row29 col4\" >(128,)</td>\n",
       "      <td id=\"T_3ea8c_row29_col5\" class=\"data row29 col5\" >layer2.0.downsample.1.bias</td>\n",
       "    </tr>\n",
       "    <tr>\n",
       "      <th id=\"T_3ea8c_level0_row30\" class=\"row_heading level0 row30\" >30</th>\n",
       "      <td id=\"T_3ea8c_row30_col0\" class=\"data row30 col0\" >residual_layers.1.blockgroup.1.left.0.weight</td>\n",
       "      <td id=\"T_3ea8c_row30_col1\" class=\"data row30 col1\" >(128, 128, 3, 3)</td>\n",
       "      <td id=\"T_3ea8c_row30_col2\" class=\"data row30 col2\" >147456</td>\n",
       "      <td id=\"T_3ea8c_row30_col3\" class=\"data row30 col3\" >147456</td>\n",
       "      <td id=\"T_3ea8c_row30_col4\" class=\"data row30 col4\" >(128, 128, 3, 3)</td>\n",
       "      <td id=\"T_3ea8c_row30_col5\" class=\"data row30 col5\" >layer2.1.conv1.weight</td>\n",
       "    </tr>\n",
       "    <tr>\n",
       "      <th id=\"T_3ea8c_level0_row31\" class=\"row_heading level0 row31\" >31</th>\n",
       "      <td id=\"T_3ea8c_row31_col0\" class=\"data row31 col0\" >residual_layers.1.blockgroup.1.left.1.weight</td>\n",
       "      <td id=\"T_3ea8c_row31_col1\" class=\"data row31 col1\" >(128,)</td>\n",
       "      <td id=\"T_3ea8c_row31_col2\" class=\"data row31 col2\" >128</td>\n",
       "      <td id=\"T_3ea8c_row31_col3\" class=\"data row31 col3\" >128</td>\n",
       "      <td id=\"T_3ea8c_row31_col4\" class=\"data row31 col4\" >(128,)</td>\n",
       "      <td id=\"T_3ea8c_row31_col5\" class=\"data row31 col5\" >layer2.1.bn1.weight</td>\n",
       "    </tr>\n",
       "    <tr>\n",
       "      <th id=\"T_3ea8c_level0_row32\" class=\"row_heading level0 row32\" >32</th>\n",
       "      <td id=\"T_3ea8c_row32_col0\" class=\"data row32 col0\" >residual_layers.1.blockgroup.1.left.1.bias</td>\n",
       "      <td id=\"T_3ea8c_row32_col1\" class=\"data row32 col1\" >(128,)</td>\n",
       "      <td id=\"T_3ea8c_row32_col2\" class=\"data row32 col2\" >128</td>\n",
       "      <td id=\"T_3ea8c_row32_col3\" class=\"data row32 col3\" >128</td>\n",
       "      <td id=\"T_3ea8c_row32_col4\" class=\"data row32 col4\" >(128,)</td>\n",
       "      <td id=\"T_3ea8c_row32_col5\" class=\"data row32 col5\" >layer2.1.bn1.bias</td>\n",
       "    </tr>\n",
       "    <tr>\n",
       "      <th id=\"T_3ea8c_level0_row33\" class=\"row_heading level0 row33\" >33</th>\n",
       "      <td id=\"T_3ea8c_row33_col0\" class=\"data row33 col0\" >residual_layers.1.blockgroup.1.left.3.weight</td>\n",
       "      <td id=\"T_3ea8c_row33_col1\" class=\"data row33 col1\" >(128, 128, 3, 3)</td>\n",
       "      <td id=\"T_3ea8c_row33_col2\" class=\"data row33 col2\" >147456</td>\n",
       "      <td id=\"T_3ea8c_row33_col3\" class=\"data row33 col3\" >147456</td>\n",
       "      <td id=\"T_3ea8c_row33_col4\" class=\"data row33 col4\" >(128, 128, 3, 3)</td>\n",
       "      <td id=\"T_3ea8c_row33_col5\" class=\"data row33 col5\" >layer2.1.conv2.weight</td>\n",
       "    </tr>\n",
       "    <tr>\n",
       "      <th id=\"T_3ea8c_level0_row34\" class=\"row_heading level0 row34\" >34</th>\n",
       "      <td id=\"T_3ea8c_row34_col0\" class=\"data row34 col0\" >residual_layers.1.blockgroup.1.left.4.weight</td>\n",
       "      <td id=\"T_3ea8c_row34_col1\" class=\"data row34 col1\" >(128,)</td>\n",
       "      <td id=\"T_3ea8c_row34_col2\" class=\"data row34 col2\" >128</td>\n",
       "      <td id=\"T_3ea8c_row34_col3\" class=\"data row34 col3\" >128</td>\n",
       "      <td id=\"T_3ea8c_row34_col4\" class=\"data row34 col4\" >(128,)</td>\n",
       "      <td id=\"T_3ea8c_row34_col5\" class=\"data row34 col5\" >layer2.1.bn2.weight</td>\n",
       "    </tr>\n",
       "    <tr>\n",
       "      <th id=\"T_3ea8c_level0_row35\" class=\"row_heading level0 row35\" >35</th>\n",
       "      <td id=\"T_3ea8c_row35_col0\" class=\"data row35 col0\" >residual_layers.1.blockgroup.1.left.4.bias</td>\n",
       "      <td id=\"T_3ea8c_row35_col1\" class=\"data row35 col1\" >(128,)</td>\n",
       "      <td id=\"T_3ea8c_row35_col2\" class=\"data row35 col2\" >128</td>\n",
       "      <td id=\"T_3ea8c_row35_col3\" class=\"data row35 col3\" >128</td>\n",
       "      <td id=\"T_3ea8c_row35_col4\" class=\"data row35 col4\" >(128,)</td>\n",
       "      <td id=\"T_3ea8c_row35_col5\" class=\"data row35 col5\" >layer2.1.bn2.bias</td>\n",
       "    </tr>\n",
       "    <tr>\n",
       "      <th id=\"T_3ea8c_level0_row36\" class=\"row_heading level0 row36\" >36</th>\n",
       "      <td id=\"T_3ea8c_row36_col0\" class=\"data row36 col0\" >residual_layers.1.blockgroup.2.left.0.weight</td>\n",
       "      <td id=\"T_3ea8c_row36_col1\" class=\"data row36 col1\" >(128, 128, 3, 3)</td>\n",
       "      <td id=\"T_3ea8c_row36_col2\" class=\"data row36 col2\" >147456</td>\n",
       "      <td id=\"T_3ea8c_row36_col3\" class=\"data row36 col3\" >147456</td>\n",
       "      <td id=\"T_3ea8c_row36_col4\" class=\"data row36 col4\" >(128, 128, 3, 3)</td>\n",
       "      <td id=\"T_3ea8c_row36_col5\" class=\"data row36 col5\" >layer2.2.conv1.weight</td>\n",
       "    </tr>\n",
       "    <tr>\n",
       "      <th id=\"T_3ea8c_level0_row37\" class=\"row_heading level0 row37\" >37</th>\n",
       "      <td id=\"T_3ea8c_row37_col0\" class=\"data row37 col0\" >residual_layers.1.blockgroup.2.left.1.weight</td>\n",
       "      <td id=\"T_3ea8c_row37_col1\" class=\"data row37 col1\" >(128,)</td>\n",
       "      <td id=\"T_3ea8c_row37_col2\" class=\"data row37 col2\" >128</td>\n",
       "      <td id=\"T_3ea8c_row37_col3\" class=\"data row37 col3\" >128</td>\n",
       "      <td id=\"T_3ea8c_row37_col4\" class=\"data row37 col4\" >(128,)</td>\n",
       "      <td id=\"T_3ea8c_row37_col5\" class=\"data row37 col5\" >layer2.2.bn1.weight</td>\n",
       "    </tr>\n",
       "    <tr>\n",
       "      <th id=\"T_3ea8c_level0_row38\" class=\"row_heading level0 row38\" >38</th>\n",
       "      <td id=\"T_3ea8c_row38_col0\" class=\"data row38 col0\" >residual_layers.1.blockgroup.2.left.1.bias</td>\n",
       "      <td id=\"T_3ea8c_row38_col1\" class=\"data row38 col1\" >(128,)</td>\n",
       "      <td id=\"T_3ea8c_row38_col2\" class=\"data row38 col2\" >128</td>\n",
       "      <td id=\"T_3ea8c_row38_col3\" class=\"data row38 col3\" >128</td>\n",
       "      <td id=\"T_3ea8c_row38_col4\" class=\"data row38 col4\" >(128,)</td>\n",
       "      <td id=\"T_3ea8c_row38_col5\" class=\"data row38 col5\" >layer2.2.bn1.bias</td>\n",
       "    </tr>\n",
       "    <tr>\n",
       "      <th id=\"T_3ea8c_level0_row39\" class=\"row_heading level0 row39\" >39</th>\n",
       "      <td id=\"T_3ea8c_row39_col0\" class=\"data row39 col0\" >residual_layers.1.blockgroup.2.left.3.weight</td>\n",
       "      <td id=\"T_3ea8c_row39_col1\" class=\"data row39 col1\" >(128, 128, 3, 3)</td>\n",
       "      <td id=\"T_3ea8c_row39_col2\" class=\"data row39 col2\" >147456</td>\n",
       "      <td id=\"T_3ea8c_row39_col3\" class=\"data row39 col3\" >147456</td>\n",
       "      <td id=\"T_3ea8c_row39_col4\" class=\"data row39 col4\" >(128, 128, 3, 3)</td>\n",
       "      <td id=\"T_3ea8c_row39_col5\" class=\"data row39 col5\" >layer2.2.conv2.weight</td>\n",
       "    </tr>\n",
       "    <tr>\n",
       "      <th id=\"T_3ea8c_level0_row40\" class=\"row_heading level0 row40\" >40</th>\n",
       "      <td id=\"T_3ea8c_row40_col0\" class=\"data row40 col0\" >residual_layers.1.blockgroup.2.left.4.weight</td>\n",
       "      <td id=\"T_3ea8c_row40_col1\" class=\"data row40 col1\" >(128,)</td>\n",
       "      <td id=\"T_3ea8c_row40_col2\" class=\"data row40 col2\" >128</td>\n",
       "      <td id=\"T_3ea8c_row40_col3\" class=\"data row40 col3\" >128</td>\n",
       "      <td id=\"T_3ea8c_row40_col4\" class=\"data row40 col4\" >(128,)</td>\n",
       "      <td id=\"T_3ea8c_row40_col5\" class=\"data row40 col5\" >layer2.2.bn2.weight</td>\n",
       "    </tr>\n",
       "    <tr>\n",
       "      <th id=\"T_3ea8c_level0_row41\" class=\"row_heading level0 row41\" >41</th>\n",
       "      <td id=\"T_3ea8c_row41_col0\" class=\"data row41 col0\" >residual_layers.1.blockgroup.2.left.4.bias</td>\n",
       "      <td id=\"T_3ea8c_row41_col1\" class=\"data row41 col1\" >(128,)</td>\n",
       "      <td id=\"T_3ea8c_row41_col2\" class=\"data row41 col2\" >128</td>\n",
       "      <td id=\"T_3ea8c_row41_col3\" class=\"data row41 col3\" >128</td>\n",
       "      <td id=\"T_3ea8c_row41_col4\" class=\"data row41 col4\" >(128,)</td>\n",
       "      <td id=\"T_3ea8c_row41_col5\" class=\"data row41 col5\" >layer2.2.bn2.bias</td>\n",
       "    </tr>\n",
       "    <tr>\n",
       "      <th id=\"T_3ea8c_level0_row42\" class=\"row_heading level0 row42\" >42</th>\n",
       "      <td id=\"T_3ea8c_row42_col0\" class=\"data row42 col0\" >residual_layers.1.blockgroup.3.left.0.weight</td>\n",
       "      <td id=\"T_3ea8c_row42_col1\" class=\"data row42 col1\" >(128, 128, 3, 3)</td>\n",
       "      <td id=\"T_3ea8c_row42_col2\" class=\"data row42 col2\" >147456</td>\n",
       "      <td id=\"T_3ea8c_row42_col3\" class=\"data row42 col3\" >147456</td>\n",
       "      <td id=\"T_3ea8c_row42_col4\" class=\"data row42 col4\" >(128, 128, 3, 3)</td>\n",
       "      <td id=\"T_3ea8c_row42_col5\" class=\"data row42 col5\" >layer2.3.conv1.weight</td>\n",
       "    </tr>\n",
       "    <tr>\n",
       "      <th id=\"T_3ea8c_level0_row43\" class=\"row_heading level0 row43\" >43</th>\n",
       "      <td id=\"T_3ea8c_row43_col0\" class=\"data row43 col0\" >residual_layers.1.blockgroup.3.left.1.weight</td>\n",
       "      <td id=\"T_3ea8c_row43_col1\" class=\"data row43 col1\" >(128,)</td>\n",
       "      <td id=\"T_3ea8c_row43_col2\" class=\"data row43 col2\" >128</td>\n",
       "      <td id=\"T_3ea8c_row43_col3\" class=\"data row43 col3\" >128</td>\n",
       "      <td id=\"T_3ea8c_row43_col4\" class=\"data row43 col4\" >(128,)</td>\n",
       "      <td id=\"T_3ea8c_row43_col5\" class=\"data row43 col5\" >layer2.3.bn1.weight</td>\n",
       "    </tr>\n",
       "    <tr>\n",
       "      <th id=\"T_3ea8c_level0_row44\" class=\"row_heading level0 row44\" >44</th>\n",
       "      <td id=\"T_3ea8c_row44_col0\" class=\"data row44 col0\" >residual_layers.1.blockgroup.3.left.1.bias</td>\n",
       "      <td id=\"T_3ea8c_row44_col1\" class=\"data row44 col1\" >(128,)</td>\n",
       "      <td id=\"T_3ea8c_row44_col2\" class=\"data row44 col2\" >128</td>\n",
       "      <td id=\"T_3ea8c_row44_col3\" class=\"data row44 col3\" >128</td>\n",
       "      <td id=\"T_3ea8c_row44_col4\" class=\"data row44 col4\" >(128,)</td>\n",
       "      <td id=\"T_3ea8c_row44_col5\" class=\"data row44 col5\" >layer2.3.bn1.bias</td>\n",
       "    </tr>\n",
       "    <tr>\n",
       "      <th id=\"T_3ea8c_level0_row45\" class=\"row_heading level0 row45\" >45</th>\n",
       "      <td id=\"T_3ea8c_row45_col0\" class=\"data row45 col0\" >residual_layers.1.blockgroup.3.left.3.weight</td>\n",
       "      <td id=\"T_3ea8c_row45_col1\" class=\"data row45 col1\" >(128, 128, 3, 3)</td>\n",
       "      <td id=\"T_3ea8c_row45_col2\" class=\"data row45 col2\" >147456</td>\n",
       "      <td id=\"T_3ea8c_row45_col3\" class=\"data row45 col3\" >147456</td>\n",
       "      <td id=\"T_3ea8c_row45_col4\" class=\"data row45 col4\" >(128, 128, 3, 3)</td>\n",
       "      <td id=\"T_3ea8c_row45_col5\" class=\"data row45 col5\" >layer2.3.conv2.weight</td>\n",
       "    </tr>\n",
       "    <tr>\n",
       "      <th id=\"T_3ea8c_level0_row46\" class=\"row_heading level0 row46\" >46</th>\n",
       "      <td id=\"T_3ea8c_row46_col0\" class=\"data row46 col0\" >residual_layers.1.blockgroup.3.left.4.weight</td>\n",
       "      <td id=\"T_3ea8c_row46_col1\" class=\"data row46 col1\" >(128,)</td>\n",
       "      <td id=\"T_3ea8c_row46_col2\" class=\"data row46 col2\" >128</td>\n",
       "      <td id=\"T_3ea8c_row46_col3\" class=\"data row46 col3\" >128</td>\n",
       "      <td id=\"T_3ea8c_row46_col4\" class=\"data row46 col4\" >(128,)</td>\n",
       "      <td id=\"T_3ea8c_row46_col5\" class=\"data row46 col5\" >layer2.3.bn2.weight</td>\n",
       "    </tr>\n",
       "    <tr>\n",
       "      <th id=\"T_3ea8c_level0_row47\" class=\"row_heading level0 row47\" >47</th>\n",
       "      <td id=\"T_3ea8c_row47_col0\" class=\"data row47 col0\" >residual_layers.1.blockgroup.3.left.4.bias</td>\n",
       "      <td id=\"T_3ea8c_row47_col1\" class=\"data row47 col1\" >(128,)</td>\n",
       "      <td id=\"T_3ea8c_row47_col2\" class=\"data row47 col2\" >128</td>\n",
       "      <td id=\"T_3ea8c_row47_col3\" class=\"data row47 col3\" >128</td>\n",
       "      <td id=\"T_3ea8c_row47_col4\" class=\"data row47 col4\" >(128,)</td>\n",
       "      <td id=\"T_3ea8c_row47_col5\" class=\"data row47 col5\" >layer2.3.bn2.bias</td>\n",
       "    </tr>\n",
       "    <tr>\n",
       "      <th id=\"T_3ea8c_level0_row48\" class=\"row_heading level0 row48\" >48</th>\n",
       "      <td id=\"T_3ea8c_row48_col0\" class=\"data row48 col0\" >residual_layers.2.blockgroup.0.left.0.weight</td>\n",
       "      <td id=\"T_3ea8c_row48_col1\" class=\"data row48 col1\" >(256, 128, 3, 3)</td>\n",
       "      <td id=\"T_3ea8c_row48_col2\" class=\"data row48 col2\" >294912</td>\n",
       "      <td id=\"T_3ea8c_row48_col3\" class=\"data row48 col3\" >294912</td>\n",
       "      <td id=\"T_3ea8c_row48_col4\" class=\"data row48 col4\" >(256, 128, 3, 3)</td>\n",
       "      <td id=\"T_3ea8c_row48_col5\" class=\"data row48 col5\" >layer3.0.conv1.weight</td>\n",
       "    </tr>\n",
       "    <tr>\n",
       "      <th id=\"T_3ea8c_level0_row49\" class=\"row_heading level0 row49\" >49</th>\n",
       "      <td id=\"T_3ea8c_row49_col0\" class=\"data row49 col0\" >residual_layers.2.blockgroup.0.left.1.weight</td>\n",
       "      <td id=\"T_3ea8c_row49_col1\" class=\"data row49 col1\" >(256,)</td>\n",
       "      <td id=\"T_3ea8c_row49_col2\" class=\"data row49 col2\" >256</td>\n",
       "      <td id=\"T_3ea8c_row49_col3\" class=\"data row49 col3\" >256</td>\n",
       "      <td id=\"T_3ea8c_row49_col4\" class=\"data row49 col4\" >(256,)</td>\n",
       "      <td id=\"T_3ea8c_row49_col5\" class=\"data row49 col5\" >layer3.0.bn1.weight</td>\n",
       "    </tr>\n",
       "    <tr>\n",
       "      <th id=\"T_3ea8c_level0_row50\" class=\"row_heading level0 row50\" >50</th>\n",
       "      <td id=\"T_3ea8c_row50_col0\" class=\"data row50 col0\" >residual_layers.2.blockgroup.0.left.1.bias</td>\n",
       "      <td id=\"T_3ea8c_row50_col1\" class=\"data row50 col1\" >(256,)</td>\n",
       "      <td id=\"T_3ea8c_row50_col2\" class=\"data row50 col2\" >256</td>\n",
       "      <td id=\"T_3ea8c_row50_col3\" class=\"data row50 col3\" >256</td>\n",
       "      <td id=\"T_3ea8c_row50_col4\" class=\"data row50 col4\" >(256,)</td>\n",
       "      <td id=\"T_3ea8c_row50_col5\" class=\"data row50 col5\" >layer3.0.bn1.bias</td>\n",
       "    </tr>\n",
       "    <tr>\n",
       "      <th id=\"T_3ea8c_level0_row51\" class=\"row_heading level0 row51\" >51</th>\n",
       "      <td id=\"T_3ea8c_row51_col0\" class=\"data row51 col0\" >residual_layers.2.blockgroup.0.left.3.weight</td>\n",
       "      <td id=\"T_3ea8c_row51_col1\" class=\"data row51 col1\" >(256, 256, 3, 3)</td>\n",
       "      <td id=\"T_3ea8c_row51_col2\" class=\"data row51 col2\" >589824</td>\n",
       "      <td id=\"T_3ea8c_row51_col3\" class=\"data row51 col3\" >589824</td>\n",
       "      <td id=\"T_3ea8c_row51_col4\" class=\"data row51 col4\" >(256, 256, 3, 3)</td>\n",
       "      <td id=\"T_3ea8c_row51_col5\" class=\"data row51 col5\" >layer3.0.conv2.weight</td>\n",
       "    </tr>\n",
       "    <tr>\n",
       "      <th id=\"T_3ea8c_level0_row52\" class=\"row_heading level0 row52\" >52</th>\n",
       "      <td id=\"T_3ea8c_row52_col0\" class=\"data row52 col0\" >residual_layers.2.blockgroup.0.left.4.weight</td>\n",
       "      <td id=\"T_3ea8c_row52_col1\" class=\"data row52 col1\" >(256,)</td>\n",
       "      <td id=\"T_3ea8c_row52_col2\" class=\"data row52 col2\" >256</td>\n",
       "      <td id=\"T_3ea8c_row52_col3\" class=\"data row52 col3\" >256</td>\n",
       "      <td id=\"T_3ea8c_row52_col4\" class=\"data row52 col4\" >(256,)</td>\n",
       "      <td id=\"T_3ea8c_row52_col5\" class=\"data row52 col5\" >layer3.0.bn2.weight</td>\n",
       "    </tr>\n",
       "    <tr>\n",
       "      <th id=\"T_3ea8c_level0_row53\" class=\"row_heading level0 row53\" >53</th>\n",
       "      <td id=\"T_3ea8c_row53_col0\" class=\"data row53 col0\" >residual_layers.2.blockgroup.0.left.4.bias</td>\n",
       "      <td id=\"T_3ea8c_row53_col1\" class=\"data row53 col1\" >(256,)</td>\n",
       "      <td id=\"T_3ea8c_row53_col2\" class=\"data row53 col2\" >256</td>\n",
       "      <td id=\"T_3ea8c_row53_col3\" class=\"data row53 col3\" >256</td>\n",
       "      <td id=\"T_3ea8c_row53_col4\" class=\"data row53 col4\" >(256,)</td>\n",
       "      <td id=\"T_3ea8c_row53_col5\" class=\"data row53 col5\" >layer3.0.bn2.bias</td>\n",
       "    </tr>\n",
       "    <tr>\n",
       "      <th id=\"T_3ea8c_level0_row54\" class=\"row_heading level0 row54\" >54</th>\n",
       "      <td id=\"T_3ea8c_row54_col0\" class=\"data row54 col0\" >residual_layers.2.blockgroup.0.right.0.weight</td>\n",
       "      <td id=\"T_3ea8c_row54_col1\" class=\"data row54 col1\" >(256, 128, 1, 1)</td>\n",
       "      <td id=\"T_3ea8c_row54_col2\" class=\"data row54 col2\" >32768</td>\n",
       "      <td id=\"T_3ea8c_row54_col3\" class=\"data row54 col3\" >32768</td>\n",
       "      <td id=\"T_3ea8c_row54_col4\" class=\"data row54 col4\" >(256, 128, 1, 1)</td>\n",
       "      <td id=\"T_3ea8c_row54_col5\" class=\"data row54 col5\" >layer3.0.downsample.0.weight</td>\n",
       "    </tr>\n",
       "    <tr>\n",
       "      <th id=\"T_3ea8c_level0_row55\" class=\"row_heading level0 row55\" >55</th>\n",
       "      <td id=\"T_3ea8c_row55_col0\" class=\"data row55 col0\" >residual_layers.2.blockgroup.0.right.1.weight</td>\n",
       "      <td id=\"T_3ea8c_row55_col1\" class=\"data row55 col1\" >(256,)</td>\n",
       "      <td id=\"T_3ea8c_row55_col2\" class=\"data row55 col2\" >256</td>\n",
       "      <td id=\"T_3ea8c_row55_col3\" class=\"data row55 col3\" >256</td>\n",
       "      <td id=\"T_3ea8c_row55_col4\" class=\"data row55 col4\" >(256,)</td>\n",
       "      <td id=\"T_3ea8c_row55_col5\" class=\"data row55 col5\" >layer3.0.downsample.1.weight</td>\n",
       "    </tr>\n",
       "    <tr>\n",
       "      <th id=\"T_3ea8c_level0_row56\" class=\"row_heading level0 row56\" >56</th>\n",
       "      <td id=\"T_3ea8c_row56_col0\" class=\"data row56 col0\" >residual_layers.2.blockgroup.0.right.1.bias</td>\n",
       "      <td id=\"T_3ea8c_row56_col1\" class=\"data row56 col1\" >(256,)</td>\n",
       "      <td id=\"T_3ea8c_row56_col2\" class=\"data row56 col2\" >256</td>\n",
       "      <td id=\"T_3ea8c_row56_col3\" class=\"data row56 col3\" >256</td>\n",
       "      <td id=\"T_3ea8c_row56_col4\" class=\"data row56 col4\" >(256,)</td>\n",
       "      <td id=\"T_3ea8c_row56_col5\" class=\"data row56 col5\" >layer3.0.downsample.1.bias</td>\n",
       "    </tr>\n",
       "    <tr>\n",
       "      <th id=\"T_3ea8c_level0_row57\" class=\"row_heading level0 row57\" >57</th>\n",
       "      <td id=\"T_3ea8c_row57_col0\" class=\"data row57 col0\" >residual_layers.2.blockgroup.1.left.0.weight</td>\n",
       "      <td id=\"T_3ea8c_row57_col1\" class=\"data row57 col1\" >(256, 256, 3, 3)</td>\n",
       "      <td id=\"T_3ea8c_row57_col2\" class=\"data row57 col2\" >589824</td>\n",
       "      <td id=\"T_3ea8c_row57_col3\" class=\"data row57 col3\" >589824</td>\n",
       "      <td id=\"T_3ea8c_row57_col4\" class=\"data row57 col4\" >(256, 256, 3, 3)</td>\n",
       "      <td id=\"T_3ea8c_row57_col5\" class=\"data row57 col5\" >layer3.1.conv1.weight</td>\n",
       "    </tr>\n",
       "    <tr>\n",
       "      <th id=\"T_3ea8c_level0_row58\" class=\"row_heading level0 row58\" >58</th>\n",
       "      <td id=\"T_3ea8c_row58_col0\" class=\"data row58 col0\" >residual_layers.2.blockgroup.1.left.1.weight</td>\n",
       "      <td id=\"T_3ea8c_row58_col1\" class=\"data row58 col1\" >(256,)</td>\n",
       "      <td id=\"T_3ea8c_row58_col2\" class=\"data row58 col2\" >256</td>\n",
       "      <td id=\"T_3ea8c_row58_col3\" class=\"data row58 col3\" >256</td>\n",
       "      <td id=\"T_3ea8c_row58_col4\" class=\"data row58 col4\" >(256,)</td>\n",
       "      <td id=\"T_3ea8c_row58_col5\" class=\"data row58 col5\" >layer3.1.bn1.weight</td>\n",
       "    </tr>\n",
       "    <tr>\n",
       "      <th id=\"T_3ea8c_level0_row59\" class=\"row_heading level0 row59\" >59</th>\n",
       "      <td id=\"T_3ea8c_row59_col0\" class=\"data row59 col0\" >residual_layers.2.blockgroup.1.left.1.bias</td>\n",
       "      <td id=\"T_3ea8c_row59_col1\" class=\"data row59 col1\" >(256,)</td>\n",
       "      <td id=\"T_3ea8c_row59_col2\" class=\"data row59 col2\" >256</td>\n",
       "      <td id=\"T_3ea8c_row59_col3\" class=\"data row59 col3\" >256</td>\n",
       "      <td id=\"T_3ea8c_row59_col4\" class=\"data row59 col4\" >(256,)</td>\n",
       "      <td id=\"T_3ea8c_row59_col5\" class=\"data row59 col5\" >layer3.1.bn1.bias</td>\n",
       "    </tr>\n",
       "    <tr>\n",
       "      <th id=\"T_3ea8c_level0_row60\" class=\"row_heading level0 row60\" >60</th>\n",
       "      <td id=\"T_3ea8c_row60_col0\" class=\"data row60 col0\" >residual_layers.2.blockgroup.1.left.3.weight</td>\n",
       "      <td id=\"T_3ea8c_row60_col1\" class=\"data row60 col1\" >(256, 256, 3, 3)</td>\n",
       "      <td id=\"T_3ea8c_row60_col2\" class=\"data row60 col2\" >589824</td>\n",
       "      <td id=\"T_3ea8c_row60_col3\" class=\"data row60 col3\" >589824</td>\n",
       "      <td id=\"T_3ea8c_row60_col4\" class=\"data row60 col4\" >(256, 256, 3, 3)</td>\n",
       "      <td id=\"T_3ea8c_row60_col5\" class=\"data row60 col5\" >layer3.1.conv2.weight</td>\n",
       "    </tr>\n",
       "    <tr>\n",
       "      <th id=\"T_3ea8c_level0_row61\" class=\"row_heading level0 row61\" >61</th>\n",
       "      <td id=\"T_3ea8c_row61_col0\" class=\"data row61 col0\" >residual_layers.2.blockgroup.1.left.4.weight</td>\n",
       "      <td id=\"T_3ea8c_row61_col1\" class=\"data row61 col1\" >(256,)</td>\n",
       "      <td id=\"T_3ea8c_row61_col2\" class=\"data row61 col2\" >256</td>\n",
       "      <td id=\"T_3ea8c_row61_col3\" class=\"data row61 col3\" >256</td>\n",
       "      <td id=\"T_3ea8c_row61_col4\" class=\"data row61 col4\" >(256,)</td>\n",
       "      <td id=\"T_3ea8c_row61_col5\" class=\"data row61 col5\" >layer3.1.bn2.weight</td>\n",
       "    </tr>\n",
       "    <tr>\n",
       "      <th id=\"T_3ea8c_level0_row62\" class=\"row_heading level0 row62\" >62</th>\n",
       "      <td id=\"T_3ea8c_row62_col0\" class=\"data row62 col0\" >residual_layers.2.blockgroup.1.left.4.bias</td>\n",
       "      <td id=\"T_3ea8c_row62_col1\" class=\"data row62 col1\" >(256,)</td>\n",
       "      <td id=\"T_3ea8c_row62_col2\" class=\"data row62 col2\" >256</td>\n",
       "      <td id=\"T_3ea8c_row62_col3\" class=\"data row62 col3\" >256</td>\n",
       "      <td id=\"T_3ea8c_row62_col4\" class=\"data row62 col4\" >(256,)</td>\n",
       "      <td id=\"T_3ea8c_row62_col5\" class=\"data row62 col5\" >layer3.1.bn2.bias</td>\n",
       "    </tr>\n",
       "    <tr>\n",
       "      <th id=\"T_3ea8c_level0_row63\" class=\"row_heading level0 row63\" >63</th>\n",
       "      <td id=\"T_3ea8c_row63_col0\" class=\"data row63 col0\" >residual_layers.2.blockgroup.2.left.0.weight</td>\n",
       "      <td id=\"T_3ea8c_row63_col1\" class=\"data row63 col1\" >(256, 256, 3, 3)</td>\n",
       "      <td id=\"T_3ea8c_row63_col2\" class=\"data row63 col2\" >589824</td>\n",
       "      <td id=\"T_3ea8c_row63_col3\" class=\"data row63 col3\" >589824</td>\n",
       "      <td id=\"T_3ea8c_row63_col4\" class=\"data row63 col4\" >(256, 256, 3, 3)</td>\n",
       "      <td id=\"T_3ea8c_row63_col5\" class=\"data row63 col5\" >layer3.2.conv1.weight</td>\n",
       "    </tr>\n",
       "    <tr>\n",
       "      <th id=\"T_3ea8c_level0_row64\" class=\"row_heading level0 row64\" >64</th>\n",
       "      <td id=\"T_3ea8c_row64_col0\" class=\"data row64 col0\" >residual_layers.2.blockgroup.2.left.1.weight</td>\n",
       "      <td id=\"T_3ea8c_row64_col1\" class=\"data row64 col1\" >(256,)</td>\n",
       "      <td id=\"T_3ea8c_row64_col2\" class=\"data row64 col2\" >256</td>\n",
       "      <td id=\"T_3ea8c_row64_col3\" class=\"data row64 col3\" >256</td>\n",
       "      <td id=\"T_3ea8c_row64_col4\" class=\"data row64 col4\" >(256,)</td>\n",
       "      <td id=\"T_3ea8c_row64_col5\" class=\"data row64 col5\" >layer3.2.bn1.weight</td>\n",
       "    </tr>\n",
       "    <tr>\n",
       "      <th id=\"T_3ea8c_level0_row65\" class=\"row_heading level0 row65\" >65</th>\n",
       "      <td id=\"T_3ea8c_row65_col0\" class=\"data row65 col0\" >residual_layers.2.blockgroup.2.left.1.bias</td>\n",
       "      <td id=\"T_3ea8c_row65_col1\" class=\"data row65 col1\" >(256,)</td>\n",
       "      <td id=\"T_3ea8c_row65_col2\" class=\"data row65 col2\" >256</td>\n",
       "      <td id=\"T_3ea8c_row65_col3\" class=\"data row65 col3\" >256</td>\n",
       "      <td id=\"T_3ea8c_row65_col4\" class=\"data row65 col4\" >(256,)</td>\n",
       "      <td id=\"T_3ea8c_row65_col5\" class=\"data row65 col5\" >layer3.2.bn1.bias</td>\n",
       "    </tr>\n",
       "    <tr>\n",
       "      <th id=\"T_3ea8c_level0_row66\" class=\"row_heading level0 row66\" >66</th>\n",
       "      <td id=\"T_3ea8c_row66_col0\" class=\"data row66 col0\" >residual_layers.2.blockgroup.2.left.3.weight</td>\n",
       "      <td id=\"T_3ea8c_row66_col1\" class=\"data row66 col1\" >(256, 256, 3, 3)</td>\n",
       "      <td id=\"T_3ea8c_row66_col2\" class=\"data row66 col2\" >589824</td>\n",
       "      <td id=\"T_3ea8c_row66_col3\" class=\"data row66 col3\" >589824</td>\n",
       "      <td id=\"T_3ea8c_row66_col4\" class=\"data row66 col4\" >(256, 256, 3, 3)</td>\n",
       "      <td id=\"T_3ea8c_row66_col5\" class=\"data row66 col5\" >layer3.2.conv2.weight</td>\n",
       "    </tr>\n",
       "    <tr>\n",
       "      <th id=\"T_3ea8c_level0_row67\" class=\"row_heading level0 row67\" >67</th>\n",
       "      <td id=\"T_3ea8c_row67_col0\" class=\"data row67 col0\" >residual_layers.2.blockgroup.2.left.4.weight</td>\n",
       "      <td id=\"T_3ea8c_row67_col1\" class=\"data row67 col1\" >(256,)</td>\n",
       "      <td id=\"T_3ea8c_row67_col2\" class=\"data row67 col2\" >256</td>\n",
       "      <td id=\"T_3ea8c_row67_col3\" class=\"data row67 col3\" >256</td>\n",
       "      <td id=\"T_3ea8c_row67_col4\" class=\"data row67 col4\" >(256,)</td>\n",
       "      <td id=\"T_3ea8c_row67_col5\" class=\"data row67 col5\" >layer3.2.bn2.weight</td>\n",
       "    </tr>\n",
       "    <tr>\n",
       "      <th id=\"T_3ea8c_level0_row68\" class=\"row_heading level0 row68\" >68</th>\n",
       "      <td id=\"T_3ea8c_row68_col0\" class=\"data row68 col0\" >residual_layers.2.blockgroup.2.left.4.bias</td>\n",
       "      <td id=\"T_3ea8c_row68_col1\" class=\"data row68 col1\" >(256,)</td>\n",
       "      <td id=\"T_3ea8c_row68_col2\" class=\"data row68 col2\" >256</td>\n",
       "      <td id=\"T_3ea8c_row68_col3\" class=\"data row68 col3\" >256</td>\n",
       "      <td id=\"T_3ea8c_row68_col4\" class=\"data row68 col4\" >(256,)</td>\n",
       "      <td id=\"T_3ea8c_row68_col5\" class=\"data row68 col5\" >layer3.2.bn2.bias</td>\n",
       "    </tr>\n",
       "    <tr>\n",
       "      <th id=\"T_3ea8c_level0_row69\" class=\"row_heading level0 row69\" >69</th>\n",
       "      <td id=\"T_3ea8c_row69_col0\" class=\"data row69 col0\" >residual_layers.2.blockgroup.3.left.0.weight</td>\n",
       "      <td id=\"T_3ea8c_row69_col1\" class=\"data row69 col1\" >(256, 256, 3, 3)</td>\n",
       "      <td id=\"T_3ea8c_row69_col2\" class=\"data row69 col2\" >589824</td>\n",
       "      <td id=\"T_3ea8c_row69_col3\" class=\"data row69 col3\" >589824</td>\n",
       "      <td id=\"T_3ea8c_row69_col4\" class=\"data row69 col4\" >(256, 256, 3, 3)</td>\n",
       "      <td id=\"T_3ea8c_row69_col5\" class=\"data row69 col5\" >layer3.3.conv1.weight</td>\n",
       "    </tr>\n",
       "    <tr>\n",
       "      <th id=\"T_3ea8c_level0_row70\" class=\"row_heading level0 row70\" >70</th>\n",
       "      <td id=\"T_3ea8c_row70_col0\" class=\"data row70 col0\" >residual_layers.2.blockgroup.3.left.1.weight</td>\n",
       "      <td id=\"T_3ea8c_row70_col1\" class=\"data row70 col1\" >(256,)</td>\n",
       "      <td id=\"T_3ea8c_row70_col2\" class=\"data row70 col2\" >256</td>\n",
       "      <td id=\"T_3ea8c_row70_col3\" class=\"data row70 col3\" >256</td>\n",
       "      <td id=\"T_3ea8c_row70_col4\" class=\"data row70 col4\" >(256,)</td>\n",
       "      <td id=\"T_3ea8c_row70_col5\" class=\"data row70 col5\" >layer3.3.bn1.weight</td>\n",
       "    </tr>\n",
       "    <tr>\n",
       "      <th id=\"T_3ea8c_level0_row71\" class=\"row_heading level0 row71\" >71</th>\n",
       "      <td id=\"T_3ea8c_row71_col0\" class=\"data row71 col0\" >residual_layers.2.blockgroup.3.left.1.bias</td>\n",
       "      <td id=\"T_3ea8c_row71_col1\" class=\"data row71 col1\" >(256,)</td>\n",
       "      <td id=\"T_3ea8c_row71_col2\" class=\"data row71 col2\" >256</td>\n",
       "      <td id=\"T_3ea8c_row71_col3\" class=\"data row71 col3\" >256</td>\n",
       "      <td id=\"T_3ea8c_row71_col4\" class=\"data row71 col4\" >(256,)</td>\n",
       "      <td id=\"T_3ea8c_row71_col5\" class=\"data row71 col5\" >layer3.3.bn1.bias</td>\n",
       "    </tr>\n",
       "    <tr>\n",
       "      <th id=\"T_3ea8c_level0_row72\" class=\"row_heading level0 row72\" >72</th>\n",
       "      <td id=\"T_3ea8c_row72_col0\" class=\"data row72 col0\" >residual_layers.2.blockgroup.3.left.3.weight</td>\n",
       "      <td id=\"T_3ea8c_row72_col1\" class=\"data row72 col1\" >(256, 256, 3, 3)</td>\n",
       "      <td id=\"T_3ea8c_row72_col2\" class=\"data row72 col2\" >589824</td>\n",
       "      <td id=\"T_3ea8c_row72_col3\" class=\"data row72 col3\" >589824</td>\n",
       "      <td id=\"T_3ea8c_row72_col4\" class=\"data row72 col4\" >(256, 256, 3, 3)</td>\n",
       "      <td id=\"T_3ea8c_row72_col5\" class=\"data row72 col5\" >layer3.3.conv2.weight</td>\n",
       "    </tr>\n",
       "    <tr>\n",
       "      <th id=\"T_3ea8c_level0_row73\" class=\"row_heading level0 row73\" >73</th>\n",
       "      <td id=\"T_3ea8c_row73_col0\" class=\"data row73 col0\" >residual_layers.2.blockgroup.3.left.4.weight</td>\n",
       "      <td id=\"T_3ea8c_row73_col1\" class=\"data row73 col1\" >(256,)</td>\n",
       "      <td id=\"T_3ea8c_row73_col2\" class=\"data row73 col2\" >256</td>\n",
       "      <td id=\"T_3ea8c_row73_col3\" class=\"data row73 col3\" >256</td>\n",
       "      <td id=\"T_3ea8c_row73_col4\" class=\"data row73 col4\" >(256,)</td>\n",
       "      <td id=\"T_3ea8c_row73_col5\" class=\"data row73 col5\" >layer3.3.bn2.weight</td>\n",
       "    </tr>\n",
       "    <tr>\n",
       "      <th id=\"T_3ea8c_level0_row74\" class=\"row_heading level0 row74\" >74</th>\n",
       "      <td id=\"T_3ea8c_row74_col0\" class=\"data row74 col0\" >residual_layers.2.blockgroup.3.left.4.bias</td>\n",
       "      <td id=\"T_3ea8c_row74_col1\" class=\"data row74 col1\" >(256,)</td>\n",
       "      <td id=\"T_3ea8c_row74_col2\" class=\"data row74 col2\" >256</td>\n",
       "      <td id=\"T_3ea8c_row74_col3\" class=\"data row74 col3\" >256</td>\n",
       "      <td id=\"T_3ea8c_row74_col4\" class=\"data row74 col4\" >(256,)</td>\n",
       "      <td id=\"T_3ea8c_row74_col5\" class=\"data row74 col5\" >layer3.3.bn2.bias</td>\n",
       "    </tr>\n",
       "    <tr>\n",
       "      <th id=\"T_3ea8c_level0_row75\" class=\"row_heading level0 row75\" >75</th>\n",
       "      <td id=\"T_3ea8c_row75_col0\" class=\"data row75 col0\" >residual_layers.2.blockgroup.4.left.0.weight</td>\n",
       "      <td id=\"T_3ea8c_row75_col1\" class=\"data row75 col1\" >(256, 256, 3, 3)</td>\n",
       "      <td id=\"T_3ea8c_row75_col2\" class=\"data row75 col2\" >589824</td>\n",
       "      <td id=\"T_3ea8c_row75_col3\" class=\"data row75 col3\" >589824</td>\n",
       "      <td id=\"T_3ea8c_row75_col4\" class=\"data row75 col4\" >(256, 256, 3, 3)</td>\n",
       "      <td id=\"T_3ea8c_row75_col5\" class=\"data row75 col5\" >layer3.4.conv1.weight</td>\n",
       "    </tr>\n",
       "    <tr>\n",
       "      <th id=\"T_3ea8c_level0_row76\" class=\"row_heading level0 row76\" >76</th>\n",
       "      <td id=\"T_3ea8c_row76_col0\" class=\"data row76 col0\" >residual_layers.2.blockgroup.4.left.1.weight</td>\n",
       "      <td id=\"T_3ea8c_row76_col1\" class=\"data row76 col1\" >(256,)</td>\n",
       "      <td id=\"T_3ea8c_row76_col2\" class=\"data row76 col2\" >256</td>\n",
       "      <td id=\"T_3ea8c_row76_col3\" class=\"data row76 col3\" >256</td>\n",
       "      <td id=\"T_3ea8c_row76_col4\" class=\"data row76 col4\" >(256,)</td>\n",
       "      <td id=\"T_3ea8c_row76_col5\" class=\"data row76 col5\" >layer3.4.bn1.weight</td>\n",
       "    </tr>\n",
       "    <tr>\n",
       "      <th id=\"T_3ea8c_level0_row77\" class=\"row_heading level0 row77\" >77</th>\n",
       "      <td id=\"T_3ea8c_row77_col0\" class=\"data row77 col0\" >residual_layers.2.blockgroup.4.left.1.bias</td>\n",
       "      <td id=\"T_3ea8c_row77_col1\" class=\"data row77 col1\" >(256,)</td>\n",
       "      <td id=\"T_3ea8c_row77_col2\" class=\"data row77 col2\" >256</td>\n",
       "      <td id=\"T_3ea8c_row77_col3\" class=\"data row77 col3\" >256</td>\n",
       "      <td id=\"T_3ea8c_row77_col4\" class=\"data row77 col4\" >(256,)</td>\n",
       "      <td id=\"T_3ea8c_row77_col5\" class=\"data row77 col5\" >layer3.4.bn1.bias</td>\n",
       "    </tr>\n",
       "    <tr>\n",
       "      <th id=\"T_3ea8c_level0_row78\" class=\"row_heading level0 row78\" >78</th>\n",
       "      <td id=\"T_3ea8c_row78_col0\" class=\"data row78 col0\" >residual_layers.2.blockgroup.4.left.3.weight</td>\n",
       "      <td id=\"T_3ea8c_row78_col1\" class=\"data row78 col1\" >(256, 256, 3, 3)</td>\n",
       "      <td id=\"T_3ea8c_row78_col2\" class=\"data row78 col2\" >589824</td>\n",
       "      <td id=\"T_3ea8c_row78_col3\" class=\"data row78 col3\" >589824</td>\n",
       "      <td id=\"T_3ea8c_row78_col4\" class=\"data row78 col4\" >(256, 256, 3, 3)</td>\n",
       "      <td id=\"T_3ea8c_row78_col5\" class=\"data row78 col5\" >layer3.4.conv2.weight</td>\n",
       "    </tr>\n",
       "    <tr>\n",
       "      <th id=\"T_3ea8c_level0_row79\" class=\"row_heading level0 row79\" >79</th>\n",
       "      <td id=\"T_3ea8c_row79_col0\" class=\"data row79 col0\" >residual_layers.2.blockgroup.4.left.4.weight</td>\n",
       "      <td id=\"T_3ea8c_row79_col1\" class=\"data row79 col1\" >(256,)</td>\n",
       "      <td id=\"T_3ea8c_row79_col2\" class=\"data row79 col2\" >256</td>\n",
       "      <td id=\"T_3ea8c_row79_col3\" class=\"data row79 col3\" >256</td>\n",
       "      <td id=\"T_3ea8c_row79_col4\" class=\"data row79 col4\" >(256,)</td>\n",
       "      <td id=\"T_3ea8c_row79_col5\" class=\"data row79 col5\" >layer3.4.bn2.weight</td>\n",
       "    </tr>\n",
       "    <tr>\n",
       "      <th id=\"T_3ea8c_level0_row80\" class=\"row_heading level0 row80\" >80</th>\n",
       "      <td id=\"T_3ea8c_row80_col0\" class=\"data row80 col0\" >residual_layers.2.blockgroup.4.left.4.bias</td>\n",
       "      <td id=\"T_3ea8c_row80_col1\" class=\"data row80 col1\" >(256,)</td>\n",
       "      <td id=\"T_3ea8c_row80_col2\" class=\"data row80 col2\" >256</td>\n",
       "      <td id=\"T_3ea8c_row80_col3\" class=\"data row80 col3\" >256</td>\n",
       "      <td id=\"T_3ea8c_row80_col4\" class=\"data row80 col4\" >(256,)</td>\n",
       "      <td id=\"T_3ea8c_row80_col5\" class=\"data row80 col5\" >layer3.4.bn2.bias</td>\n",
       "    </tr>\n",
       "    <tr>\n",
       "      <th id=\"T_3ea8c_level0_row81\" class=\"row_heading level0 row81\" >81</th>\n",
       "      <td id=\"T_3ea8c_row81_col0\" class=\"data row81 col0\" >residual_layers.2.blockgroup.5.left.0.weight</td>\n",
       "      <td id=\"T_3ea8c_row81_col1\" class=\"data row81 col1\" >(256, 256, 3, 3)</td>\n",
       "      <td id=\"T_3ea8c_row81_col2\" class=\"data row81 col2\" >589824</td>\n",
       "      <td id=\"T_3ea8c_row81_col3\" class=\"data row81 col3\" >589824</td>\n",
       "      <td id=\"T_3ea8c_row81_col4\" class=\"data row81 col4\" >(256, 256, 3, 3)</td>\n",
       "      <td id=\"T_3ea8c_row81_col5\" class=\"data row81 col5\" >layer3.5.conv1.weight</td>\n",
       "    </tr>\n",
       "    <tr>\n",
       "      <th id=\"T_3ea8c_level0_row82\" class=\"row_heading level0 row82\" >82</th>\n",
       "      <td id=\"T_3ea8c_row82_col0\" class=\"data row82 col0\" >residual_layers.2.blockgroup.5.left.1.weight</td>\n",
       "      <td id=\"T_3ea8c_row82_col1\" class=\"data row82 col1\" >(256,)</td>\n",
       "      <td id=\"T_3ea8c_row82_col2\" class=\"data row82 col2\" >256</td>\n",
       "      <td id=\"T_3ea8c_row82_col3\" class=\"data row82 col3\" >256</td>\n",
       "      <td id=\"T_3ea8c_row82_col4\" class=\"data row82 col4\" >(256,)</td>\n",
       "      <td id=\"T_3ea8c_row82_col5\" class=\"data row82 col5\" >layer3.5.bn1.weight</td>\n",
       "    </tr>\n",
       "    <tr>\n",
       "      <th id=\"T_3ea8c_level0_row83\" class=\"row_heading level0 row83\" >83</th>\n",
       "      <td id=\"T_3ea8c_row83_col0\" class=\"data row83 col0\" >residual_layers.2.blockgroup.5.left.1.bias</td>\n",
       "      <td id=\"T_3ea8c_row83_col1\" class=\"data row83 col1\" >(256,)</td>\n",
       "      <td id=\"T_3ea8c_row83_col2\" class=\"data row83 col2\" >256</td>\n",
       "      <td id=\"T_3ea8c_row83_col3\" class=\"data row83 col3\" >256</td>\n",
       "      <td id=\"T_3ea8c_row83_col4\" class=\"data row83 col4\" >(256,)</td>\n",
       "      <td id=\"T_3ea8c_row83_col5\" class=\"data row83 col5\" >layer3.5.bn1.bias</td>\n",
       "    </tr>\n",
       "    <tr>\n",
       "      <th id=\"T_3ea8c_level0_row84\" class=\"row_heading level0 row84\" >84</th>\n",
       "      <td id=\"T_3ea8c_row84_col0\" class=\"data row84 col0\" >residual_layers.2.blockgroup.5.left.3.weight</td>\n",
       "      <td id=\"T_3ea8c_row84_col1\" class=\"data row84 col1\" >(256, 256, 3, 3)</td>\n",
       "      <td id=\"T_3ea8c_row84_col2\" class=\"data row84 col2\" >589824</td>\n",
       "      <td id=\"T_3ea8c_row84_col3\" class=\"data row84 col3\" >589824</td>\n",
       "      <td id=\"T_3ea8c_row84_col4\" class=\"data row84 col4\" >(256, 256, 3, 3)</td>\n",
       "      <td id=\"T_3ea8c_row84_col5\" class=\"data row84 col5\" >layer3.5.conv2.weight</td>\n",
       "    </tr>\n",
       "    <tr>\n",
       "      <th id=\"T_3ea8c_level0_row85\" class=\"row_heading level0 row85\" >85</th>\n",
       "      <td id=\"T_3ea8c_row85_col0\" class=\"data row85 col0\" >residual_layers.2.blockgroup.5.left.4.weight</td>\n",
       "      <td id=\"T_3ea8c_row85_col1\" class=\"data row85 col1\" >(256,)</td>\n",
       "      <td id=\"T_3ea8c_row85_col2\" class=\"data row85 col2\" >256</td>\n",
       "      <td id=\"T_3ea8c_row85_col3\" class=\"data row85 col3\" >256</td>\n",
       "      <td id=\"T_3ea8c_row85_col4\" class=\"data row85 col4\" >(256,)</td>\n",
       "      <td id=\"T_3ea8c_row85_col5\" class=\"data row85 col5\" >layer3.5.bn2.weight</td>\n",
       "    </tr>\n",
       "    <tr>\n",
       "      <th id=\"T_3ea8c_level0_row86\" class=\"row_heading level0 row86\" >86</th>\n",
       "      <td id=\"T_3ea8c_row86_col0\" class=\"data row86 col0\" >residual_layers.2.blockgroup.5.left.4.bias</td>\n",
       "      <td id=\"T_3ea8c_row86_col1\" class=\"data row86 col1\" >(256,)</td>\n",
       "      <td id=\"T_3ea8c_row86_col2\" class=\"data row86 col2\" >256</td>\n",
       "      <td id=\"T_3ea8c_row86_col3\" class=\"data row86 col3\" >256</td>\n",
       "      <td id=\"T_3ea8c_row86_col4\" class=\"data row86 col4\" >(256,)</td>\n",
       "      <td id=\"T_3ea8c_row86_col5\" class=\"data row86 col5\" >layer3.5.bn2.bias</td>\n",
       "    </tr>\n",
       "    <tr>\n",
       "      <th id=\"T_3ea8c_level0_row87\" class=\"row_heading level0 row87\" >87</th>\n",
       "      <td id=\"T_3ea8c_row87_col0\" class=\"data row87 col0\" >residual_layers.3.blockgroup.0.left.0.weight</td>\n",
       "      <td id=\"T_3ea8c_row87_col1\" class=\"data row87 col1\" >(512, 256, 3, 3)</td>\n",
       "      <td id=\"T_3ea8c_row87_col2\" class=\"data row87 col2\" >1179648</td>\n",
       "      <td id=\"T_3ea8c_row87_col3\" class=\"data row87 col3\" >1179648</td>\n",
       "      <td id=\"T_3ea8c_row87_col4\" class=\"data row87 col4\" >(512, 256, 3, 3)</td>\n",
       "      <td id=\"T_3ea8c_row87_col5\" class=\"data row87 col5\" >layer4.0.conv1.weight</td>\n",
       "    </tr>\n",
       "    <tr>\n",
       "      <th id=\"T_3ea8c_level0_row88\" class=\"row_heading level0 row88\" >88</th>\n",
       "      <td id=\"T_3ea8c_row88_col0\" class=\"data row88 col0\" >residual_layers.3.blockgroup.0.left.1.weight</td>\n",
       "      <td id=\"T_3ea8c_row88_col1\" class=\"data row88 col1\" >(512,)</td>\n",
       "      <td id=\"T_3ea8c_row88_col2\" class=\"data row88 col2\" >512</td>\n",
       "      <td id=\"T_3ea8c_row88_col3\" class=\"data row88 col3\" >512</td>\n",
       "      <td id=\"T_3ea8c_row88_col4\" class=\"data row88 col4\" >(512,)</td>\n",
       "      <td id=\"T_3ea8c_row88_col5\" class=\"data row88 col5\" >layer4.0.bn1.weight</td>\n",
       "    </tr>\n",
       "    <tr>\n",
       "      <th id=\"T_3ea8c_level0_row89\" class=\"row_heading level0 row89\" >89</th>\n",
       "      <td id=\"T_3ea8c_row89_col0\" class=\"data row89 col0\" >residual_layers.3.blockgroup.0.left.1.bias</td>\n",
       "      <td id=\"T_3ea8c_row89_col1\" class=\"data row89 col1\" >(512,)</td>\n",
       "      <td id=\"T_3ea8c_row89_col2\" class=\"data row89 col2\" >512</td>\n",
       "      <td id=\"T_3ea8c_row89_col3\" class=\"data row89 col3\" >512</td>\n",
       "      <td id=\"T_3ea8c_row89_col4\" class=\"data row89 col4\" >(512,)</td>\n",
       "      <td id=\"T_3ea8c_row89_col5\" class=\"data row89 col5\" >layer4.0.bn1.bias</td>\n",
       "    </tr>\n",
       "    <tr>\n",
       "      <th id=\"T_3ea8c_level0_row90\" class=\"row_heading level0 row90\" >90</th>\n",
       "      <td id=\"T_3ea8c_row90_col0\" class=\"data row90 col0\" >residual_layers.3.blockgroup.0.left.3.weight</td>\n",
       "      <td id=\"T_3ea8c_row90_col1\" class=\"data row90 col1\" >(512, 512, 3, 3)</td>\n",
       "      <td id=\"T_3ea8c_row90_col2\" class=\"data row90 col2\" >2359296</td>\n",
       "      <td id=\"T_3ea8c_row90_col3\" class=\"data row90 col3\" >2359296</td>\n",
       "      <td id=\"T_3ea8c_row90_col4\" class=\"data row90 col4\" >(512, 512, 3, 3)</td>\n",
       "      <td id=\"T_3ea8c_row90_col5\" class=\"data row90 col5\" >layer4.0.conv2.weight</td>\n",
       "    </tr>\n",
       "    <tr>\n",
       "      <th id=\"T_3ea8c_level0_row91\" class=\"row_heading level0 row91\" >91</th>\n",
       "      <td id=\"T_3ea8c_row91_col0\" class=\"data row91 col0\" >residual_layers.3.blockgroup.0.left.4.weight</td>\n",
       "      <td id=\"T_3ea8c_row91_col1\" class=\"data row91 col1\" >(512,)</td>\n",
       "      <td id=\"T_3ea8c_row91_col2\" class=\"data row91 col2\" >512</td>\n",
       "      <td id=\"T_3ea8c_row91_col3\" class=\"data row91 col3\" >512</td>\n",
       "      <td id=\"T_3ea8c_row91_col4\" class=\"data row91 col4\" >(512,)</td>\n",
       "      <td id=\"T_3ea8c_row91_col5\" class=\"data row91 col5\" >layer4.0.bn2.weight</td>\n",
       "    </tr>\n",
       "    <tr>\n",
       "      <th id=\"T_3ea8c_level0_row92\" class=\"row_heading level0 row92\" >92</th>\n",
       "      <td id=\"T_3ea8c_row92_col0\" class=\"data row92 col0\" >residual_layers.3.blockgroup.0.left.4.bias</td>\n",
       "      <td id=\"T_3ea8c_row92_col1\" class=\"data row92 col1\" >(512,)</td>\n",
       "      <td id=\"T_3ea8c_row92_col2\" class=\"data row92 col2\" >512</td>\n",
       "      <td id=\"T_3ea8c_row92_col3\" class=\"data row92 col3\" >512</td>\n",
       "      <td id=\"T_3ea8c_row92_col4\" class=\"data row92 col4\" >(512,)</td>\n",
       "      <td id=\"T_3ea8c_row92_col5\" class=\"data row92 col5\" >layer4.0.bn2.bias</td>\n",
       "    </tr>\n",
       "    <tr>\n",
       "      <th id=\"T_3ea8c_level0_row93\" class=\"row_heading level0 row93\" >93</th>\n",
       "      <td id=\"T_3ea8c_row93_col0\" class=\"data row93 col0\" >residual_layers.3.blockgroup.0.right.0.weight</td>\n",
       "      <td id=\"T_3ea8c_row93_col1\" class=\"data row93 col1\" >(512, 256, 1, 1)</td>\n",
       "      <td id=\"T_3ea8c_row93_col2\" class=\"data row93 col2\" >131072</td>\n",
       "      <td id=\"T_3ea8c_row93_col3\" class=\"data row93 col3\" >131072</td>\n",
       "      <td id=\"T_3ea8c_row93_col4\" class=\"data row93 col4\" >(512, 256, 1, 1)</td>\n",
       "      <td id=\"T_3ea8c_row93_col5\" class=\"data row93 col5\" >layer4.0.downsample.0.weight</td>\n",
       "    </tr>\n",
       "    <tr>\n",
       "      <th id=\"T_3ea8c_level0_row94\" class=\"row_heading level0 row94\" >94</th>\n",
       "      <td id=\"T_3ea8c_row94_col0\" class=\"data row94 col0\" >residual_layers.3.blockgroup.0.right.1.weight</td>\n",
       "      <td id=\"T_3ea8c_row94_col1\" class=\"data row94 col1\" >(512,)</td>\n",
       "      <td id=\"T_3ea8c_row94_col2\" class=\"data row94 col2\" >512</td>\n",
       "      <td id=\"T_3ea8c_row94_col3\" class=\"data row94 col3\" >512</td>\n",
       "      <td id=\"T_3ea8c_row94_col4\" class=\"data row94 col4\" >(512,)</td>\n",
       "      <td id=\"T_3ea8c_row94_col5\" class=\"data row94 col5\" >layer4.0.downsample.1.weight</td>\n",
       "    </tr>\n",
       "    <tr>\n",
       "      <th id=\"T_3ea8c_level0_row95\" class=\"row_heading level0 row95\" >95</th>\n",
       "      <td id=\"T_3ea8c_row95_col0\" class=\"data row95 col0\" >residual_layers.3.blockgroup.0.right.1.bias</td>\n",
       "      <td id=\"T_3ea8c_row95_col1\" class=\"data row95 col1\" >(512,)</td>\n",
       "      <td id=\"T_3ea8c_row95_col2\" class=\"data row95 col2\" >512</td>\n",
       "      <td id=\"T_3ea8c_row95_col3\" class=\"data row95 col3\" >512</td>\n",
       "      <td id=\"T_3ea8c_row95_col4\" class=\"data row95 col4\" >(512,)</td>\n",
       "      <td id=\"T_3ea8c_row95_col5\" class=\"data row95 col5\" >layer4.0.downsample.1.bias</td>\n",
       "    </tr>\n",
       "    <tr>\n",
       "      <th id=\"T_3ea8c_level0_row96\" class=\"row_heading level0 row96\" >96</th>\n",
       "      <td id=\"T_3ea8c_row96_col0\" class=\"data row96 col0\" >residual_layers.3.blockgroup.1.left.0.weight</td>\n",
       "      <td id=\"T_3ea8c_row96_col1\" class=\"data row96 col1\" >(512, 512, 3, 3)</td>\n",
       "      <td id=\"T_3ea8c_row96_col2\" class=\"data row96 col2\" >2359296</td>\n",
       "      <td id=\"T_3ea8c_row96_col3\" class=\"data row96 col3\" >2359296</td>\n",
       "      <td id=\"T_3ea8c_row96_col4\" class=\"data row96 col4\" >(512, 512, 3, 3)</td>\n",
       "      <td id=\"T_3ea8c_row96_col5\" class=\"data row96 col5\" >layer4.1.conv1.weight</td>\n",
       "    </tr>\n",
       "    <tr>\n",
       "      <th id=\"T_3ea8c_level0_row97\" class=\"row_heading level0 row97\" >97</th>\n",
       "      <td id=\"T_3ea8c_row97_col0\" class=\"data row97 col0\" >residual_layers.3.blockgroup.1.left.1.weight</td>\n",
       "      <td id=\"T_3ea8c_row97_col1\" class=\"data row97 col1\" >(512,)</td>\n",
       "      <td id=\"T_3ea8c_row97_col2\" class=\"data row97 col2\" >512</td>\n",
       "      <td id=\"T_3ea8c_row97_col3\" class=\"data row97 col3\" >512</td>\n",
       "      <td id=\"T_3ea8c_row97_col4\" class=\"data row97 col4\" >(512,)</td>\n",
       "      <td id=\"T_3ea8c_row97_col5\" class=\"data row97 col5\" >layer4.1.bn1.weight</td>\n",
       "    </tr>\n",
       "    <tr>\n",
       "      <th id=\"T_3ea8c_level0_row98\" class=\"row_heading level0 row98\" >98</th>\n",
       "      <td id=\"T_3ea8c_row98_col0\" class=\"data row98 col0\" >residual_layers.3.blockgroup.1.left.1.bias</td>\n",
       "      <td id=\"T_3ea8c_row98_col1\" class=\"data row98 col1\" >(512,)</td>\n",
       "      <td id=\"T_3ea8c_row98_col2\" class=\"data row98 col2\" >512</td>\n",
       "      <td id=\"T_3ea8c_row98_col3\" class=\"data row98 col3\" >512</td>\n",
       "      <td id=\"T_3ea8c_row98_col4\" class=\"data row98 col4\" >(512,)</td>\n",
       "      <td id=\"T_3ea8c_row98_col5\" class=\"data row98 col5\" >layer4.1.bn1.bias</td>\n",
       "    </tr>\n",
       "    <tr>\n",
       "      <th id=\"T_3ea8c_level0_row99\" class=\"row_heading level0 row99\" >99</th>\n",
       "      <td id=\"T_3ea8c_row99_col0\" class=\"data row99 col0\" >residual_layers.3.blockgroup.1.left.3.weight</td>\n",
       "      <td id=\"T_3ea8c_row99_col1\" class=\"data row99 col1\" >(512, 512, 3, 3)</td>\n",
       "      <td id=\"T_3ea8c_row99_col2\" class=\"data row99 col2\" >2359296</td>\n",
       "      <td id=\"T_3ea8c_row99_col3\" class=\"data row99 col3\" >2359296</td>\n",
       "      <td id=\"T_3ea8c_row99_col4\" class=\"data row99 col4\" >(512, 512, 3, 3)</td>\n",
       "      <td id=\"T_3ea8c_row99_col5\" class=\"data row99 col5\" >layer4.1.conv2.weight</td>\n",
       "    </tr>\n",
       "    <tr>\n",
       "      <th id=\"T_3ea8c_level0_row100\" class=\"row_heading level0 row100\" >100</th>\n",
       "      <td id=\"T_3ea8c_row100_col0\" class=\"data row100 col0\" >residual_layers.3.blockgroup.1.left.4.weight</td>\n",
       "      <td id=\"T_3ea8c_row100_col1\" class=\"data row100 col1\" >(512,)</td>\n",
       "      <td id=\"T_3ea8c_row100_col2\" class=\"data row100 col2\" >512</td>\n",
       "      <td id=\"T_3ea8c_row100_col3\" class=\"data row100 col3\" >512</td>\n",
       "      <td id=\"T_3ea8c_row100_col4\" class=\"data row100 col4\" >(512,)</td>\n",
       "      <td id=\"T_3ea8c_row100_col5\" class=\"data row100 col5\" >layer4.1.bn2.weight</td>\n",
       "    </tr>\n",
       "    <tr>\n",
       "      <th id=\"T_3ea8c_level0_row101\" class=\"row_heading level0 row101\" >101</th>\n",
       "      <td id=\"T_3ea8c_row101_col0\" class=\"data row101 col0\" >residual_layers.3.blockgroup.1.left.4.bias</td>\n",
       "      <td id=\"T_3ea8c_row101_col1\" class=\"data row101 col1\" >(512,)</td>\n",
       "      <td id=\"T_3ea8c_row101_col2\" class=\"data row101 col2\" >512</td>\n",
       "      <td id=\"T_3ea8c_row101_col3\" class=\"data row101 col3\" >512</td>\n",
       "      <td id=\"T_3ea8c_row101_col4\" class=\"data row101 col4\" >(512,)</td>\n",
       "      <td id=\"T_3ea8c_row101_col5\" class=\"data row101 col5\" >layer4.1.bn2.bias</td>\n",
       "    </tr>\n",
       "    <tr>\n",
       "      <th id=\"T_3ea8c_level0_row102\" class=\"row_heading level0 row102\" >102</th>\n",
       "      <td id=\"T_3ea8c_row102_col0\" class=\"data row102 col0\" >residual_layers.3.blockgroup.2.left.0.weight</td>\n",
       "      <td id=\"T_3ea8c_row102_col1\" class=\"data row102 col1\" >(512, 512, 3, 3)</td>\n",
       "      <td id=\"T_3ea8c_row102_col2\" class=\"data row102 col2\" >2359296</td>\n",
       "      <td id=\"T_3ea8c_row102_col3\" class=\"data row102 col3\" >2359296</td>\n",
       "      <td id=\"T_3ea8c_row102_col4\" class=\"data row102 col4\" >(512, 512, 3, 3)</td>\n",
       "      <td id=\"T_3ea8c_row102_col5\" class=\"data row102 col5\" >layer4.2.conv1.weight</td>\n",
       "    </tr>\n",
       "    <tr>\n",
       "      <th id=\"T_3ea8c_level0_row103\" class=\"row_heading level0 row103\" >103</th>\n",
       "      <td id=\"T_3ea8c_row103_col0\" class=\"data row103 col0\" >residual_layers.3.blockgroup.2.left.1.weight</td>\n",
       "      <td id=\"T_3ea8c_row103_col1\" class=\"data row103 col1\" >(512,)</td>\n",
       "      <td id=\"T_3ea8c_row103_col2\" class=\"data row103 col2\" >512</td>\n",
       "      <td id=\"T_3ea8c_row103_col3\" class=\"data row103 col3\" >512</td>\n",
       "      <td id=\"T_3ea8c_row103_col4\" class=\"data row103 col4\" >(512,)</td>\n",
       "      <td id=\"T_3ea8c_row103_col5\" class=\"data row103 col5\" >layer4.2.bn1.weight</td>\n",
       "    </tr>\n",
       "    <tr>\n",
       "      <th id=\"T_3ea8c_level0_row104\" class=\"row_heading level0 row104\" >104</th>\n",
       "      <td id=\"T_3ea8c_row104_col0\" class=\"data row104 col0\" >residual_layers.3.blockgroup.2.left.1.bias</td>\n",
       "      <td id=\"T_3ea8c_row104_col1\" class=\"data row104 col1\" >(512,)</td>\n",
       "      <td id=\"T_3ea8c_row104_col2\" class=\"data row104 col2\" >512</td>\n",
       "      <td id=\"T_3ea8c_row104_col3\" class=\"data row104 col3\" >512</td>\n",
       "      <td id=\"T_3ea8c_row104_col4\" class=\"data row104 col4\" >(512,)</td>\n",
       "      <td id=\"T_3ea8c_row104_col5\" class=\"data row104 col5\" >layer4.2.bn1.bias</td>\n",
       "    </tr>\n",
       "    <tr>\n",
       "      <th id=\"T_3ea8c_level0_row105\" class=\"row_heading level0 row105\" >105</th>\n",
       "      <td id=\"T_3ea8c_row105_col0\" class=\"data row105 col0\" >residual_layers.3.blockgroup.2.left.3.weight</td>\n",
       "      <td id=\"T_3ea8c_row105_col1\" class=\"data row105 col1\" >(512, 512, 3, 3)</td>\n",
       "      <td id=\"T_3ea8c_row105_col2\" class=\"data row105 col2\" >2359296</td>\n",
       "      <td id=\"T_3ea8c_row105_col3\" class=\"data row105 col3\" >2359296</td>\n",
       "      <td id=\"T_3ea8c_row105_col4\" class=\"data row105 col4\" >(512, 512, 3, 3)</td>\n",
       "      <td id=\"T_3ea8c_row105_col5\" class=\"data row105 col5\" >layer4.2.conv2.weight</td>\n",
       "    </tr>\n",
       "    <tr>\n",
       "      <th id=\"T_3ea8c_level0_row106\" class=\"row_heading level0 row106\" >106</th>\n",
       "      <td id=\"T_3ea8c_row106_col0\" class=\"data row106 col0\" >residual_layers.3.blockgroup.2.left.4.weight</td>\n",
       "      <td id=\"T_3ea8c_row106_col1\" class=\"data row106 col1\" >(512,)</td>\n",
       "      <td id=\"T_3ea8c_row106_col2\" class=\"data row106 col2\" >512</td>\n",
       "      <td id=\"T_3ea8c_row106_col3\" class=\"data row106 col3\" >512</td>\n",
       "      <td id=\"T_3ea8c_row106_col4\" class=\"data row106 col4\" >(512,)</td>\n",
       "      <td id=\"T_3ea8c_row106_col5\" class=\"data row106 col5\" >layer4.2.bn2.weight</td>\n",
       "    </tr>\n",
       "    <tr>\n",
       "      <th id=\"T_3ea8c_level0_row107\" class=\"row_heading level0 row107\" >107</th>\n",
       "      <td id=\"T_3ea8c_row107_col0\" class=\"data row107 col0\" >residual_layers.3.blockgroup.2.left.4.bias</td>\n",
       "      <td id=\"T_3ea8c_row107_col1\" class=\"data row107 col1\" >(512,)</td>\n",
       "      <td id=\"T_3ea8c_row107_col2\" class=\"data row107 col2\" >512</td>\n",
       "      <td id=\"T_3ea8c_row107_col3\" class=\"data row107 col3\" >512</td>\n",
       "      <td id=\"T_3ea8c_row107_col4\" class=\"data row107 col4\" >(512,)</td>\n",
       "      <td id=\"T_3ea8c_row107_col5\" class=\"data row107 col5\" >layer4.2.bn2.bias</td>\n",
       "    </tr>\n",
       "    <tr>\n",
       "      <th id=\"T_3ea8c_level0_row108\" class=\"row_heading level0 row108\" >108</th>\n",
       "      <td id=\"T_3ea8c_row108_col0\" class=\"data row108 col0\" >out_layers.1.weight</td>\n",
       "      <td id=\"T_3ea8c_row108_col1\" class=\"data row108 col1\" >(1000, 512)</td>\n",
       "      <td id=\"T_3ea8c_row108_col2\" class=\"data row108 col2\" >512000</td>\n",
       "      <td id=\"T_3ea8c_row108_col3\" class=\"data row108 col3\" >512000</td>\n",
       "      <td id=\"T_3ea8c_row108_col4\" class=\"data row108 col4\" >(1000, 512)</td>\n",
       "      <td id=\"T_3ea8c_row108_col5\" class=\"data row108 col5\" >fc.weight</td>\n",
       "    </tr>\n",
       "    <tr>\n",
       "      <th id=\"T_3ea8c_level0_row109\" class=\"row_heading level0 row109\" >109</th>\n",
       "      <td id=\"T_3ea8c_row109_col0\" class=\"data row109 col0\" >out_layers.1.bias</td>\n",
       "      <td id=\"T_3ea8c_row109_col1\" class=\"data row109 col1\" >(1000,)</td>\n",
       "      <td id=\"T_3ea8c_row109_col2\" class=\"data row109 col2\" >1000</td>\n",
       "      <td id=\"T_3ea8c_row109_col3\" class=\"data row109 col3\" >1000</td>\n",
       "      <td id=\"T_3ea8c_row109_col4\" class=\"data row109 col4\" >(1000,)</td>\n",
       "      <td id=\"T_3ea8c_row109_col5\" class=\"data row109 col5\" >fc.bias</td>\n",
       "    </tr>\n",
       "  </tbody>\n",
       "</table>\n"
      ],
      "text/plain": [
       "<pandas.io.formats.style.Styler at 0x221eccbda50>"
      ]
     },
     "metadata": {},
     "output_type": "display_data"
    }
   ],
   "source": [
    "print_param_count(my_resnet, pretrained_resnet)"
   ]
  },
  {
   "cell_type": "markdown",
   "metadata": {},
   "source": [
    "You'll hopefully see something like the image below (the layer names not necessarily matching, but the parameter counts & shapes hopefully matching).\n",
    "\n",
    "<img src=\"https://raw.githubusercontent.com/callummcdougall/Fundamentals/main/images/resnet-compared.png\" width=\"900\">\n",
    "\n",
    "Tweaking your model until all the layers match up might be a difficult and frustrating exercise at times! However, it's a pretty good example of the kind of low-level model implementation and debugging that is important for your growth as ML engineers. We'll be doing a few more model-building exercises similar to these in later sections."
   ]
  },
  {
   "cell_type": "markdown",
   "metadata": {},
   "source": [
    "## Running Your Model\n",
    "\n",
    "We've provided you with some images for your model to classify:"
   ]
  },
  {
   "cell_type": "code",
   "execution_count": 32,
   "metadata": {},
   "outputs": [],
   "source": [
    "IMAGE_FILENAMES = [\n",
    "    \"chimpanzee.jpg\",\n",
    "    \"golden_retriever.jpg\",\n",
    "    \"platypus.jpg\",\n",
    "    \"frogs.jpg\",\n",
    "    \"fireworks.jpg\",\n",
    "    \"astronaut.jpg\",\n",
    "    \"iguana.jpg\",\n",
    "    \"volcano.jpg\",\n",
    "    \"goofy.jpg\",\n",
    "    \"dragonfly.jpg\",\n",
    "]\n",
    "\n",
    "IMAGE_FOLDER = section_dir / \"resnet_inputs\"\n",
    "\n",
    "images = [Image.open(IMAGE_FOLDER / filename) for filename in IMAGE_FILENAMES]"
   ]
  },
  {
   "cell_type": "markdown",
   "metadata": {},
   "source": [
    "Our `images` are of type `PIL.Image.Image`, so we can just call them in a cell to display them."
   ]
  },
  {
   "cell_type": "code",
   "execution_count": 41,
   "metadata": {},
   "outputs": [
    {
     "data": {
      "image/jpeg": "[encoded data removed]",
      "image/png": "[encoded data removed]",
      "text/plain": [
       "<PIL.JpegImagePlugin.JpegImageFile image mode=RGB size=400x400>"
      ]
     },
     "execution_count": 41,
     "metadata": {},
     "output_type": "execute_result"
    }
   ],
   "source": [
    "images[1]"
   ]
  },
  {
   "cell_type": "markdown",
   "metadata": {},
   "source": [
    "We now need to define a `transform` object like we did for MNIST. We will use the same transforms to convert the PIL image to a tensor, and to normalize it. But we also want to resize the images to `height=224, width=224`, because not all of them start out with this size and we need them to be consistent before passing them through our model.\n",
    "\n",
    "In the normalization step, we'll use a mean of `[0.485, 0.456, 0.406]`, and a standard deviation of `[0.229, 0.224, 0.225]` (these are the mean and std dev of images from [ImageNet](https://www.image-net.org/)). Note that the means and std devs have three elements, because ImageNet contains RGB rather than monochrome images, and we're normalising over each of the three RGB channels separately."
   ]
  },
  {
   "cell_type": "code",
   "execution_count": 42,
   "metadata": {},
   "outputs": [],
   "source": [
    "IMAGE_SIZE = 224\n",
    "IMAGENET_MEAN = [0.485, 0.456, 0.406]\n",
    "IMAGENET_STD = [0.229, 0.224, 0.225]\n",
    "\n",
    "IMAGENET_TRANSFORM = transforms.Compose([\n",
    "    transforms.ToTensor(),\n",
    "    transforms.Resize((IMAGE_SIZE, IMAGE_SIZE)),\n",
    "    transforms.Normalize(mean=IMAGENET_MEAN, std=IMAGENET_STD),\n",
    "])\n",
    "\n",
    "prepared_images = t.stack([IMAGENET_TRANSFORM(img) for img in images], dim=0)\n",
    "\n",
    "assert prepared_images.shape == (len(images), 3, IMAGE_SIZE, IMAGE_SIZE)"
   ]
  }
 ],
 "metadata": {
  "kernelspec": {
   "display_name": "arena",
   "language": "python",
   "name": "python3"
  },
  "language_info": {
   "codemirror_mode": {
    "name": "ipython",
    "version": 3
   },
   "file_extension": ".py",
   "mimetype": "text/x-python",
   "name": "python",
   "nbconvert_exporter": "python",
   "pygments_lexer": "ipython3",
   "version": "3.11.9"
  }
 },
 "nbformat": 4,
 "nbformat_minor": 2
}
